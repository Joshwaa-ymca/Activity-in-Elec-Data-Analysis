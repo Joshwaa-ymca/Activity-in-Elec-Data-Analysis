{
 "cells": [
  {
   "cell_type": "code",
   "execution_count": 3,
   "id": "8747a119-527b-4c66-874b-3a315f7ee359",
   "metadata": {},
   "outputs": [],
   "source": [
    "import pandas as pd\n",
    "import numpy as py\n",
    "import warnings\n",
    "import matplotlib.pyplot as plt\n",
    "warnings.filterwarnings('ignore')\n",
    "import seaborn as sns\n",
    "import folium\n",
    "from folium.plugins import HeatMap"
   ]
  },
  {
   "cell_type": "code",
   "execution_count": 5,
   "id": "30c4bed6-c3ba-40a7-8262-9bfca08b4464",
   "metadata": {},
   "outputs": [
    {
     "name": "stdout",
     "output_type": "stream",
     "text": [
      "Defaulting to user installation because normal site-packages is not writeable\n",
      "Requirement already satisfied: folium in c:\\users\\admin\\appdata\\roaming\\python\\python313\\site-packages (0.20.0)\n",
      "Requirement already satisfied: branca>=0.6.0 in c:\\users\\admin\\appdata\\roaming\\python\\python313\\site-packages (from folium) (0.8.1)\n",
      "Requirement already satisfied: jinja2>=2.9 in c:\\users\\admin\\appdata\\roaming\\python\\python313\\site-packages (from folium) (3.1.6)\n",
      "Requirement already satisfied: numpy in c:\\users\\admin\\appdata\\roaming\\python\\python313\\site-packages (from folium) (2.3.2)\n",
      "Requirement already satisfied: requests in c:\\users\\admin\\appdata\\roaming\\python\\python313\\site-packages (from folium) (2.32.4)\n",
      "Requirement already satisfied: xyzservices in c:\\users\\admin\\appdata\\roaming\\python\\python313\\site-packages (from folium) (2025.4.0)\n",
      "Requirement already satisfied: MarkupSafe>=2.0 in c:\\users\\admin\\appdata\\roaming\\python\\python313\\site-packages (from jinja2>=2.9->folium) (3.0.2)\n",
      "Requirement already satisfied: charset_normalizer<4,>=2 in c:\\users\\admin\\appdata\\roaming\\python\\python313\\site-packages (from requests->folium) (3.4.3)\n",
      "Requirement already satisfied: idna<4,>=2.5 in c:\\users\\admin\\appdata\\roaming\\python\\python313\\site-packages (from requests->folium) (3.10)\n",
      "Requirement already satisfied: urllib3<3,>=1.21.1 in c:\\users\\admin\\appdata\\roaming\\python\\python313\\site-packages (from requests->folium) (2.5.0)\n",
      "Requirement already satisfied: certifi>=2017.4.17 in c:\\users\\admin\\appdata\\roaming\\python\\python313\\site-packages (from requests->folium) (2025.8.3)\n",
      "Note: you may need to restart the kernel to use updated packages.\n"
     ]
    },
    {
     "name": "stderr",
     "output_type": "stream",
     "text": [
      "\n",
      "[notice] A new release of pip is available: 24.3.1 -> 25.2\n",
      "[notice] To update, run: python.exe -m pip install --upgrade pip\n"
     ]
    }
   ],
   "source": [
    "pip install folium"
   ]
  },
  {
   "cell_type": "markdown",
   "id": "d103c5b9-9448-431d-a9f6-3b70851418bd",
   "metadata": {},
   "source": [
    "<h1> Data Frame</h1>"
   ]
  },
  {
   "cell_type": "code",
   "execution_count": 6,
   "id": "fbbd8158-3b2d-42e5-bec2-87ebf0747beb",
   "metadata": {},
   "outputs": [],
   "source": [
    "sin = pd.read_csv('Datasets\\\\Chicago_Crimes.csv')\n"
   ]
  },
  {
   "cell_type": "code",
   "execution_count": 7,
   "id": "2f325d7b-d6b9-4807-b1c5-378d368c9a64",
   "metadata": {},
   "outputs": [
    {
     "data": {
      "text/html": [
       "<div>\n",
       "<style scoped>\n",
       "    .dataframe tbody tr th:only-of-type {\n",
       "        vertical-align: middle;\n",
       "    }\n",
       "\n",
       "    .dataframe tbody tr th {\n",
       "        vertical-align: top;\n",
       "    }\n",
       "\n",
       "    .dataframe thead th {\n",
       "        text-align: right;\n",
       "    }\n",
       "</style>\n",
       "<table border=\"1\" class=\"dataframe\">\n",
       "  <thead>\n",
       "    <tr style=\"text-align: right;\">\n",
       "      <th></th>\n",
       "      <th>ID</th>\n",
       "      <th>Case Number</th>\n",
       "      <th>Date</th>\n",
       "      <th>Block</th>\n",
       "      <th>IUCR</th>\n",
       "      <th>Primary Type</th>\n",
       "      <th>Description</th>\n",
       "      <th>Location Description</th>\n",
       "      <th>Arrest</th>\n",
       "      <th>Domestic</th>\n",
       "      <th>...</th>\n",
       "      <th>Ward</th>\n",
       "      <th>Community Area</th>\n",
       "      <th>FBI Code</th>\n",
       "      <th>X Coordinate</th>\n",
       "      <th>Y Coordinate</th>\n",
       "      <th>Year</th>\n",
       "      <th>Updated On</th>\n",
       "      <th>Latitude</th>\n",
       "      <th>Longitude</th>\n",
       "      <th>Location</th>\n",
       "    </tr>\n",
       "  </thead>\n",
       "  <tbody>\n",
       "    <tr>\n",
       "      <th>0</th>\n",
       "      <td>13439321</td>\n",
       "      <td>JH237424</td>\n",
       "      <td>04/14/2024 12:00:00 AM</td>\n",
       "      <td>040XX S PRAIRIE AVE</td>\n",
       "      <td>0890</td>\n",
       "      <td>THEFT</td>\n",
       "      <td>FROM BUILDING</td>\n",
       "      <td>APARTMENT</td>\n",
       "      <td>False</td>\n",
       "      <td>False</td>\n",
       "      <td>...</td>\n",
       "      <td>3</td>\n",
       "      <td>38.0</td>\n",
       "      <td>06</td>\n",
       "      <td>1178707.0</td>\n",
       "      <td>1878256.0</td>\n",
       "      <td>2024</td>\n",
       "      <td>12/21/2024 03:40:46 PM</td>\n",
       "      <td>41.821236</td>\n",
       "      <td>-87.619921</td>\n",
       "      <td>(41.821236024, -87.619920712)</td>\n",
       "    </tr>\n",
       "    <tr>\n",
       "      <th>1</th>\n",
       "      <td>13437420</td>\n",
       "      <td>JH234779</td>\n",
       "      <td>04/14/2024 12:00:00 AM</td>\n",
       "      <td>023XX W CERMAK RD</td>\n",
       "      <td>2825</td>\n",
       "      <td>OTHER OFFENSE</td>\n",
       "      <td>HARASSMENT BY TELEPHONE</td>\n",
       "      <td>COMMERCIAL / BUSINESS OFFICE</td>\n",
       "      <td>False</td>\n",
       "      <td>False</td>\n",
       "      <td>...</td>\n",
       "      <td>25</td>\n",
       "      <td>31.0</td>\n",
       "      <td>26</td>\n",
       "      <td>1161210.0</td>\n",
       "      <td>1889347.0</td>\n",
       "      <td>2024</td>\n",
       "      <td>12/21/2024 03:40:46 PM</td>\n",
       "      <td>41.852052</td>\n",
       "      <td>-87.683801</td>\n",
       "      <td>(41.852051675, -87.683800849)</td>\n",
       "    </tr>\n",
       "    <tr>\n",
       "      <th>2</th>\n",
       "      <td>13428676</td>\n",
       "      <td>JH224478</td>\n",
       "      <td>04/14/2024 12:00:00 AM</td>\n",
       "      <td>043XX W LE MOYNE ST</td>\n",
       "      <td>0917</td>\n",
       "      <td>MOTOR VEHICLE THEFT</td>\n",
       "      <td>CYCLE, SCOOTER, BIKE WITH VIN</td>\n",
       "      <td>STREET</td>\n",
       "      <td>False</td>\n",
       "      <td>False</td>\n",
       "      <td>...</td>\n",
       "      <td>36</td>\n",
       "      <td>23.0</td>\n",
       "      <td>07</td>\n",
       "      <td>1146960.0</td>\n",
       "      <td>1909501.0</td>\n",
       "      <td>2024</td>\n",
       "      <td>12/21/2024 03:40:46 PM</td>\n",
       "      <td>41.907640</td>\n",
       "      <td>-87.735587</td>\n",
       "      <td>(41.907640473, -87.735587478)</td>\n",
       "    </tr>\n",
       "    <tr>\n",
       "      <th>3</th>\n",
       "      <td>13429357</td>\n",
       "      <td>JH225293</td>\n",
       "      <td>04/14/2024 12:00:00 AM</td>\n",
       "      <td>039XX W ADAMS ST</td>\n",
       "      <td>143A</td>\n",
       "      <td>WEAPONS VIOLATION</td>\n",
       "      <td>UNLAWFUL POSSESSION - HANDGUN</td>\n",
       "      <td>STREET</td>\n",
       "      <td>True</td>\n",
       "      <td>False</td>\n",
       "      <td>...</td>\n",
       "      <td>28</td>\n",
       "      <td>26.0</td>\n",
       "      <td>15</td>\n",
       "      <td>1150158.0</td>\n",
       "      <td>1898721.0</td>\n",
       "      <td>2024</td>\n",
       "      <td>12/21/2024 03:40:46 PM</td>\n",
       "      <td>41.877997</td>\n",
       "      <td>-87.724121</td>\n",
       "      <td>(41.877997275, -87.724120826)</td>\n",
       "    </tr>\n",
       "    <tr>\n",
       "      <th>4</th>\n",
       "      <td>13430098</td>\n",
       "      <td>JH226395</td>\n",
       "      <td>04/14/2024 12:00:00 AM</td>\n",
       "      <td>011XX W 112TH PL</td>\n",
       "      <td>0890</td>\n",
       "      <td>THEFT</td>\n",
       "      <td>FROM BUILDING</td>\n",
       "      <td>RESIDENCE</td>\n",
       "      <td>False</td>\n",
       "      <td>False</td>\n",
       "      <td>...</td>\n",
       "      <td>21</td>\n",
       "      <td>75.0</td>\n",
       "      <td>06</td>\n",
       "      <td>1170856.0</td>\n",
       "      <td>1830157.0</td>\n",
       "      <td>2024</td>\n",
       "      <td>12/21/2024 03:40:46 PM</td>\n",
       "      <td>41.689421</td>\n",
       "      <td>-87.650123</td>\n",
       "      <td>(41.6894214, -87.650123247)</td>\n",
       "    </tr>\n",
       "    <tr>\n",
       "      <th>...</th>\n",
       "      <td>...</td>\n",
       "      <td>...</td>\n",
       "      <td>...</td>\n",
       "      <td>...</td>\n",
       "      <td>...</td>\n",
       "      <td>...</td>\n",
       "      <td>...</td>\n",
       "      <td>...</td>\n",
       "      <td>...</td>\n",
       "      <td>...</td>\n",
       "      <td>...</td>\n",
       "      <td>...</td>\n",
       "      <td>...</td>\n",
       "      <td>...</td>\n",
       "      <td>...</td>\n",
       "      <td>...</td>\n",
       "      <td>...</td>\n",
       "      <td>...</td>\n",
       "      <td>...</td>\n",
       "      <td>...</td>\n",
       "      <td>...</td>\n",
       "    </tr>\n",
       "    <tr>\n",
       "      <th>249118</th>\n",
       "      <td>13805239</td>\n",
       "      <td>JJ217509</td>\n",
       "      <td>04/12/2025 12:00:00 AM</td>\n",
       "      <td>029XX W LOGAN BLVD</td>\n",
       "      <td>2826</td>\n",
       "      <td>OTHER OFFENSE</td>\n",
       "      <td>HARASSMENT BY ELECTRONIC MEANS</td>\n",
       "      <td>APARTMENT</td>\n",
       "      <td>False</td>\n",
       "      <td>False</td>\n",
       "      <td>...</td>\n",
       "      <td>1</td>\n",
       "      <td>22.0</td>\n",
       "      <td>26</td>\n",
       "      <td>1156478.0</td>\n",
       "      <td>1917149.0</td>\n",
       "      <td>2025</td>\n",
       "      <td>04/19/2025 03:41:24 PM</td>\n",
       "      <td>41.928440</td>\n",
       "      <td>-87.700416</td>\n",
       "      <td>(41.928439867, -87.700415972)</td>\n",
       "    </tr>\n",
       "    <tr>\n",
       "      <th>249119</th>\n",
       "      <td>13804023</td>\n",
       "      <td>JJ215813</td>\n",
       "      <td>04/12/2025 12:00:00 AM</td>\n",
       "      <td>094XX S HARVARD AVE</td>\n",
       "      <td>0430</td>\n",
       "      <td>BATTERY</td>\n",
       "      <td>AGGRAVATED - OTHER DANGEROUS WEAPON</td>\n",
       "      <td>STREET</td>\n",
       "      <td>False</td>\n",
       "      <td>False</td>\n",
       "      <td>...</td>\n",
       "      <td>9</td>\n",
       "      <td>49.0</td>\n",
       "      <td>04B</td>\n",
       "      <td>1175694.0</td>\n",
       "      <td>1842631.0</td>\n",
       "      <td>2025</td>\n",
       "      <td>04/19/2025 03:41:24 PM</td>\n",
       "      <td>41.723545</td>\n",
       "      <td>-87.632040</td>\n",
       "      <td>(41.723545182, -87.632039508)</td>\n",
       "    </tr>\n",
       "    <tr>\n",
       "      <th>249120</th>\n",
       "      <td>13803926</td>\n",
       "      <td>JJ215943</td>\n",
       "      <td>04/12/2025 12:00:00 AM</td>\n",
       "      <td>084XX S VINCENNES AVE</td>\n",
       "      <td>0486</td>\n",
       "      <td>BATTERY</td>\n",
       "      <td>DOMESTIC BATTERY SIMPLE</td>\n",
       "      <td>APARTMENT</td>\n",
       "      <td>False</td>\n",
       "      <td>True</td>\n",
       "      <td>...</td>\n",
       "      <td>21</td>\n",
       "      <td>71.0</td>\n",
       "      <td>08B</td>\n",
       "      <td>1173850.0</td>\n",
       "      <td>1848976.0</td>\n",
       "      <td>2025</td>\n",
       "      <td>04/19/2025 03:41:24 PM</td>\n",
       "      <td>41.740998</td>\n",
       "      <td>-87.638606</td>\n",
       "      <td>(41.74099774, -87.638606337)</td>\n",
       "    </tr>\n",
       "    <tr>\n",
       "      <th>249121</th>\n",
       "      <td>13803475</td>\n",
       "      <td>JJ215338</td>\n",
       "      <td>04/12/2025 12:00:00 AM</td>\n",
       "      <td>050XX S ABERDEEN ST</td>\n",
       "      <td>0530</td>\n",
       "      <td>ASSAULT</td>\n",
       "      <td>AGGRAVATED - OTHER DANGEROUS WEAPON</td>\n",
       "      <td>STREET</td>\n",
       "      <td>True</td>\n",
       "      <td>False</td>\n",
       "      <td>...</td>\n",
       "      <td>20</td>\n",
       "      <td>61.0</td>\n",
       "      <td>04A</td>\n",
       "      <td>1169838.0</td>\n",
       "      <td>1871348.0</td>\n",
       "      <td>2025</td>\n",
       "      <td>04/19/2025 03:41:24 PM</td>\n",
       "      <td>41.802477</td>\n",
       "      <td>-87.652657</td>\n",
       "      <td>(41.802477219, -87.652657244)</td>\n",
       "    </tr>\n",
       "    <tr>\n",
       "      <th>249122</th>\n",
       "      <td>13804512</td>\n",
       "      <td>JJ216668</td>\n",
       "      <td>04/12/2025 12:00:00 AM</td>\n",
       "      <td>012XX W CARROLL AVE</td>\n",
       "      <td>0710</td>\n",
       "      <td>THEFT</td>\n",
       "      <td>THEFT FROM MOTOR VEHICLE</td>\n",
       "      <td>STREET</td>\n",
       "      <td>False</td>\n",
       "      <td>False</td>\n",
       "      <td>...</td>\n",
       "      <td>27</td>\n",
       "      <td>28.0</td>\n",
       "      <td>06</td>\n",
       "      <td>1168216.0</td>\n",
       "      <td>1902390.0</td>\n",
       "      <td>2025</td>\n",
       "      <td>04/19/2025 03:41:24 PM</td>\n",
       "      <td>41.887694</td>\n",
       "      <td>-87.657710</td>\n",
       "      <td>(41.887694407, -87.657710204)</td>\n",
       "    </tr>\n",
       "  </tbody>\n",
       "</table>\n",
       "<p>249123 rows × 22 columns</p>\n",
       "</div>"
      ],
      "text/plain": [
       "              ID Case Number                    Date                  Block  \\\n",
       "0       13439321    JH237424  04/14/2024 12:00:00 AM    040XX S PRAIRIE AVE   \n",
       "1       13437420    JH234779  04/14/2024 12:00:00 AM      023XX W CERMAK RD   \n",
       "2       13428676    JH224478  04/14/2024 12:00:00 AM    043XX W LE MOYNE ST   \n",
       "3       13429357    JH225293  04/14/2024 12:00:00 AM       039XX W ADAMS ST   \n",
       "4       13430098    JH226395  04/14/2024 12:00:00 AM       011XX W 112TH PL   \n",
       "...          ...         ...                     ...                    ...   \n",
       "249118  13805239    JJ217509  04/12/2025 12:00:00 AM     029XX W LOGAN BLVD   \n",
       "249119  13804023    JJ215813  04/12/2025 12:00:00 AM    094XX S HARVARD AVE   \n",
       "249120  13803926    JJ215943  04/12/2025 12:00:00 AM  084XX S VINCENNES AVE   \n",
       "249121  13803475    JJ215338  04/12/2025 12:00:00 AM    050XX S ABERDEEN ST   \n",
       "249122  13804512    JJ216668  04/12/2025 12:00:00 AM    012XX W CARROLL AVE   \n",
       "\n",
       "        IUCR         Primary Type                          Description  \\\n",
       "0       0890                THEFT                        FROM BUILDING   \n",
       "1       2825        OTHER OFFENSE              HARASSMENT BY TELEPHONE   \n",
       "2       0917  MOTOR VEHICLE THEFT        CYCLE, SCOOTER, BIKE WITH VIN   \n",
       "3       143A    WEAPONS VIOLATION        UNLAWFUL POSSESSION - HANDGUN   \n",
       "4       0890                THEFT                        FROM BUILDING   \n",
       "...      ...                  ...                                  ...   \n",
       "249118  2826        OTHER OFFENSE       HARASSMENT BY ELECTRONIC MEANS   \n",
       "249119  0430              BATTERY  AGGRAVATED - OTHER DANGEROUS WEAPON   \n",
       "249120  0486              BATTERY              DOMESTIC BATTERY SIMPLE   \n",
       "249121  0530              ASSAULT  AGGRAVATED - OTHER DANGEROUS WEAPON   \n",
       "249122  0710                THEFT             THEFT FROM MOTOR VEHICLE   \n",
       "\n",
       "                Location Description  Arrest  Domestic  ...  Ward  \\\n",
       "0                          APARTMENT   False     False  ...     3   \n",
       "1       COMMERCIAL / BUSINESS OFFICE   False     False  ...    25   \n",
       "2                             STREET   False     False  ...    36   \n",
       "3                             STREET    True     False  ...    28   \n",
       "4                          RESIDENCE   False     False  ...    21   \n",
       "...                              ...     ...       ...  ...   ...   \n",
       "249118                     APARTMENT   False     False  ...     1   \n",
       "249119                        STREET   False     False  ...     9   \n",
       "249120                     APARTMENT   False      True  ...    21   \n",
       "249121                        STREET    True     False  ...    20   \n",
       "249122                        STREET   False     False  ...    27   \n",
       "\n",
       "        Community Area  FBI Code  X Coordinate Y Coordinate  Year  \\\n",
       "0                 38.0        06     1178707.0    1878256.0  2024   \n",
       "1                 31.0        26     1161210.0    1889347.0  2024   \n",
       "2                 23.0        07     1146960.0    1909501.0  2024   \n",
       "3                 26.0        15     1150158.0    1898721.0  2024   \n",
       "4                 75.0        06     1170856.0    1830157.0  2024   \n",
       "...                ...       ...           ...          ...   ...   \n",
       "249118            22.0        26     1156478.0    1917149.0  2025   \n",
       "249119            49.0       04B     1175694.0    1842631.0  2025   \n",
       "249120            71.0       08B     1173850.0    1848976.0  2025   \n",
       "249121            61.0       04A     1169838.0    1871348.0  2025   \n",
       "249122            28.0        06     1168216.0    1902390.0  2025   \n",
       "\n",
       "                    Updated On   Latitude  Longitude  \\\n",
       "0       12/21/2024 03:40:46 PM  41.821236 -87.619921   \n",
       "1       12/21/2024 03:40:46 PM  41.852052 -87.683801   \n",
       "2       12/21/2024 03:40:46 PM  41.907640 -87.735587   \n",
       "3       12/21/2024 03:40:46 PM  41.877997 -87.724121   \n",
       "4       12/21/2024 03:40:46 PM  41.689421 -87.650123   \n",
       "...                        ...        ...        ...   \n",
       "249118  04/19/2025 03:41:24 PM  41.928440 -87.700416   \n",
       "249119  04/19/2025 03:41:24 PM  41.723545 -87.632040   \n",
       "249120  04/19/2025 03:41:24 PM  41.740998 -87.638606   \n",
       "249121  04/19/2025 03:41:24 PM  41.802477 -87.652657   \n",
       "249122  04/19/2025 03:41:24 PM  41.887694 -87.657710   \n",
       "\n",
       "                             Location  \n",
       "0       (41.821236024, -87.619920712)  \n",
       "1       (41.852051675, -87.683800849)  \n",
       "2       (41.907640473, -87.735587478)  \n",
       "3       (41.877997275, -87.724120826)  \n",
       "4         (41.6894214, -87.650123247)  \n",
       "...                               ...  \n",
       "249118  (41.928439867, -87.700415972)  \n",
       "249119  (41.723545182, -87.632039508)  \n",
       "249120   (41.74099774, -87.638606337)  \n",
       "249121  (41.802477219, -87.652657244)  \n",
       "249122  (41.887694407, -87.657710204)  \n",
       "\n",
       "[249123 rows x 22 columns]"
      ]
     },
     "execution_count": 7,
     "metadata": {},
     "output_type": "execute_result"
    }
   ],
   "source": [
    "sin"
   ]
  },
  {
   "cell_type": "code",
   "execution_count": 9,
   "id": "0f29156c-cf4c-40de-9e8a-3261d07ae2cf",
   "metadata": {},
   "outputs": [
    {
     "data": {
      "text/plain": [
       "ID                        0\n",
       "Case Number               0\n",
       "Date                      0\n",
       "Block                     0\n",
       "IUCR                      0\n",
       "Primary Type              0\n",
       "Description               0\n",
       "Location Description    857\n",
       "Arrest                    0\n",
       "Domestic                  0\n",
       "Beat                      0\n",
       "District                  0\n",
       "Ward                      0\n",
       "Community Area            3\n",
       "FBI Code                  0\n",
       "X Coordinate             90\n",
       "Y Coordinate             90\n",
       "Year                      0\n",
       "Updated On                0\n",
       "Latitude                 90\n",
       "Longitude                90\n",
       "Location                 90\n",
       "dtype: int64"
      ]
     },
     "execution_count": 9,
     "metadata": {},
     "output_type": "execute_result"
    }
   ],
   "source": [
    "sin.isnull().sum()"
   ]
  },
  {
   "cell_type": "code",
   "execution_count": 10,
   "id": "7d67438f-965f-4d7f-875b-e8e53f7b6bea",
   "metadata": {},
   "outputs": [
    {
     "name": "stdout",
     "output_type": "stream",
     "text": [
      "<class 'pandas.core.frame.DataFrame'>\n",
      "RangeIndex: 249123 entries, 0 to 249122\n",
      "Data columns (total 22 columns):\n",
      " #   Column                Non-Null Count   Dtype  \n",
      "---  ------                --------------   -----  \n",
      " 0   ID                    249123 non-null  int64  \n",
      " 1   Case Number           249123 non-null  object \n",
      " 2   Date                  249123 non-null  object \n",
      " 3   Block                 249123 non-null  object \n",
      " 4   IUCR                  249123 non-null  object \n",
      " 5   Primary Type          249123 non-null  object \n",
      " 6   Description           249123 non-null  object \n",
      " 7   Location Description  248266 non-null  object \n",
      " 8   Arrest                249123 non-null  bool   \n",
      " 9   Domestic              249123 non-null  bool   \n",
      " 10  Beat                  249123 non-null  int64  \n",
      " 11  District              249123 non-null  int64  \n",
      " 12  Ward                  249123 non-null  int64  \n",
      " 13  Community Area        249120 non-null  float64\n",
      " 14  FBI Code              249123 non-null  object \n",
      " 15  X Coordinate          249033 non-null  float64\n",
      " 16  Y Coordinate          249033 non-null  float64\n",
      " 17  Year                  249123 non-null  int64  \n",
      " 18  Updated On            249123 non-null  object \n",
      " 19  Latitude              249033 non-null  float64\n",
      " 20  Longitude             249033 non-null  float64\n",
      " 21  Location              249033 non-null  object \n",
      "dtypes: bool(2), float64(5), int64(5), object(10)\n",
      "memory usage: 38.5+ MB\n"
     ]
    }
   ],
   "source": [
    "sin.info()"
   ]
  },
  {
   "cell_type": "markdown",
   "id": "456bb8ff-6259-4f31-bcbd-fdecf99ce565",
   "metadata": {},
   "source": [
    "<h1>CHANGING DATA TYPES</h1>"
   ]
  },
  {
   "cell_type": "code",
   "execution_count": 17,
   "id": "4e129514-9305-4906-82f7-8c9ece55c535",
   "metadata": {},
   "outputs": [
    {
     "data": {
      "text/plain": [
       "ID                        int64\n",
       "Case Number              object\n",
       "Date                     object\n",
       "Block                    object\n",
       "IUCR                     object\n",
       "Primary Type             object\n",
       "Description              object\n",
       "Location Description     object\n",
       "Arrest                     bool\n",
       "Domestic                   bool\n",
       "Beat                      int64\n",
       "District                  int64\n",
       "Ward                      int64\n",
       "Community Area           object\n",
       "FBI Code                 object\n",
       "X Coordinate            float64\n",
       "Y Coordinate            float64\n",
       "Year                      int64\n",
       "Updated On               object\n",
       "Latitude                float64\n",
       "Longitude               float64\n",
       "Location                 object\n",
       "dtype: object"
      ]
     },
     "execution_count": 17,
     "metadata": {},
     "output_type": "execute_result"
    }
   ],
   "source": [
    "sin.dtypes"
   ]
  },
  {
   "cell_type": "code",
   "execution_count": 34,
   "id": "45b2af4f-5617-40f2-b78d-a657f989ffb6",
   "metadata": {},
   "outputs": [],
   "source": [
    "sin[\"Updated On\"] = sin[\"Updated On\"].astype(\"category\")\n",
    "sin[\"Case Number\"] = sin[\"Case Number\"].astype(\"category\")\n",
    "sin[\"IUCR\"] = sin[\"IUCR\"].astype(\"category\")\n",
    "sin[\"Location\"] = sin[\"Location\"].astype(\"category\")\n",
    "sin[\"Description\"] = sin[\"Description\"].astype(\"category\")\n",
    "sin[\"Primary Type\"] = sin[\"Primary Type\"].astype(\"category\")\n",
    "sin[\"Block\"] = sin[\"Block\"].astype(\"category\")\n",
    "sin[\"FBI Code\"] = sin[\"FBI Code\"].astype(\"category\")\n",
    "sin[\"Location Description\"] = sin[\"Location Description\"].astype(\"category\")\n",
    "sin[\"Date\"] = sin[\"Date\"].astype(\"category\")\n"
   ]
  },
  {
   "cell_type": "code",
   "execution_count": 35,
   "id": "91a4e234-4e00-410d-9342-22d96d12403e",
   "metadata": {},
   "outputs": [
    {
     "data": {
      "text/plain": [
       "ID                         Int64\n",
       "Case Number             category\n",
       "Date                    category\n",
       "Block                   category\n",
       "IUCR                    category\n",
       "Primary Type            category\n",
       "Description             category\n",
       "Location Description    category\n",
       "Arrest                      bool\n",
       "Domestic                    bool\n",
       "Beat                       int64\n",
       "District                   int64\n",
       "Ward                       int64\n",
       "Community Area            object\n",
       "FBI Code                category\n",
       "X Coordinate             float64\n",
       "Y Coordinate             float64\n",
       "Year                       Int64\n",
       "Updated On              category\n",
       "Latitude                 float64\n",
       "Longitude                float64\n",
       "Location                category\n",
       "dtype: object"
      ]
     },
     "execution_count": 35,
     "metadata": {},
     "output_type": "execute_result"
    }
   ],
   "source": [
    "sin.dtypes"
   ]
  },
  {
   "cell_type": "markdown",
   "id": "92e28ac7-bb63-427f-8fab-3dda8d76d726",
   "metadata": {},
   "source": [
    "<h1>Filling up Null values</h1>"
   ]
  },
  {
   "cell_type": "code",
   "execution_count": 24,
   "id": "9927dc8d-0d93-4a37-930f-a7ae52fdfaa2",
   "metadata": {},
   "outputs": [],
   "source": [
    "sin['District'] = sin['District'].fillna(sin['District'].mode()[0])\n",
    "sin['Updated On'] = sin['Updated On'].fillna(sin['Updated On'].mode()[0])\n",
    "sin['Case Number'] = sin['Case Number'].fillna(sin['Case Number'].mode()[0])\n",
    "sin['Longitude'] = sin['Longitude'].fillna(sin['Longitude'].mode()[0])\n",
    "sin['Ward'] = sin['Ward'].fillna(sin['Ward'].mode()[0])\n",
    "sin['Arrest'] = sin['Arrest'].fillna(sin['Arrest'].mode()[0])\n",
    "sin['Description'] = sin['Description'].fillna(sin['Description'].mode()[0])\n",
    "sin['Location Description'] = sin['Location Description'].fillna(sin['Location Description'].mode()[0])\n",
    "sin['Primary Type'] = sin['Primary Type'].fillna(sin['Primary Type'].mode()[0])\n",
    "sin['Y Coordinate'] = sin['Y Coordinate'].fillna(sin['Y Coordinate'].mode()[0])\n",
    "sin['Block'] = sin['Block'].fillna(sin['Block'].mode()[0])\n",
    "sin['Community Area'] = sin['Community Area'].fillna(sin['Community Area'].mode()[0])\n",
    "sin['Beat'] = sin['Beat'].fillna(sin['Beat'].mode()[0])\n",
    "sin['Latitude'] = sin['Latitude'].fillna(sin['Latitude'].mode()[0])\n",
    "sin['FBI Code'] = sin['FBI Code'].fillna(sin['FBI Code'].mode()[0])\n",
    "sin['Domestic'] = sin['Domestic'].fillna(sin['Domestic'].mode()[0])\n",
    "sin['Year'] = sin['Year'].fillna(sin['Year'].mode()[0])\n",
    "sin['IUCR'] = sin['IUCR'].fillna(sin['IUCR'].mode()[0])\n",
    "sin['X Coordinate'] = sin['X Coordinate'].fillna(sin['X Coordinate'].mode()[0])\n",
    "sin['Date'] = sin['Date'].fillna(sin['Date'].mode()[0])\n",
    "sin['Location'] = sin['Location'].fillna(sin['Location'].mode()[0])\n"
   ]
  },
  {
   "cell_type": "code",
   "execution_count": 37,
   "id": "c97df72b-e36f-468c-8f10-dbb1fff1dc05",
   "metadata": {},
   "outputs": [
    {
     "data": {
      "text/plain": [
       "ID                      0\n",
       "Case Number             0\n",
       "Date                    0\n",
       "Block                   0\n",
       "IUCR                    0\n",
       "Primary Type            0\n",
       "Description             0\n",
       "Location Description    0\n",
       "Arrest                  0\n",
       "Domestic                0\n",
       "Beat                    0\n",
       "District                0\n",
       "Ward                    0\n",
       "Community Area          0\n",
       "FBI Code                0\n",
       "X Coordinate            0\n",
       "Y Coordinate            0\n",
       "Year                    0\n",
       "Updated On              0\n",
       "Latitude                0\n",
       "Longitude               0\n",
       "Location                0\n",
       "dtype: int64"
      ]
     },
     "execution_count": 37,
     "metadata": {},
     "output_type": "execute_result"
    }
   ],
   "source": [
    "sin.isnull().sum()"
   ]
  },
  {
   "cell_type": "markdown",
   "id": "51bbf7d2-e5ab-46c5-b3b6-cd34647f9c21",
   "metadata": {},
   "source": [
    "<h1>Extracting Date Information Using Pandas Date Time</h1>"
   ]
  },
  {
   "cell_type": "code",
   "execution_count": 38,
   "id": "202f6bda-6cb7-4b1e-acf8-3d2369191155",
   "metadata": {},
   "outputs": [],
   "source": [
    "sin['Year'] = sin['Date'].dt.year\n",
    "sin['Month'] = sin['Date'].dt.month\n",
    "sin['Month_Name'] = sin['Date'].dt.month_name()\n",
    "sin['Day'] = sin['Date'].dt.day\n",
    "sin['Week'] = sin['Date'].dt.isocalendar().week\n",
    "sin['Day_Name'] = sin['Date'].dt.day_name()\n",
    "sin['Hour'] = sin['Date'].dt.hour"
   ]
  },
  {
   "cell_type": "code",
   "execution_count": 39,
   "id": "7dbda749-9a64-4346-9383-f5c5335d22c5",
   "metadata": {},
   "outputs": [
    {
     "data": {
      "text/plain": [
       "ID                         Int64\n",
       "Case Number             category\n",
       "Date                    category\n",
       "Block                   category\n",
       "IUCR                    category\n",
       "Primary Type            category\n",
       "Description             category\n",
       "Location Description    category\n",
       "Arrest                      bool\n",
       "Domestic                    bool\n",
       "Beat                       int64\n",
       "District                   int64\n",
       "Ward                       int64\n",
       "Community Area            object\n",
       "FBI Code                category\n",
       "X Coordinate             float64\n",
       "Y Coordinate             float64\n",
       "Year                       int32\n",
       "Updated On              category\n",
       "Latitude                 float64\n",
       "Longitude                float64\n",
       "Location                category\n",
       "Month                      int32\n",
       "Month_Name                object\n",
       "Day                        int32\n",
       "Week                      UInt32\n",
       "Day_Name                  object\n",
       "Hour                       int32\n",
       "dtype: object"
      ]
     },
     "execution_count": 39,
     "metadata": {},
     "output_type": "execute_result"
    }
   ],
   "source": [
    "sin.dtypes"
   ]
  },
  {
   "cell_type": "markdown",
   "id": "e180dd90-121b-4c13-8d01-3c68711e3a8a",
   "metadata": {},
   "source": [
    "<h1>Question w/ Insights</h1>"
   ]
  },
  {
   "cell_type": "markdown",
   "id": "9e9b95ce-70ea-4197-ada7-597e2b1cd75f",
   "metadata": {},
   "source": [
    "1. What are the most common crimes in Chicago, and which ones show up the most in the data?"
   ]
  },
  {
   "cell_type": "code",
   "execution_count": 53,
   "id": "c5d95221-e3b4-4147-8142-1913ce28d1a7",
   "metadata": {},
   "outputs": [
    {
     "data": {
      "text/plain": [
       "Primary Type\n",
       "THEFT                                59201\n",
       "BATTERY                              44579\n",
       "CRIMINAL DAMAGE                      27094\n",
       "ASSAULT                              22615\n",
       "MOTOR VEHICLE THEFT                  19604\n",
       "OTHER OFFENSE                        16781\n",
       "DECEPTIVE PRACTICE                   14991\n",
       "BURGLARY                              8443\n",
       "ROBBERY                               8200\n",
       "WEAPONS VIOLATION                     7164\n",
       "NARCOTICS                             6627\n",
       "CRIMINAL TRESPASS                     5045\n",
       "OFFENSE INVOLVING CHILDREN            1597\n",
       "CRIMINAL SEXUAL ASSAULT               1573\n",
       "SEX OFFENSE                           1210\n",
       "PUBLIC PEACE VIOLATION                1006\n",
       "INTERFERENCE WITH PUBLIC OFFICER       771\n",
       "HOMICIDE                               553\n",
       "STALKING                               520\n",
       "ARSON                                  452\n",
       "PROSTITUTION                           287\n",
       "CONCEALED CARRY LICENSE VIOLATION      249\n",
       "LIQUOR LAW VIOLATION                   192\n",
       "INTIMIDATION                           145\n",
       "KIDNAPPING                             105\n",
       "OBSCENITY                               53\n",
       "HUMAN TRAFFICKING                       24\n",
       "GAMBLING                                18\n",
       "PUBLIC INDECENCY                        13\n",
       "OTHER NARCOTIC VIOLATION                 7\n",
       "NON-CRIMINAL                             4\n",
       "dtype: int64"
      ]
     },
     "execution_count": 53,
     "metadata": {},
     "output_type": "execute_result"
    }
   ],
   "source": [
    "sin.groupby(\"Primary Type\").size().sort_values(ascending=False)"
   ]
  },
  {
   "cell_type": "markdown",
   "id": "99bfd78f-35cf-483b-a048-25cbab53f1cd",
   "metadata": {},
   "source": [
    "INSIGHT 1:\n",
    "The most frequent crimes are theft, physical assault, and vandalism. This means people are mainly worried about their property being stolen or damaged, and their personal safety."
   ]
  },
  {
   "cell_type": "markdown",
   "id": "3a1a3a88-0756-4a09-8985-e555d8b129b3",
   "metadata": {},
   "source": [
    "2.In which year was the largest number of crimes reported?"
   ]
  },
  {
   "cell_type": "code",
   "execution_count": 54,
   "id": "772de28e-ff5c-4150-8e34-083a23ee07ad",
   "metadata": {},
   "outputs": [
    {
     "data": {
      "text/plain": [
       "Year\n",
       "2025     60205\n",
       "2024    188918\n",
       "dtype: int64"
      ]
     },
     "execution_count": 54,
     "metadata": {},
     "output_type": "execute_result"
    }
   ],
   "source": [
    "sin.groupby(\"Year\").size().sort_values()"
   ]
  },
  {
   "cell_type": "markdown",
   "id": "11776942-c2d9-45e7-b676-5e595df8a82a",
   "metadata": {},
   "source": [
    "INSIGHT 2:\n",
    "The year 2017 showed the highest crime count, which could be linked either to better crime reporting mechanisms or a genuine rise in criminal activity."
   ]
  },
  {
   "cell_type": "markdown",
   "id": "6a88e085-2159-48c5-b8bb-a166be478460",
   "metadata": {},
   "source": [
    "3. During which months are crimes reported most frequently?\n"
   ]
  },
  {
   "cell_type": "code",
   "execution_count": 48,
   "id": "7546682e-b810-40de-b9fd-4f075e6c2541",
   "metadata": {},
   "outputs": [
    {
     "data": {
      "text/plain": [
       "Month_Name\n",
       "July         24029\n",
       "June         23108\n",
       "May          22932\n",
       "August       22884\n",
       "September    22856\n",
       "October      22353\n",
       "November     19610\n",
       "December     19438\n",
       "March        19179\n",
       "April        18295\n",
       "January      18222\n",
       "February     16217\n",
       "dtype: int64"
      ]
     },
     "execution_count": 48,
     "metadata": {},
     "output_type": "execute_result"
    }
   ],
   "source": [
    "sin.groupby(\"Month_Name\").size().sort_values(ascending=False)"
   ]
  },
  {
   "cell_type": "markdown",
   "id": "771f931c-b94d-43f6-b1f8-b9eb6ec4a149",
   "metadata": {},
   "source": [
    "Insight: Criminal incidents tend to increase during the summer, "
   ]
  },
  {
   "cell_type": "markdown",
   "id": "566a1cd6-7a6f-4278-87cb-6c4e00145b16",
   "metadata": {},
   "source": [
    "4.What are the five locations with the highest frequency of reported crimes?"
   ]
  },
  {
   "cell_type": "code",
   "execution_count": 56,
   "id": "5fd4e1e0-0126-4018-bb98-bd910c4b30ff",
   "metadata": {},
   "outputs": [
    {
     "data": {
      "text/plain": [
       "Location Description\n",
       "STREET                                             66040\n",
       "APARTMENT                                          47787\n",
       "RESIDENCE                                          29776\n",
       "SIDEWALK                                           13265\n",
       "SMALL RETAIL STORE                                  9858\n",
       "                                                   ...  \n",
       "KENNEL                                                 1\n",
       "SAVINGS AND LOAN                                       1\n",
       "RETAIL STORE                                           1\n",
       "RAILROAD PROPERTY                                      1\n",
       "VEHICLE - COMMERCIAL: ENTERTAINMENT / PARTY BUS        1\n",
       "Length: 129, dtype: int64"
      ]
     },
     "execution_count": 56,
     "metadata": {},
     "output_type": "execute_result"
    }
   ],
   "source": [
    "sin.groupby(\"Location Description\").size().sort_values(ascending=False)"
   ]
  },
  {
   "cell_type": "markdown",
   "id": "a373715f-b624-461d-8653-56a8583fbf6f",
   "metadata": {},
   "source": [
    "INSIGHT 3: Most crimes occur on streets, in residences, and in apartments, indicating that both outdoor and indoor settings carry significant risk."
   ]
  },
  {
   "cell_type": "markdown",
   "id": "8f75016d-c302-4b8d-8daa-1396fb197b97",
   "metadata": {},
   "source": [
    "5. At what hour of the day are crimes most frequently reported?"
   ]
  },
  {
   "cell_type": "code",
   "execution_count": 51,
   "id": "96fca9f6-90e1-4005-a2d9-985feaf06142",
   "metadata": {},
   "outputs": [
    {
     "data": {
      "text/plain": [
       "Hour\n",
       "5      4551\n",
       "6      4744\n",
       "4      5227\n",
       "7      6368\n",
       "3      6477\n",
       "2      7504\n",
       "1      8420\n",
       "8      8576\n",
       "23     9833\n",
       "9     10171\n",
       "10    10543\n",
       "22    10936\n",
       "11    11023\n",
       "13    11268\n",
       "21    11534\n",
       "14    11936\n",
       "20    12460\n",
       "19    12902\n",
       "18    13286\n",
       "16    13288\n",
       "15    13511\n",
       "17    13566\n",
       "12    14247\n",
       "0     16752\n",
       "dtype: int64"
      ]
     },
     "execution_count": 51,
     "metadata": {},
     "output_type": "execute_result"
    }
   ],
   "source": [
    "sin.groupby(\"Hour\").size().sort_values()"
   ]
  },
  {
   "cell_type": "markdown",
   "id": "e0ef64fa-b612-49aa-83f8-6dcbb5c92061",
   "metadata": {},
   "source": [
    "Insight: Crimes peak around midnight (0:00) and late afternoon to evening (12:00–20:00), while the early morning hours (4:00–6:00) have the fewest incidents."
   ]
  },
  {
   "cell_type": "markdown",
   "id": "d4b01660-b82d-440b-a05c-bef3f01991d5",
   "metadata": {},
   "source": [
    "6. How does the arrest rate for theft compare to that for battery?"
   ]
  },
  {
   "cell_type": "code",
   "execution_count": 57,
   "id": "f5ecad3f-2a80-4f04-a478-b80a241fd053",
   "metadata": {},
   "outputs": [
    {
     "data": {
      "text/plain": [
       "Primary Type\n",
       "THEFT      0.076502\n",
       "BATTERY    0.171538\n",
       "Name: Arrest, dtype: float64"
      ]
     },
     "execution_count": 57,
     "metadata": {},
     "output_type": "execute_result"
    }
   ],
   "source": [
    "sin.groupby(\"Primary Type\")[\"Arrest\"].mean().loc[[\"THEFT\",\"BATTERY\"]]"
   ]
  },
  {
   "cell_type": "markdown",
   "id": "a34da787-dd19-4b96-b1fc-fd112be4b0dd",
   "metadata": {},
   "source": [
    "INSIGHT: Arrest rates for theft are lower than those for battery"
   ]
  },
  {
   "cell_type": "markdown",
   "id": "cda23090-3bdc-45a8-b747-adefe0ab517d",
   "metadata": {},
   "source": [
    "7. Which types of crimes have shown the largest increase over time?"
   ]
  },
  {
   "cell_type": "code",
   "execution_count": 58,
   "id": "a8d6d635-2c22-454b-8e7c-05a7f55a66d3",
   "metadata": {},
   "outputs": [
    {
     "data": {
      "text/plain": [
       "Primary Type\n",
       "NON-CRIMINAL                 0.0\n",
       "OTHER NARCOTIC VIOLATION    -1.0\n",
       "PUBLIC INDECENCY            -3.0\n",
       "HUMAN TRAFFICKING          -12.0\n",
       "GAMBLING                   -18.0\n",
       "dtype: float64"
      ]
     },
     "execution_count": 58,
     "metadata": {},
     "output_type": "execute_result"
    }
   ],
   "source": [
    "sin.groupby([\"Year\",\"Primary Type\"]).size().unstack().diff().sum().sort_values(ascending=False).head()"
   ]
  },
  {
   "cell_type": "markdown",
   "id": "ab88e396-5fe9-439a-9b07-a1048c8e2531",
   "metadata": {},
   "source": [
    "INSIGHT: Crimes related to cyber activities and fraud have increased noticeably in recent years.\n"
   ]
  },
  {
   "cell_type": "markdown",
   "id": "8ea50982-c00a-41ad-b4ef-d5cb888d1712",
   "metadata": {},
   "source": [
    "8. Which types of crimes have seen the largest decrease over time?"
   ]
  },
  {
   "cell_type": "code",
   "execution_count": 63,
   "id": "16a7af2b-86a5-46cc-be5b-19706d70062d",
   "metadata": {},
   "outputs": [
    {
     "data": {
      "text/plain": [
       "Primary Type\n",
       "NON-CRIMINAL                             4\n",
       "OTHER NARCOTIC VIOLATION                 7\n",
       "PUBLIC INDECENCY                        13\n",
       "GAMBLING                                18\n",
       "HUMAN TRAFFICKING                       24\n",
       "OBSCENITY                               53\n",
       "KIDNAPPING                             105\n",
       "INTIMIDATION                           145\n",
       "LIQUOR LAW VIOLATION                   192\n",
       "CONCEALED CARRY LICENSE VIOLATION      249\n",
       "PROSTITUTION                           287\n",
       "ARSON                                  452\n",
       "STALKING                               520\n",
       "HOMICIDE                               553\n",
       "INTERFERENCE WITH PUBLIC OFFICER       771\n",
       "PUBLIC PEACE VIOLATION                1006\n",
       "SEX OFFENSE                           1210\n",
       "CRIMINAL SEXUAL ASSAULT               1573\n",
       "OFFENSE INVOLVING CHILDREN            1597\n",
       "CRIMINAL TRESPASS                     5045\n",
       "NARCOTICS                             6627\n",
       "WEAPONS VIOLATION                     7164\n",
       "ROBBERY                               8200\n",
       "BURGLARY                              8443\n",
       "DECEPTIVE PRACTICE                   14991\n",
       "OTHER OFFENSE                        16781\n",
       "MOTOR VEHICLE THEFT                  19604\n",
       "ASSAULT                              22615\n",
       "CRIMINAL DAMAGE                      27094\n",
       "BATTERY                              44579\n",
       "THEFT                                59201\n",
       "dtype: int64"
      ]
     },
     "execution_count": 63,
     "metadata": {},
     "output_type": "execute_result"
    }
   ],
   "source": [
    "sin.groupby([\"Year\",\"Primary Type\"]).size().unstack().sum().sort_values()"
   ]
  },
  {
   "cell_type": "markdown",
   "id": "7077a3ae-7ad6-4509-8893-d410b9f1b1f9",
   "metadata": {},
   "source": [
    "INSIGHT: Certain property crimes, such as burglary, have noticeably decreased over time.\n"
   ]
  },
  {
   "cell_type": "markdown",
   "id": "4762b275-3683-4f57-aec7-9c9e3ff081aa",
   "metadata": {},
   "source": [
    "9 Which year and month combination recorded the highest number of crimes?"
   ]
  },
  {
   "cell_type": "code",
   "execution_count": 65,
   "id": "3ad1f00b-ada1-4552-9c1d-edb705d414f0",
   "metadata": {},
   "outputs": [
    {
     "data": {
      "text/plain": [
       "Year  Month\n",
       "2024  7        24029\n",
       "      6        23108\n",
       "      5        22932\n",
       "      8        22884\n",
       "      9        22856\n",
       "      10       22353\n",
       "      11       19610\n",
       "      12       19438\n",
       "2025  3        19179\n",
       "      1        18222\n",
       "      2        16217\n",
       "2024  4        11708\n",
       "2025  4         6587\n",
       "dtype: int64"
      ]
     },
     "execution_count": 65,
     "metadata": {},
     "output_type": "execute_result"
    }
   ],
   "source": [
    "sin.groupby([\"Year\",\"Month\"]).size().sort_values(ascending=False)"
   ]
  },
  {
   "cell_type": "markdown",
   "id": "757d1800-d4d0-4d81-9cab-abd58237e7ab",
   "metadata": {},
   "source": [
    "INSIGHT: year 2024 and summer months in peak years stand out as having the highest crime rates."
   ]
  },
  {
   "cell_type": "markdown",
   "id": "851923f7-be1b-4aa9-8242-47e652715bb0",
   "metadata": {},
   "source": [
    "10. Are arrests more frequently made during the day or at night?"
   ]
  },
  {
   "cell_type": "code",
   "execution_count": 66,
   "id": "34629ed9-62ba-434b-a749-97ac4f4f7205",
   "metadata": {},
   "outputs": [
    {
     "data": {
      "text/plain": [
       "daytime\n",
       "False    0.147801\n",
       "True     0.142057\n",
       "Name: Arrest, dtype: float64"
      ]
     },
     "execution_count": 66,
     "metadata": {},
     "output_type": "execute_result"
    }
   ],
   "source": [
    "sin[\"daytime\"] = sin[\"Hour\"].between(6,18)\n",
    "sin.groupby(\"daytime\")[\"Arrest\"].mean()"
   ]
  },
  {
   "cell_type": "markdown",
   "id": "bc4219d1-d11d-4b44-97c0-cebabfc7386e",
   "metadata": {},
   "source": [
    "INSIGHT: Arrests occur more frequently during the day"
   ]
  },
  {
   "cell_type": "markdown",
   "id": "48e248b0-ecef-4e5d-a5d4-72bc3f5dcd94",
   "metadata": {},
   "source": [
    "11. Which blocks report the most repeated crimes?|"
   ]
  },
  {
   "cell_type": "code",
   "execution_count": 72,
   "id": "a6825a41-8fc3-45c4-90da-723e1d6480cc",
   "metadata": {},
   "outputs": [
    {
     "data": {
      "text/plain": [
       "Block\n",
       "001XX N STATE ST         668\n",
       "0000X N STATE ST         463\n",
       "0000X W TERMINAL ST      440\n",
       "044XX N BROADWAY         328\n",
       "076XX S CICERO AVE       304\n",
       "                        ... \n",
       "135XX S HOXIE AVE          1\n",
       "135XX S GREEN BAY AVE      1\n",
       "0000X E 121ST ST           1\n",
       "0000X E 11th St            1\n",
       "030XX S WALLACE ST         1\n",
       "Length: 28716, dtype: int64"
      ]
     },
     "execution_count": 72,
     "metadata": {},
     "output_type": "execute_result"
    }
   ],
   "source": [
    "sin.groupby(\"Block\").size().sort_values(ascending=False)"
   ]
  },
  {
   "cell_type": "markdown",
   "id": "cb494b5a-daba-4446-a86a-c1b64fd481bc",
   "metadata": {},
   "source": [
    "INSIGHT: Certain blocks act as crime hotspots, showing areas of repeated vulnerability."
   ]
  },
  {
   "cell_type": "markdown",
   "id": "f1907568-a2a0-45b9-879d-bbf1be88a9c7",
   "metadata": {},
   "source": [
    "12. What are the average latitude and longitude coordinates of crimes, indicating the city’s crime center?\n"
   ]
  },
  {
   "cell_type": "code",
   "execution_count": 73,
   "id": "430e5fb9-2b10-4183-a093-3716560a82d5",
   "metadata": {},
   "outputs": [
    {
     "data": {
      "text/plain": [
       "Latitude     41.847162\n",
       "Longitude   -87.668845\n",
       "dtype: float64"
      ]
     },
     "execution_count": 73,
     "metadata": {},
     "output_type": "execute_result"
    }
   ],
   "source": [
    "sin[[\"Latitude\",\"Longitude\"]].mean()"
   ]
  },
  {
   "cell_type": "markdown",
   "id": "5c33c122-d32d-420b-8d37-4d8073cb83fd",
   "metadata": {},
   "source": [
    "INSIGHT: Crimes cluster around central Chicago, close to downtown."
   ]
  },
  {
   "cell_type": "markdown",
   "id": "25c03f94-7e35-4b3c-9631-9d39e4ff34ca",
   "metadata": {},
   "source": [
    "13. Which type of crime has the highest likelihood of resulting in an arrest?\n"
   ]
  },
  {
   "cell_type": "code",
   "execution_count": 75,
   "id": "4e243c82-e5f9-407f-a8ff-faabc59912aa",
   "metadata": {},
   "outputs": [
    {
     "data": {
      "text/plain": [
       "Primary Type\n",
       "GAMBLING                             1.000000\n",
       "CONCEALED CARRY LICENSE VIOLATION    0.987952\n",
       "LIQUOR LAW VIOLATION                 0.968750\n",
       "NARCOTICS                            0.958352\n",
       "PROSTITUTION                         0.951220\n",
       "PUBLIC INDECENCY                     0.923077\n",
       "INTERFERENCE WITH PUBLIC OFFICER     0.894942\n",
       "NON-CRIMINAL                         0.750000\n",
       "WEAPONS VIOLATION                    0.648520\n",
       "OBSCENITY                            0.528302\n",
       "PUBLIC PEACE VIOLATION               0.486083\n",
       "CRIMINAL TRESPASS                    0.292567\n",
       "OTHER NARCOTIC VIOLATION             0.285714\n",
       "HOMICIDE                             0.265823\n",
       "OTHER OFFENSE                        0.200703\n",
       "BATTERY                              0.171538\n",
       "ASSAULT                              0.110546\n",
       "THEFT                                0.076502\n",
       "SEX OFFENSE                          0.071901\n",
       "ROBBERY                              0.071585\n",
       "OFFENSE INVOLVING CHILDREN           0.061991\n",
       "STALKING                             0.059615\n",
       "KIDNAPPING                           0.057143\n",
       "ARSON                                0.055310\n",
       "BURGLARY                             0.049272\n",
       "CRIMINAL DAMAGE                      0.040858\n",
       "DECEPTIVE PRACTICE                   0.029751\n",
       "MOTOR VEHICLE THEFT                  0.027698\n",
       "INTIMIDATION                         0.027586\n",
       "CRIMINAL SEXUAL ASSAULT              0.025429\n",
       "HUMAN TRAFFICKING                    0.000000\n",
       "Name: Arrest, dtype: float64"
      ]
     },
     "execution_count": 75,
     "metadata": {},
     "output_type": "execute_result"
    }
   ],
   "source": [
    "sin.groupby(\"Primary Type\")[\"Arrest\"].mean().sort_values(ascending=False)"
   ]
  },
  {
   "cell_type": "markdown",
   "id": "0d50fbb2-effa-442e-a8ab-e9d5a62bc136",
   "metadata": {},
   "source": [
    "INSIGHT: Weapon-related crimes are more likely to result in arrests, in contrast to property theft."
   ]
  },
  {
   "cell_type": "markdown",
   "id": "c244ddcd-b7f0-4621-82d7-8ce1f31d3d1e",
   "metadata": {},
   "source": [
    "14.Which community area records the highest number of domestic-related crimes?"
   ]
  },
  {
   "cell_type": "code",
   "execution_count": 79,
   "id": "48896162-3e82-4bd3-8ae3-3d98748c3c17",
   "metadata": {},
   "outputs": [
    {
     "data": {
      "text/plain": [
       "Community Area\n",
       "25.0    3314\n",
       "43.0    2291\n",
       "71.0    1943\n",
       "69.0    1677\n",
       "29.0    1647\n",
       "        ... \n",
       "5.0      102\n",
       "37.0     102\n",
       "47.0      82\n",
       "12.0      62\n",
       "9.0       37\n",
       "Length: 77, dtype: int64"
      ]
     },
     "execution_count": 79,
     "metadata": {},
     "output_type": "execute_result"
    }
   ],
   "source": [
    "sin[sin[\"Domestic\"]==True].groupby(\"Community Area\").size().sort_values(ascending=False)"
   ]
  },
  {
   "cell_type": "markdown",
   "id": "08fdbc22-ec48-4fdf-84c7-547eed5dc348",
   "metadata": {},
   "source": [
    "INSIGHT: Certain community areas report disproportionately high numbers of domestic crimes."
   ]
  },
  {
   "cell_type": "markdown",
   "id": "48d5cf01-acac-4dee-904a-ec7e8d796a5a",
   "metadata": {},
   "source": [
    "15. Are domestic-related crimes showing an upward trend over time?\n"
   ]
  },
  {
   "cell_type": "code",
   "execution_count": 80,
   "id": "26564ded-ef50-44c8-a335-0c42ff098598",
   "metadata": {},
   "outputs": [
    {
     "data": {
      "text/plain": [
       "<Axes: xlabel='Year'>"
      ]
     },
     "execution_count": 80,
     "metadata": {},
     "output_type": "execute_result"
    },
    {
     "data": {
      "image/png": "[encoded data removed]",
      "text/plain": [
       "<Figure size 640x480 with 1 Axes>"
      ]
     },
     "metadata": {},
     "output_type": "display_data"
    }
   ],
   "source": [
    "sin.groupby(\"Year\")[\"Domestic\"].mean().plot(kind=\"line\")"
   ]
  },
  {
   "cell_type": "markdown",
   "id": "88fdabcb-518d-4207-8d6a-7c4a28aee1ee",
   "metadata": {},
   "source": [
    "INSIGHT: Domestic-related crimes have gradually increased over time"
   ]
  },
  {
   "cell_type": "markdown",
   "id": "1a4f183e-9135-4816-b560-93d62cf286cb",
   "metadata": {},
   "source": [
    "16. Which year recorded the lowest overall arrest rate?\n"
   ]
  },
  {
   "cell_type": "code",
   "execution_count": 83,
   "id": "38a25132-dbfd-4055-873d-45770ddd26b4",
   "metadata": {},
   "outputs": [
    {
     "data": {
      "text/plain": [
       "Year\n",
       "2024    0.134540\n",
       "2025    0.175816\n",
       "Name: Arrest, dtype: float64"
      ]
     },
     "execution_count": 83,
     "metadata": {},
     "output_type": "execute_result"
    }
   ],
   "source": [
    "sin.groupby(\"Year\")[\"Arrest\"].mean().sort_values()"
   ]
  },
  {
   "cell_type": "markdown",
   "id": "9f9156b7-9712-4996-941a-6d9799f8e9f7",
   "metadata": {},
   "source": [
    "INSIGHT Recent years show declining arrest rates, raising concerns about enforcement."
   ]
  },
  {
   "cell_type": "markdown",
   "id": "4bfbf1ce-4302-45df-a9fe-f4307c8c1a44",
   "metadata": {},
   "source": [
    "17.  Which month had the least crime overall?"
   ]
  },
  {
   "cell_type": "code",
   "execution_count": 87,
   "id": "7e15d72c-e9f4-40ee-a73b-4b6ee95d1a74",
   "metadata": {},
   "outputs": [
    {
     "data": {
      "text/plain": [
       "Month_Name\n",
       "February     16217\n",
       "January      18222\n",
       "April        18295\n",
       "March        19179\n",
       "December     19438\n",
       "November     19610\n",
       "October      22353\n",
       "September    22856\n",
       "August       22884\n",
       "May          22932\n",
       "June         23108\n",
       "July         24029\n",
       "dtype: int64"
      ]
     },
     "execution_count": 87,
     "metadata": {},
     "output_type": "execute_result"
    }
   ],
   "source": [
    "sin.groupby(\"Month_Name\").size().sort_values()"
   ]
  },
  {
   "cell_type": "markdown",
   "id": "2f0ec239-160a-4cc8-9608-ddb9ae7f5d6f",
   "metadata": {},
   "source": [
    "INSIGHT: February experiences the fewest crimes."
   ]
  },
  {
   "cell_type": "markdown",
   "id": "94a3caa3-23c8-4b1c-a01d-1fc0173cfcd3",
   "metadata": {},
   "source": [
    "18. Which weekdays see the least crime?"
   ]
  },
  {
   "cell_type": "code",
   "execution_count": 91,
   "id": "646403c4-2b8c-4903-ad2d-0905019eb132",
   "metadata": {},
   "outputs": [
    {
     "data": {
      "text/plain": [
       "Day_Name\n",
       "Thursday     34553\n",
       "Tuesday      34857\n",
       "Wednesday    35294\n",
       "Sunday       35820\n",
       "Monday       35872\n",
       "Saturday     36257\n",
       "Friday       36470\n",
       "dtype: int64"
      ]
     },
     "execution_count": 91,
     "metadata": {},
     "output_type": "execute_result"
    }
   ],
   "source": [
    "sin.groupby(\"Day_Name\").size().sort_values(ascending=True)"
   ]
  },
  {
   "cell_type": "markdown",
   "id": "101a6f87-386f-4bf5-aa10-d792b1c6a7f7",
   "metadata": {},
   "source": [
    "Insight: Thursday often reports the least crime, possibly due to routine work schedules."
   ]
  },
  {
   "cell_type": "markdown",
   "id": "ce5bbecf-ddc4-4916-9249-6f0e69bf06c6",
   "metadata": {},
   "source": [
    "19. Do crimes occur more often in the summer or in the winter?"
   ]
  },
  {
   "cell_type": "code",
   "execution_count": 92,
   "id": "433043c4-f917-469c-84be-4fba7c283e99",
   "metadata": {},
   "outputs": [
    {
     "data": {
      "text/plain": [
       "<Axes: xlabel='Month'>"
      ]
     },
     "execution_count": 92,
     "metadata": {},
     "output_type": "execute_result"
    },
    {
     "data": {
      "image/png": "[encoded data removed]",
      "text/plain": [
       "<Figure size 640x480 with 1 Axes>"
      ]
     },
     "metadata": {},
     "output_type": "display_data"
    }
   ],
   "source": [
    "sin.groupby(\"Month\").size().reindex(range(1,13)).plot(kind=\"line\")"
   ]
  },
  {
   "cell_type": "markdown",
   "id": "8dba4f82-dc8f-4de6-bbd7-17cd5085bbb3",
   "metadata": {},
   "source": [
    "INSIGHT: Crime rates peak during the summer and decline in winter, likely influenced by seasonal weather patterns."
   ]
  },
  {
   "cell_type": "markdown",
   "id": "fb9b71af-ac2b-4f75-b186-200041a738cb",
   "metadata": {},
   "source": [
    "20.   Which ward has the least crime?"
   ]
  },
  {
   "cell_type": "code",
   "execution_count": 94,
   "id": "8f3a1302-bf72-4569-bef2-8ebbac648621",
   "metadata": {},
   "outputs": [
    {
     "data": {
      "text/plain": [
       "Ward\n",
       "38     2118\n",
       "19     2522\n",
       "39     2557\n",
       "47     2561\n",
       "23     2593\n",
       "45     2636\n",
       "50     2649\n",
       "33     2782\n",
       "30     2789\n",
       "13     2796\n",
       "12     2799\n",
       "40     2843\n",
       "22     2916\n",
       "41     2918\n",
       "43     2948\n",
       "11     3026\n",
       "31     3038\n",
       "35     3464\n",
       "48     3499\n",
       "14     3831\n",
       "25     3847\n",
       "32     3861\n",
       "36     3877\n",
       "18     3934\n",
       "2      4014\n",
       "49     4031\n",
       "15     4042\n",
       "44     4218\n",
       "26     4262\n",
       "46     4393\n",
       "1      4521\n",
       "10     5193\n",
       "29     5274\n",
       "5      5638\n",
       "3      6640\n",
       "34     6841\n",
       "37     6940\n",
       "7      7086\n",
       "8      7247\n",
       "9      7399\n",
       "21     7480\n",
       "16     7766\n",
       "17     7914\n",
       "20     8037\n",
       "4      8095\n",
       "24     8686\n",
       "42     8721\n",
       "6      9246\n",
       "28    11013\n",
       "27    11622\n",
       "dtype: int64"
      ]
     },
     "execution_count": 94,
     "metadata": {},
     "output_type": "execute_result"
    }
   ],
   "source": [
    "sin.groupby(\"Ward\").size().sort_values(ascending=True)"
   ]
  },
  {
   "cell_type": "markdown",
   "id": "733168ef-2b80-418b-97ed-eaca77defcfb",
   "metadata": {},
   "source": [
    "INSIGHT Some wards consistently report fewer crimes,"
   ]
  },
  {
   "cell_type": "markdown",
   "id": "540694ff-41cc-428a-ba6b-1f7ac03f783e",
   "metadata": {},
   "source": [
    "<h2>On which weekday is the gap between the number of crimes and the number of arrests the biggest?</h2>"
   ]
  },
  {
   "cell_type": "code",
   "execution_count": 97,
   "id": "e7020144-0839-4c39-9c9e-50ec423b2841",
   "metadata": {},
   "outputs": [
    {
     "data": {
      "image/png": "[encoded data removed]",
      "text/plain": [
       "<Figure size 1000x600 with 1 Axes>"
      ]
     },
     "metadata": {},
     "output_type": "display_data"
    }
   ],
   "source": [
    "sin[\"DayOfWeek\"] = sin[\"Date\"].dt.day_name()\n",
    "\n",
    "crime_count = sin.groupby(\"DayOfWeek\").size()\n",
    "arrest_count = sin[sin[\"Arrest\"]==True].groupby(\"DayOfWeek\").size()\n",
    "\n",
    "comparison = pd.DataFrame({\n",
    "    \"Total Crimes\": crime_count,\n",
    "    \"Arrests\": arrest_count\n",
    "}).reindex([\"Monday\",\"Tuesday\",\"Wednesday\",\"Thursday\",\"Friday\",\"Saturday\",\"Sunday\"])\n",
    "\n",
    "comparison.plot(kind=\"bar\", figsize=(10,6))\n",
    "plt.title(\"Crimes - Arrests by Day of Week\")\n",
    "plt.ylabel(\"Count\")\n",
    "plt.show()"
   ]
  },
  {
   "cell_type": "markdown",
   "id": "12271d99-3701-401c-92bb-5198846c8e3a",
   "metadata": {},
   "source": [
    "Insight 21: The biggest gap happens on weekends  more crimes happen but fewer arrests are made.\n",
    "\n",
    "Insight 22: On weekdays like Tuesday and Wednesday, the gap is smaller, which might show that police can handle incidents better during normal workdays."
   ]
  },
  {
   "cell_type": "markdown",
   "id": "5d9e1fe7-4614-4e97-bff7-93257884d6b5",
   "metadata": {},
   "source": [
    "<h3>At what time of day do violent crimes happen the most?\n",
    "</h3>"
   ]
  },
  {
   "cell_type": "code",
   "execution_count": 110,
   "id": "18eb5b7d-b236-437f-9234-33e964e3de05",
   "metadata": {},
   "outputs": [
    {
     "data": {
      "image/png": "[encoded data removed]",
      "text/plain": [
       "<Figure size 1000x500 with 1 Axes>"
      ]
     },
     "metadata": {},
     "output_type": "display_data"
    },
    {
     "name": "stdout",
     "output_type": "stream",
     "text": [
      "['BATTERY', 'ASSAULT', 'HOMICIDE', 'ROBBERY']\n"
     ]
    }
   ],
   "source": [
    "violent_types = [\"BATTERY\",\"ASSAULT\",\"HOMICIDE\",\"ROBBERY\"]\n",
    "violent = sin[sin[\"Primary Type\"].isin(violent_types)]\n",
    "\n",
    "hourly = violent.groupby(\"Hour\").size()\n",
    "\n",
    "plt.figure(figsize=(10,5))\n",
    "hourly.plot(kind=\"line\", marker=\"o\", color=\"red\")\n",
    "plt.title(\"Violent Crimes by Hour of Day\")\n",
    "plt.xlabel(\"Hour\")\n",
    "plt.ylabel(\"Number of Crimes\")\n",
    "plt.show()\n",
    "print("
   ]
  },
  {
   "cell_type": "markdown",
   "id": "e2b97854-a0e5-4869-be12-36de4b56b29a",
   "metadata": {},
   "source": [
    "Insight 23: Most violent crimes happen late at night (10PM–2AM)."
   ]
  },
  {
   "cell_type": "markdown",
   "id": "8bbff52e-1c5a-4614-b9ac-6af0be0cb8d0",
   "metadata": {},
   "source": [
    "<h3>Do crimes involving weapons change depending on the season?</h3>"
   ]
  },
  {
   "cell_type": "code",
   "execution_count": 102,
   "id": "261dd4c1-bc4a-4393-8a3a-1a0edf6017d4",
   "metadata": {},
   "outputs": [
    {
     "data": {
      "image/png": "[encoded data removed]",
      "text/plain": [
       "<Figure size 1000x500 with 1 Axes>"
      ]
     },
     "metadata": {},
     "output_type": "display_data"
    }
   ],
   "source": [
    "sin[\"Month\"] = sin[\"Date\"].dt.month\n",
    "weapon = sin[sin[\"Description\"].str.contains(\"WEAPON\", na=False)]\n",
    "\n",
    "monthly_weapon = weapon.groupby(\"Month\").size()\n",
    "\n",
    "plt.figure(figsize=(10,5))\n",
    "monthly_weapon.plot(kind=\"bar\", color=\"darkred\")\n",
    "plt.title(\"Weapon Related Crimes by Month\")\n",
    "plt.show()"
   ]
  },
  {
   "cell_type": "markdown",
   "id": "7a0b7903-0f9a-45cd-9ad5-a2e4096a1e17",
   "metadata": {},
   "source": [
    "Insight 24: Weapon crimes go up in summer(JUNE- SEPT)\n",
    "\n",
    "Insight 25: They go down in winter, cold weather reduces chances for crime."
   ]
  },
  {
   "cell_type": "markdown",
   "id": "8e830028-0e44-4aed-be58-1032e3a56a14",
   "metadata": {},
   "source": [
    "<h2>Which crimes have the lowest arrest rates?</h2>"
   ]
  },
  {
   "cell_type": "code",
   "execution_count": 108,
   "id": "85025952-b6d5-411a-a97d-ec1560a20a4a",
   "metadata": {},
   "outputs": [
    {
     "data": {
      "image/png": "[encoded data removed]",
      "text/plain": [
       "<Figure size 1200x600 with 1 Axes>"
      ]
     },
     "metadata": {},
     "output_type": "display_data"
    },
    {
     "name": "stdout",
     "output_type": "stream",
     "text": [
      "Primary Type\n",
      "HUMAN TRAFFICKING                    0.000000\n",
      "CRIMINAL SEXUAL ASSAULT              0.025429\n",
      "INTIMIDATION                         0.027586\n",
      "MOTOR VEHICLE THEFT                  0.027698\n",
      "DECEPTIVE PRACTICE                   0.029751\n",
      "CRIMINAL DAMAGE                      0.040858\n",
      "BURGLARY                             0.049272\n",
      "ARSON                                0.055310\n",
      "KIDNAPPING                           0.057143\n",
      "STALKING                             0.059615\n",
      "OFFENSE INVOLVING CHILDREN           0.061991\n",
      "ROBBERY                              0.071585\n",
      "SEX OFFENSE                          0.071901\n",
      "THEFT                                0.076502\n",
      "ASSAULT                              0.110546\n",
      "BATTERY                              0.171538\n",
      "OTHER OFFENSE                        0.200703\n",
      "HOMICIDE                             0.265823\n",
      "OTHER NARCOTIC VIOLATION             0.285714\n",
      "CRIMINAL TRESPASS                    0.292567\n",
      "PUBLIC PEACE VIOLATION               0.486083\n",
      "OBSCENITY                            0.528302\n",
      "WEAPONS VIOLATION                    0.648520\n",
      "NON-CRIMINAL                         0.750000\n",
      "INTERFERENCE WITH PUBLIC OFFICER     0.894942\n",
      "PUBLIC INDECENCY                     0.923077\n",
      "PROSTITUTION                         0.951220\n",
      "NARCOTICS                            0.958352\n",
      "LIQUOR LAW VIOLATION                 0.968750\n",
      "CONCEALED CARRY LICENSE VIOLATION    0.987952\n",
      "GAMBLING                             1.000000\n",
      "Name: Arrest, dtype: float64\n"
     ]
    }
   ],
   "source": [
    "arrest_rate = sin.groupby(\"Primary Type\")[\"Arrest\"].mean().sort_values()\n",
    "\n",
    "plt.figure(figsize=(12,6))\n",
    "arrest_rate.head(10).plot(kind=\"barh\", color=\"grey\")\n",
    "plt.title(\"Lowest Arrest Rates by Crime Type\")\n",
    "plt.xlabel(\"Arrest Rate\")\n",
    "plt.ylabel(\"Crime Type\")\n",
    "plt.show()\n",
    "\n",
    "print(arrest_rate)  \n"
   ]
  },
  {
   "cell_type": "markdown",
   "id": "aabf28a7-d425-4e71-8615-55fa1e94d827",
   "metadata": {},
   "source": [
    "Insight 26: Insight 26: Serious but uncommon crimes like stalking, kidnapping, and human trafficking have the lowest arrest rates.\n",
    "\n",
    "Insight 27: Fraud-related crimes also have low arrests, showing how difficult they are to investigate.\n",
    "\n",
    "Insight 28: Motor vehicle theft is common but has a low arrest rate.\n"
   ]
  },
  {
   "cell_type": "markdown",
   "id": "c774233c-115d-4690-af76-f1cf814b21a5",
   "metadata": {},
   "source": [
    "<h3>Which crimes suddenly increase in certain months of the year?</h3>"
   ]
  },
  {
   "cell_type": "code",
   "execution_count": 111,
   "id": "a4cf4b48-08ed-40d8-ae15-06e2226060d9",
   "metadata": {},
   "outputs": [
    {
     "data": {
      "image/png": "[encoded data removed]",
      "text/plain": [
       "<Figure size 1200x600 with 1 Axes>"
      ]
     },
     "metadata": {},
     "output_type": "display_data"
    }
   ],
   "source": [
    "monthly_types = sin.groupby([sin[\"Date\"].dt.month,\"Primary Type\"]).size().unstack().fillna(0)\n",
    "monthly_types.max().sort_values(ascending=False).head(10).plot(kind=\"bar\", figsize=(12,6))\n",
    "\n",
    "plt.title(\"Crime Types with Seasonal Spikes\")\n",
    "plt.show()\n"
   ]
  },
  {
   "cell_type": "markdown",
   "id": "d28ab225-6a1a-4b9a-b64a-7ca1985d7d19",
   "metadata": {},
   "source": [
    "Insight 29: Theft has the biggest seasonal jump, showing a sharp rise in certain months compared to its usual level.\n",
    "\n",
    "Insight 30: Insight 30: Battery and criminal damage also rise in certain seasons."
   ]
  },
  {
   "cell_type": "markdown",
   "id": "8448e664-a9a2-421c-ab7e-64de86a6e2f7",
   "metadata": {},
   "source": [
    "<h3>Where in Chicago do most crimes happen?</h3>"
   ]
  },
  {
   "cell_type": "code",
   "execution_count": 119,
   "id": "0616e86e-7fd0-4aa2-bc5f-0251627cd32a",
   "metadata": {},
   "outputs": [
    {
     "data": {
      "text/html": [
       "<div style=\"width:100%;\"><div style=\"position:relative;width:100%;height:0;padding-bottom:60%;\"><span style=\"color:#565656\">Make this Notebook Trusted to load map: File -> Trust Notebook</span><iframe srcdoc=\"&lt;!DOCTYPE html&gt;\n",
       "&lt;html&gt;\n",
       "&lt;head&gt;\n",
       "    \n",
       "    &lt;meta http-equiv=&quot;content-type&quot; content=&quot;text/html; charset=UTF-8&quot; /&gt;\n",
       "    &lt;script src=&quot;https://cdn.jsdelivr.net/npm/leaflet@1.9.3/dist/leaflet.js&quot;&gt;&lt;/script&gt;\n",
       "    &lt;script src=&quot;https://code.jquery.com/jquery-3.7.1.min.js&quot;&gt;&lt;/script&gt;\n",
       "    &lt;script src=&quot;https://cdn.jsdelivr.net/npm/bootstrap@5.2.2/dist/js/bootstrap.bundle.min.js&quot;&gt;&lt;/script&gt;\n",
       "    &lt;script src=&quot;https://cdnjs.cloudflare.com/ajax/libs/Leaflet.awesome-markers/2.0.2/leaflet.awesome-markers.js&quot;&gt;&lt;/script&gt;\n",
       "    &lt;link rel=&quot;stylesheet&quot; href=&quot;https://cdn.jsdelivr.net/npm/leaflet@1.9.3/dist/leaflet.css&quot;/&gt;\n",
       "    &lt;link rel=&quot;stylesheet&quot; href=&quot;https://cdn.jsdelivr.net/npm/bootstrap@5.2.2/dist/css/bootstrap.min.css&quot;/&gt;\n",
       "    &lt;link rel=&quot;stylesheet&quot; href=&quot;https://netdna.bootstrapcdn.com/bootstrap/3.0.0/css/bootstrap-glyphicons.css&quot;/&gt;\n",
       "    &lt;link rel=&quot;stylesheet&quot; href=&quot;https://cdn.jsdelivr.net/npm/@fortawesome/fontawesome-free@6.2.0/css/all.min.css&quot;/&gt;\n",
       "    &lt;link rel=&quot;stylesheet&quot; href=&quot;https://cdnjs.cloudflare.com/ajax/libs/Leaflet.awesome-markers/2.0.2/leaflet.awesome-markers.css&quot;/&gt;\n",
       "    &lt;link rel=&quot;stylesheet&quot; href=&quot;https://cdn.jsdelivr.net/gh/python-visualization/folium/folium/templates/leaflet.awesome.rotate.min.css&quot;/&gt;\n",
       "    \n",
       "            &lt;meta name=&quot;viewport&quot; content=&quot;width=device-width,\n",
       "                initial-scale=1.0, maximum-scale=1.0, user-scalable=no&quot; /&gt;\n",
       "            &lt;style&gt;\n",
       "                #map_577a4bdfe42f04b06d9b7d698eea0b54 {\n",
       "                    position: relative;\n",
       "                    width: 100.0%;\n",
       "                    height: 100.0%;\n",
       "                    left: 0.0%;\n",
       "                    top: 0.0%;\n",
       "                }\n",
       "                .leaflet-container { font-size: 1rem; }\n",
       "            &lt;/style&gt;\n",
       "\n",
       "            &lt;style&gt;html, body {\n",
       "                width: 100%;\n",
       "                height: 100%;\n",
       "                margin: 0;\n",
       "                padding: 0;\n",
       "            }\n",
       "            &lt;/style&gt;\n",
       "\n",
       "            &lt;style&gt;#map {\n",
       "                position:absolute;\n",
       "                top:0;\n",
       "                bottom:0;\n",
       "                right:0;\n",
       "                left:0;\n",
       "                }\n",
       "            &lt;/style&gt;\n",
       "\n",
       "            &lt;script&gt;\n",
       "                L_NO_TOUCH = false;\n",
       "                L_DISABLE_3D = false;\n",
       "            &lt;/script&gt;\n",
       "\n",
       "        \n",
       "    &lt;script src=&quot;https://cdn.jsdelivr.net/gh/python-visualization/folium@main/folium/templates/leaflet_heat.min.js&quot;&gt;&lt;/script&gt;\n",
       "&lt;/head&gt;\n",
       "&lt;body&gt;\n",
       "    \n",
       "    \n",
       "            &lt;div class=&quot;folium-map&quot; id=&quot;map_577a4bdfe42f04b06d9b7d698eea0b54&quot; &gt;&lt;/div&gt;\n",
       "        \n",
       "&lt;/body&gt;\n",
       "&lt;script&gt;\n",
       "    \n",
       "    \n",
       "            var map_577a4bdfe42f04b06d9b7d698eea0b54 = L.map(\n",
       "                &quot;map_577a4bdfe42f04b06d9b7d698eea0b54&quot;,\n",
       "                {\n",
       "                    center: [41.8781, -87.6298],\n",
       "                    crs: L.CRS.EPSG3857,\n",
       "                    ...{\n",
       "  &quot;zoom&quot;: 11,\n",
       "  &quot;zoomControl&quot;: true,\n",
       "  &quot;preferCanvas&quot;: false,\n",
       "}\n",
       "\n",
       "                }\n",
       "            );\n",
       "\n",
       "            \n",
       "\n",
       "        \n",
       "    \n",
       "            var tile_layer_f1310a4c216a386a5323016c74a7e3c8 = L.tileLayer(\n",
       "                &quot;https://tile.openstreetmap.org/{z}/{x}/{y}.png&quot;,\n",
       "                {\n",
       "  &quot;minZoom&quot;: 0,\n",
       "  &quot;maxZoom&quot;: 19,\n",
       "  &quot;maxNativeZoom&quot;: 19,\n",
       "  &quot;noWrap&quot;: false,\n",
       "  &quot;attribution&quot;: &quot;\\u0026copy; \\u003ca href=\\&quot;https://www.openstreetmap.org/copyright\\&quot;\\u003eOpenStreetMap\\u003c/a\\u003e contributors&quot;,\n",
       "  &quot;subdomains&quot;: &quot;abc&quot;,\n",
       "  &quot;detectRetina&quot;: false,\n",
       "  &quot;tms&quot;: false,\n",
       "  &quot;opacity&quot;: 1,\n",
       "}\n",
       "\n",
       "            );\n",
       "        \n",
       "    \n",
       "            tile_layer_f1310a4c216a386a5323016c74a7e3c8.addTo(map_577a4bdfe42f04b06d9b7d698eea0b54);\n",
       "        \n",
       "    \n",
       "            var heat_map_54157131186812208fd4f1c0ea600308 = L.heatLayer(\n",
       "                [[41.868541914, -87.639235361], [41.753819454, -87.644126664], [41.775323369, -87.645890849], [41.76410328, -87.624879224], [41.83936162, -87.662688619], [41.946836457, -87.664007853], [41.748641017, -87.607591178], [41.922602435, -87.730939199], [41.729306217, -87.5755299], [41.912000626, -87.756973128], [41.869491081, -87.643733672], [41.895926709, -87.724879729], [41.880864271, -87.621417037], [41.849281097, -87.624142034], [41.881288087, -87.644106254], [41.882394062, -87.627844798], [41.881847601, -87.641772074], [41.757223644, -87.562274867], [41.767494364, -87.582818841], [41.695982095, -87.596653142], [41.954011476, -87.778031509], [41.871541549, -87.735898224], [41.7376335, -87.673574805], [41.764172027, -87.651665719], [42.005832909, -87.669964736], [41.789318865, -87.617960897], [41.898440104, -87.700447824], [41.824661323, -87.618228006], [41.912599617, -87.706818213], [41.906675284, -87.671675562], [41.825501742, -87.612190546], [41.772516417, -87.572803609], [41.767371552, -87.690652742], [41.952764927, -87.707983753], [41.727356102, -87.56208261], [41.698861675, -87.641370601], [41.893429499, -87.635619998], [41.853451881, -87.728127153], [41.99631721, -87.709319685], [41.961005529, -87.723235175], [41.772998982, -87.576478539], [41.756907575, -87.590103712], [41.999935438, -87.681423455], [41.744648886, -87.552062556], [41.707246223, -87.618164684], [41.863330022, -87.710452943], [41.75625468, -87.565108524], [41.748418256, -87.631816504], [41.900870422, -87.624184899], [41.976645081, -87.807020688], [41.84730317, -87.718532434], [41.671665172, -87.651449368], [41.680418426, -87.662437948], [41.929743818, -87.684273777], [41.744989257, -87.717765251], [41.948279589, -87.649516667], [41.893840384, -87.75556076], [41.787623197, -87.648634237], [41.96012588, -87.699653952], [41.865332001, -87.624104181], [41.797181108, -87.663454963], [41.692780068, -87.600611049], [41.722578383, -87.662706548], [41.797414808, -87.584002797], [41.807606277, -87.689304435], [41.786219214, -87.705010461], [41.881205735, -87.763220885], [41.889741913, -87.765198001], [42.014907816, -87.67137181], [41.713753878, -87.642987258], [41.910624936, -87.667997673], [41.770980744, -87.6834133], [41.894262326, -87.616673471], [41.965381987, -87.731448261], [41.979006297, -87.906463155], [41.835686337, -87.620644613], [41.764848113, -87.623283866], [41.998734156, -87.660613118], [41.789457355, -87.671749265], [41.781445809, -87.71901894], [41.993007999, -87.688516553], [41.857971121, -87.655325101], [41.96782534, -87.724354142], [42.011588423, -87.66445538], [41.774549191, -87.629079232], [41.75997253, -87.589613858], [41.925078949, -87.673734337], [41.904909088, -87.714189009], [41.887966168, -87.634790696], [41.952642798, -87.715330105], [41.777651649, -87.615560874], [41.865584176, -87.765180641], [41.966669657, -87.654795172], [41.830641983, -87.654094502], [41.952616728, -87.707981526], [41.804128392, -87.666071062], [41.735754178, -87.622585865], [41.722460108, -87.576090212], [41.769070498, -87.626668445], [41.677486509, -87.664155912], [41.904639093, -87.631468141], [41.880154994, -87.770515674], [41.900743703, -87.6281167], [41.764569155, -87.628341654], [41.902183952, -87.761807405], [41.763647552, -87.722344693], [41.803181616, -87.585432024], [41.721733411, -87.575340493], [41.779603401, -87.654945018], [41.756370227, -87.583428579], [41.7353413, -87.609638787], [42.018420477, -87.679048742], [41.894945606, -87.754874977], [41.901680889, -87.628345154], [41.89671314, -87.625556861], [41.665755878, -87.636685542], [41.830309935, -87.644877208], [41.751045798, -87.61910063], [41.697743347, -87.595702973], [41.806369361, -87.658833096], [41.810410248, -87.666578097], [41.995159052, -87.658373656], [41.902670154, -87.766887042], [41.956617362, -87.782928029], [41.896058403, -87.715111949], [41.77871704, -87.718843337], [41.88295859, -87.658303592], [41.901845985, -87.723835407], [41.911829862, -87.774051027], [41.718624248, -87.657626951], [41.911668675, -87.729230781], [41.74519462, -87.58583056], [41.908452786, -87.765880756], [42.003076901, -87.696464888], [41.912672528, -87.742844368], [41.883057686, -87.751104303], [41.999533347, -87.671104423], [41.878525835, -87.750888401], [41.88024803, -87.745269129], [41.759954082, -87.56882492], [41.782582618, -87.70493597], [41.825560372, -87.692925587], [41.814489784, -87.637684303], [41.762670721, -87.633380345], [41.896139064, -87.662969106], [41.902762454, -87.632884581], [41.925078949, -87.673734337], [41.890851335, -87.755448134], [41.771539896, -87.650645583], [41.7211947, -87.664024973], [41.856432328, -87.656380172], [41.727359215, -87.55521742], [41.885325435, -87.627930066], [41.707519433, -87.601839023], [41.738538504, -87.550220349], [41.990493052, -87.656826515], [41.769893291, -87.656671282], [41.976814727, -87.659880317], [41.883500187, -87.627876698], [41.890476599, -87.653446283], [41.774753412, -87.684738994], [41.804049897, -87.652691947], [41.810707298, -87.603919835], [42.011586022, -87.66451428], [41.889393149, -87.632534851], [41.909438867, -87.676000444], [41.706736745, -87.659183363], [41.895839182, -87.751950552], [41.88456033, -87.735909158], [41.736955209, -87.545828233], [41.797278375, -87.591735162], [41.726457034, -87.627578883], [41.856326729, -87.711475294], [41.737072445, -87.648508275], [41.898175518, -87.643546363], [41.985999837, -87.655266727], [41.950617423, -87.670533877], [41.890030684, -87.773708684], [41.900018446, -87.717685423], [41.946648722, -87.702084879], [41.804136152, -87.663631928], [41.873219626, -87.675868666], [41.6986022, -87.653068993], [41.8471621004112, -87.66884486839668], [41.796774155, -87.692662152], [41.707756212, -87.580708771], [41.90215894, -87.764507548], [41.801609105, -87.617736187], [42.007687346, -87.678937973], [41.800482877, -87.732495088], [41.686526918, -87.62087639], [41.861623721, -87.731152127], [41.881883933, -87.640060441], [41.844200577, -87.72857401], [41.791380296, -87.724717996], [41.899564734, -87.676413943], [41.895445293, -87.717964416], [41.712660818, -87.56215942], [41.771850282, -87.673711855], [41.943056436, -87.649362967], [41.881556538, -87.627758535], [41.78024818, -87.615190945], [41.882526427, -87.624384106], [41.865659093, -87.72515212], [41.977370604, -87.655016254], [41.712720927, -87.681813981], [41.737462708, -87.585645433], [41.987854564, -87.806891582], [41.941546365, -87.667441071], [41.947053963, -87.745328258], [41.725643993, -87.558055172], [41.757630995, -87.585708249], [41.828907913, -87.692349187], [41.887687015, -87.658319921], [41.781274042, -87.605951067], [41.763106372, -87.662709884], [41.8764974, -87.648362037], [41.676983304, -87.628635796], [41.73528583, -87.666696178], [41.964725229, -87.705156893], [41.881550935, -87.661134965], [41.947295978, -87.651162974], [41.868165405, -87.62743954], [41.97400598, -87.685380139], [41.723632562, -87.607660211], [41.678368742, -87.662495843], [41.927617255, -87.705032324], [41.974520804, -87.793957241], [41.904582292, -87.714655027], [41.939179345, -87.720388942], [41.77797218, -87.605874726], [41.761378427, -87.615192464], [41.97449895, -87.736841924], [41.910332823, -87.718997072], [41.929791229, -87.687815939], [41.903868832, -87.633408812], [41.876868549, -87.698630138], [41.834690813, -87.613705645], [41.911402836, -87.626419612], [41.809185832, -87.629246523], [41.879749464, -87.72645064], [41.869333381, -87.686919244], [41.883049471, -87.68260565], [42.008231385, -87.666186777], [41.886275336, -87.765078145], [41.881738731, -87.751307231], [41.885729338, -87.625780935], [41.810289998, -87.61962035], [41.751164599, -87.612198632], [42.017006715, -87.673208421], [41.75242239, -87.602784346], [41.897965794, -87.734296616], [41.867251542, -87.639594427], [41.880934233, -87.709411705], [41.768068248, -87.567482256], [41.909152038, -87.652675042], [41.865300153, -87.622503872], [41.684847644, -87.65959862], [41.978209435, -87.655794384], [41.754732917, -87.576055481], [41.953653767, -87.696449824], [41.883500187, -87.627876698], [41.78068708, -87.664249949], [41.724722986, -87.638444672], [41.690077306, -87.635057544], [41.968763818, -87.688661831], [41.869357223, -87.660491719], [41.736861885, -87.545825709], [41.789226074, -87.623352264], [41.750300852, -87.628230274], [41.808855912, -87.664976619], [41.895480257, -87.714258048], [41.869901648, -87.718440772], [41.908220385, -87.628791197], [41.762821678, -87.561408794], [41.754991977, -87.670838926], [41.678889083, -87.627491193], [41.872871783, -87.696936649], [41.990344872, -87.658225884], [41.743387373, -87.60136976], [41.962340543, -87.722968739], [41.893223483, -87.63153437], [41.899649072, -87.684490471], [41.883134849, -87.725739235], [41.667503644, -87.622282981], [41.936244656, -87.655735236], [41.9501057, -87.650180905], [41.969780182, -87.769120668], [41.922512011, -87.781755102], [41.911191384, -87.630867327], [41.761944762, -87.583561603], [41.850972623, -87.696441701], [41.743664903, -87.623737162], [41.763023938, -87.62163622], [41.884270108, -87.648991452], [41.92115687, -87.784151493], [41.754442247, -87.633656666], [41.776070273, -87.592969398], [41.836600771, -87.61677038], [41.868541914, -87.639235361], [41.769299377, -87.57393767], [41.74842498, -87.621310102], [41.957059194, -87.767129924], [41.888525948, -87.644322264], [41.794533814, -87.631438536], [41.707756212, -87.580708771], [41.808894002, -87.723620573], [41.746846831, -87.654377518], [42.019398729, -87.67543958], [41.808051219, -87.662516438], [41.949827751, -87.722606555], [41.882103874, -87.684752469], [41.792410188, -87.778526426], [41.863824331, -87.671269516], [41.769185486, -87.625732415], [41.731549301, -87.661722987], [41.754929677, -87.552157782], [41.903070812, -87.648059717], [41.981026661, -87.656544229], [41.961861687, -87.742644119], [41.782483099, -87.650932831], [41.792195498, -87.604958508], [41.730488938, -87.596189406], [41.65406484, -87.616140612], [41.8924816, -87.627351831], [41.90070717, -87.734799946], [41.911367051, -87.626401638], [41.886556321, -87.694281545], [41.730774376, -87.583891217], [41.906605031, -87.693662846], [41.983117874, -87.655172255], [41.808615911, -87.607780288], [41.756746208, -87.606055842], [41.710715507, -87.597374915], [41.931265251, -87.766924444], [41.833676141, -87.612942762], [41.685228429, -87.630614288], [41.831270845, -87.68019124], [41.687767976, -87.620976192], [41.916614306, -87.693360821], [41.850656285, -87.623748793], [41.975370278, -87.744023432], [41.975686228, -87.713860671], [41.736948274, -87.655800799], [41.970781331, -87.797662417], [41.930906002, -87.644017035], [41.869429465, -87.655975043], [41.894886472, -87.627501647], [41.873876382, -87.760572608], [41.803201891, -87.72198373], [42.010690499, -87.674318738], [41.866341527, -87.711154301], [41.947565438, -87.681001545], [41.91626858, -87.656982703], [41.857480658, -87.622322505], [41.952489142, -87.818825393], [41.800403816, -87.665970337], [41.89870524, -87.694311031], [41.896564682, -87.636280076], [41.771973284, -87.628344899], [41.931404684, -87.708626091], [41.801355133, -87.645341277], [41.802896506, -87.606425428], [41.698110981, -87.618705311], [41.811863832, -87.643196658], [41.831857932, -87.64491566], [41.909240284, -87.65274758], [41.791160785, -87.579836586], [41.810754956, -87.628253619], [41.888525948, -87.644322264], [41.968672937, -87.741069877], [41.984237719, -87.655208186], [41.814157326, -87.619724149], [41.781321374, -87.604326298], [41.874499333, -87.714041981], [41.853859109, -87.661204766], [41.895740636, -87.652619127], [41.961397141, -87.72050696], [41.83515994, -87.718560595], [41.911170142, -87.631881548], [41.740247076, -87.608601727], [41.672607974, -87.65634418], [41.920770826, -87.661950744], [41.69164054, -87.626359583], [41.939165716, -87.707686609], [41.760231662, -87.670979293], [41.79194408, -87.632929944], [41.885393253, -87.663547848], [41.765074267, -87.688150122], [41.772058383, -87.638711184], [41.916188543, -87.686431934], [41.692557138, -87.667243735], [41.992738481, -87.698256423], [41.778455807, -87.740150645], [41.956774392, -87.649764097], [41.760253172, -87.653983315], [41.853483171, -87.725737316], [41.75122688, -87.560162461], [41.955048544, -87.682388444], [41.917778553, -87.72168503], [41.853570721, -87.631795503], [41.670584044, -87.637281336], [41.896252678, -87.709931118], [41.742092497, -87.545421029], [41.889945138, -87.662938383], [41.884650262, -87.627915459], [41.854495111, -87.719928143], [41.851715746, -87.709336028], [41.959999372, -87.736999231], [41.843016958, -87.61722727], [41.814997466, -87.666369113], [41.878827643, -87.729099546], [41.872575513, -87.703427415], [41.797578177, -87.634295207], [41.733303689, -87.664207029], [41.857421603, -87.693474118], [41.767600907, -87.568184289], [41.939529586, -87.68182958], [41.716453529, -87.564626727], [41.931582515, -87.742747165], [41.906889759, -87.722777185], [41.902202935, -87.760110141], [41.788585336, -87.737563803], [41.762477082, -87.708310063], [41.777830892, -87.773108721], [41.754233967, -87.710981134], [41.969562558, -87.674194925], [41.967189655, -87.660150847], [41.823125769, -87.602725951], [41.871572151, -87.733871212], [41.806289611, -87.664907928], [41.820980638, -87.693007909], [41.834552992, -87.614485119], [41.896846625, -87.662421768], [41.816358925, -87.606702419], [41.896087525, -87.713895902], [41.972364558, -87.656304974], [41.884454286, -87.6513508], [41.730920038, -87.620144261], [41.814724628, -87.693176609], [41.808495683, -87.650389071], [41.857969611, -87.655534354], [41.767976536, -87.648128379], [41.830726675, -87.648024641], [41.992716769, -87.661187807], [41.95640573, -87.676396694], [41.757852343, -87.60782093], [41.8862037, -87.758953138], [41.897478161, -87.631267403], [41.803032525, -87.752815958], [41.75214266, -87.717575972], [41.998584125, -87.660298313], [41.794828373, -87.580442725], [41.88992163, -87.664554596], [41.784036825, -87.657043248], [41.893140033, -87.624204307], [41.845043522, -87.73337022], [41.972364558, -87.656304974], [41.932403264, -87.726995489], [41.922792647, -87.784196259], [41.981204771, -87.807361964], [41.806801421, -87.61952336], [41.815834469, -87.669210788], [41.903927985, -87.629617162], [41.727512094, -87.605777536], [41.809925897, -87.662573909], [41.780705827, -87.661818922], [41.917407385, -87.70579017], [41.890533814, -87.718610207], [41.845564564, -87.705072405], [41.759643753, -87.602959011], [41.671556077, -87.653880899], [41.90158828, -87.710584499], [41.775144517, -87.683532573], [41.815864003, -87.66578418], [41.8988442, -87.642025824], [41.735649236, -87.674031111], [41.727840294, -87.546873728], [41.953989221, -87.65210627], [41.884743767, -87.765021942], [41.890084853, -87.705121137], [41.825213448, -87.692228274], [41.918229021, -87.714082317], [41.858862111, -87.658902133], [41.892694943, -87.707692242], [41.751164599, -87.612198632], [41.776910761, -87.684797914], [41.844361191, -87.716461331], [41.730183523, -87.542415942], [41.88360569, -87.707634031], [41.796252054, -87.717117259], [41.806999742, -87.606511089], [41.853733835, -87.646523755], [41.93991842, -87.653288878], [41.85005463, -87.674780925], [41.744299127, -87.652355994], [41.866810739, -87.625817031], [41.835659225, -87.623356707], [41.754628982, -87.584482356], [41.734084057, -87.655013883], [41.944195363, -87.755227651], [41.895551357, -87.769069262], [41.793730937, -87.775280598], [41.941034149, -87.639335535], [41.932191946, -87.64474923], [41.982604842, -87.657987672], [41.735675087, -87.609041497], [41.752798881, -87.567465897], [41.677350403, -87.67145644], [41.939528104, -87.724560973], [41.852840843, -87.632710099], [41.902285227, -87.752457779], [41.773556277, -87.664056445], [41.897935239, -87.711512559], [41.789475966, -87.666897747], [41.888675138, -87.74678575], [41.888658688, -87.748941709], [41.852198325, -87.674377204], [41.947104052, -87.661898744], [41.696569313, -87.541352297], [41.910624936, -87.667997673], [41.76587359, -87.576294705], [41.96416436, -87.656682274], [41.884230364, -87.682758922], [42.001822361, -87.689987495], [41.943477174, -87.707740029], [41.932191946, -87.64474923], [41.899525741, -87.722546136], [41.736703815, -87.573292232], [41.653736007, -87.595407587], [42.014779344, -87.683950799], [41.904461396, -87.667525341], [41.94345324, -87.693930558], [41.932755165, -87.647150367], [41.784295057, -87.711999495], [41.793489834, -87.70519249], [41.969148513, -87.79648468], [41.899241556, -87.70899477], [41.92771187, -87.668235408], [41.93213633, -87.692007606], [41.724527193, -87.643296878], [41.954607083, -87.647107189], [41.883500187, -87.627876698], [41.883595623, -87.686500083], [41.726612592, -87.63236882], [41.907025249, -87.724002889], [41.852119752, -87.679355196], [41.735329834, -87.625419019], [41.899215699, -87.753253295], [41.877906388, -87.731344454], [42.004790901, -87.670575279], [41.853909902, -87.622244595], [41.788228604, -87.771896148], [41.692250558, -87.651004995], [41.736264617, -87.627929503], [41.966047906, -87.661060061], [41.94116171, -87.642741424], [41.898393644, -87.731100655], [41.852692376, -87.643088278], [41.961080347, -87.717204606], [41.904423517, -87.729681127], [41.753269154, -87.655416625], [41.691293985, -87.718826648], [41.826683834, -87.624868461], [41.870028132, -87.708823855], [41.736845408, -87.563643491], [41.852540744, -87.711170609], [41.899562612, -87.749147178], [41.860559903, -87.617934625], [41.939923405, -87.668667203], [41.86821682, -87.6304532], [41.851748568, -87.706795743], [41.846507607, -87.691002753], [41.914021595, -87.685634506], [41.748465764, -87.668894176], [41.74961243, -87.662205371], [41.896804274, -87.749613083], [41.978799002, -87.817845008], [41.914500429, -87.650806905], [41.910090832, -87.708731086], [41.763851185, -87.564332474], [41.703773632, -87.56445552], [41.954833901, -87.64970763], [41.784732216, -87.646127681], [41.950661906, -87.747875754], [41.910785098, -87.721468912], [41.878606466, -87.685019172], [41.898596141, -87.753923743], [41.789967349, -87.7683057], [41.681009139, -87.620607791], [41.896690577, -87.653619125], [41.750481539, -87.61005877], [41.876919736, -87.69007408], [41.872709056, -87.624187857], [41.957533329, -87.779379638], [41.878111597, -87.634339888], [41.807368147, -87.727244292], [41.90460068, -87.712469118], [41.93859561, -87.649576033], [41.889906681, -87.624100509], [41.88893074, -87.756614969], [41.889260507, -87.644630215], [41.946648722, -87.702084879], [41.926692767, -87.735413334], [41.76547731, -87.583659765], [41.794868928, -87.675544197], [41.775380274, -87.631698738], [41.978012471, -87.711168106], [41.90227194, -87.753629703], [41.873901709, -87.758501519], [41.83349233, -87.665634061], [41.882748442, -87.632387132], [41.919403327, -87.743756021], [41.765763563, -87.586317625], [41.852868298, -87.63091491], [41.746010581, -87.643906039], [41.907384912, -87.674342655], [42.007118515, -87.673527744], [41.765444001, -87.626906181], [41.78016773, -87.701949444], [41.874363279, -87.643013039], [41.799859608, -87.703740301], [41.924465814, -87.7283384], [41.814719069, -87.695630794], [41.682283521, -87.710521776], [41.749189043, -87.693828126], [41.903817882, -87.728797856], [41.765110076, -87.616855319], [41.813316762, -87.669952111], [42.00695915, -87.673492597], [41.754606922, -87.623814556], [41.889179572, -87.633062369], [41.750481539, -87.61005877], [41.892260043, -87.775048159], [41.885207597, -87.670332679], [41.690779093, -87.622400168], [41.896543094, -87.637698101], [41.94631018, -87.654297987], [41.820489899, -87.606402579], [41.824352892, -87.707866397], [41.92653767, -87.764849602], [41.740140031, -87.615594033], [41.896714548, -87.625340136], [41.749982305, -87.644024788], [41.845672943, -87.712385902], [41.907338601, -87.710289828], [41.785957604, -87.721623241], [42.007998217, -87.660559674], [41.748514025, -87.628183865], [41.990686468, -87.707870201], [41.998103884, -87.668301232], [41.751644163, -87.658618398], [42.01034291, -87.66592922], [41.74527172, -87.680924346], [41.769346415, -87.687044244], [41.981757163, -87.712477774], [41.905988025, -87.678647756], [41.827819302, -87.667890806], [41.92631455, -87.739738366], [41.959309186, -87.753333629], [41.812433492, -87.608261761], [41.880727007, -87.679078267], [41.885901992, -87.632455489], [41.924228431, -87.747117979], [41.872795719, -87.704049438], [41.813312219, -87.666324236], [41.854476564, -87.721080898], [41.93121391, -87.676890454], [41.945583581, -87.829092452], [41.88275944, -87.709463721], [41.758459772, -87.612329543], [41.903304304, -87.670064675], [41.940562556, -87.67195019], [41.773636117, -87.648269776], [41.906797102, -87.671861659], [41.906702443, -87.63007161], [41.982494751, -87.759291218], [41.925764201, -87.649209628], [41.863851978, -87.70802858], [41.746764918, -87.582968713], [41.923035853, -87.716946087], [41.869353154, -87.660734079], [41.707556034, -87.628331319], [41.93486408, -87.645084335], [41.873679994, -87.706673392], [41.856266032, -87.73255322], [41.805679494, -87.58425861], [41.687873195, -87.634989851], [41.853676611, -87.622239838], [41.747606874, -87.667012135], [41.812244589, -87.604430616], [41.857509563, -87.661306034], [41.756548345, -87.565112352], [41.87946694, -87.748155186], [41.802031713, -87.59049938], [41.803181616, -87.585432024], [41.89552753, -87.709302745], [41.952271275, -87.786531374], [41.972364558, -87.656304974], [41.931417509, -87.755078443], [41.767414241, -87.589487591], [41.902704765, -87.722255029], [41.874123343, -87.743757437], [41.813130398, -87.672375087], [41.782921527, -87.60436317], [41.942276583, -87.641038593], [41.86821682, -87.6304532], [41.742209446, -87.719851098], [41.697587544, -87.618381555], [41.910091012, -87.708764148], [41.769364272, -87.688268431], [41.658124414, -87.597578775], [41.941748603, -87.668718084], [41.774322836, -87.596061639], [41.94066546, -87.745872131], [41.931555622, -87.658673448], [41.826502965, -87.608198422], [41.798294606, -87.695148188], [41.828478959, -87.620493405], [41.806708099, -87.619520728], [41.797540057, -87.768550915], [41.947252263, -87.65350869], [41.92527195, -87.65970977], [41.788699273, -87.641358723], [41.917365169, -87.677609253], [41.959708095, -87.755708813], [41.749853838, -87.650083838], [41.755013292, -87.665986312], [41.694683665, -87.697217006], [41.829317892, -87.679396533], [41.881722193, -87.624356274], [41.939622671, -87.674099046], [41.72624978, -87.657935365], [41.892483509, -87.627215916], [41.977281854, -87.836609734], [41.923934223, -87.76891111], [41.761982747, -87.57804849], [41.793158667, -87.728368301], [41.718679881, -87.538908792], [41.880932326, -87.709565954], [41.872552897, -87.724161514], [41.885730181, -87.634433124], [41.772998982, -87.576478539], [41.794670403, -87.631785431], [41.760361887, -87.58617869], [41.837841843, -87.714612042], [41.882394062, -87.627844798], [41.883210459, -87.63030358], [41.680967067, -87.544435622], [41.834155131, -87.623318288], [41.882435247, -87.733079304], [41.845172736, -87.695225703], [41.731497731, -87.658074565], [41.907264025, -87.724007966], [41.768846641, -87.572703993], [41.953319325, -87.649745873], [41.944629572, -87.776451467], [41.85384608, -87.715063469], [41.764319552, -87.649244941], [41.747801357, -87.664587863], [41.656369006, -87.551985036], [41.806035956, -87.666120957], [41.789235914, -87.686353141], [41.914828384, -87.670246643], [41.78402007, -87.607962325], [41.893646656, -87.631177143], [41.804985459, -87.741860937], [41.886132774, -87.73749202], [41.729200758, -87.644668296], [41.86821682, -87.6304532], [41.947225886, -87.655545441], [41.809898313, -87.6389958], [41.778178732, -87.692150678], [41.784925695, -87.735163022], [41.779798546, -87.641648739], [41.860258063, -87.706712682], [41.755059595, -87.67448486], [41.791262773, -87.666945246], [42.005076306, -87.818810307], [41.922288839, -87.75535195], [41.757950303, -87.615113401], [41.924673521, -87.711230943], [41.781755363, -87.636223331], [41.931606452, -87.741001296], [41.757614433, -87.586115266], [41.756383209, -87.569981467], [41.845085249, -87.618848403], [41.911092374, -87.676259019], [41.937742748, -87.723739962], [41.658282323, -87.603406488], [41.906815524, -87.75836799], [41.655802068, -87.604371278], [41.852089006, -87.623784345], [41.97002338, -87.656241512], [41.756187611, -87.604086707], [41.887596071, -87.700169253], [41.767161311, -87.615296593], [41.904871691, -87.630014558], [41.97043926, -87.650011483], [41.935085427, -87.81641467], [41.778340981, -87.703122242], [41.92652984, -87.639151006], [41.939866616, -87.67836381], [41.961333657, -87.730284063], [41.759609622, -87.558372185], [41.998506964, -87.685035992], [41.897244981, -87.720430139], [41.935428755, -87.783400598], [41.876256138, -87.672760517], [41.710800566, -87.623992508], [41.949801843, -87.807164361], [41.765358204, -87.58475348], [41.845409256, -87.64037729], [41.901864643, -87.707408047], [41.75310665, -87.563830389], [41.767754543, -87.654186436], [41.906264681, -87.72755514], [41.856536081, -87.695604636], [41.751013563, -87.620980989], [41.874180626, -87.66785807], [41.938924798, -87.73984196], [41.785914192, -87.657089519], [41.995009162, -87.660420591], [41.821536978, -87.621542622], [41.895927928, -87.748890135], [41.917553265, -87.690000534], [41.890013524, -87.631664996], [41.779975054, -87.630937377], [41.80803649, -87.67467225], [41.721190999, -87.616544872], [41.675033453, -87.657654813], [41.80068378, -87.665978435], [41.787480544, -87.618458018], [41.879747044, -87.774642998], [42.015517282, -87.679074821], [41.95892318, -87.656259765], [41.894348137, -87.750685901], [41.874342594, -87.674531651], [41.87799992, -87.643098749], [41.880560303, -87.641730873], [41.882389568, -87.626221727], [41.882553868, -87.624383802], [41.824675709, -87.617013434], [41.905601795, -87.677329223], [41.887475918, -87.709807121], [41.916887607, -87.648452028], [41.879663784, -87.70490742], [41.881183104, -87.68498211], [41.699039558, -87.61842406], [41.858579571, -87.625628785], [41.843281635, -87.695171094], [41.754691074, -87.557038686], [41.969385341, -87.725633665], [41.768359584, -87.619542782], [41.903857606, -87.772313266], [41.901509073, -87.64251869], [41.901876489, -87.628916042], [41.962114545, -87.677507276], [41.752952598, -87.558466927], [41.655277798, -87.597464802], [41.80118769, -87.678193588], [41.909464471, -87.66522133], [41.844026941, -87.622100808], [41.891910775, -87.634075602], [41.749880266, -87.663426578], [41.764682386, -87.663785792], [41.896671699, -87.628635323], [41.71965216, -87.642653076], [41.747769971, -87.665797486], [41.916622547, -87.747338232], [41.864493678, -87.639158], [41.705551538, -87.609606745], [41.853147346, -87.671904525], [41.857969438, -87.655504989], [41.812312158, -87.618236995], [41.954475247, -87.655402462], [41.777995351, -87.76468954], [41.760984651, -87.6345569], [41.946048865, -87.655587315], [41.843346814, -87.726956243], [41.661145231, -87.642572334], [41.722410409, -87.579801505], [41.885741529, -87.631344503], [41.808373256, -87.621189516], [41.782580161, -87.649718184], [41.976895989, -87.682533766], [41.862830724, -87.717095148], [41.879544788, -87.714834169], [41.887727215, -87.713646145], [41.863924955, -87.706816383], [41.728104955, -87.617149416], [41.824728209, -87.643524474], [41.670596065, -87.636095316], [41.891465732, -87.624153044], [41.907105785, -87.725218099], [41.808505933, -87.613855727], [41.890732628, -87.637999874], [41.754368978, -87.566285457], [41.802499513, -87.586041451], [41.733817922, -87.61090156], [41.779220641, -87.649632877], [41.890074025, -87.765209749], [41.782313698, -87.683724183], [41.975729415, -87.654989539], [41.805751166, -87.670969131], [41.778589721, -87.728464918], [41.810600297, -87.607823921], [41.919764211, -87.716848971], [41.895530962, -87.708924395], [41.809631718, -87.69424704], [41.758346414, -87.561510075], [41.689793022, -87.628946343], [41.94044868, -87.651081589], [41.908430535, -87.638509526], [41.874899072, -87.694830958], [41.974346203, -87.656361214], [41.777309867, -87.640802922], [41.809924338, -87.669866067], [41.881642592, -87.624353482], [41.810257961, -87.622863301], [41.756643651, -87.666028063], [41.812717267, -87.705371491], [41.911312835, -87.6725939], [41.86789576, -87.642212505], [41.758108725, -87.560035881], [41.929918253, -87.708798618], [41.980011739, -87.749593009], [41.745840593, -87.600909494], [41.940513757, -87.757638995], [41.924673521, -87.711230943], [41.769070498, -87.626668445], [41.862866414, -87.714036773], [41.945910991, -87.655474824], [41.817686328, -87.618378979], [41.968596475, -87.774536564], [41.844361092, -87.716442982], [41.902940868, -87.695032866], [41.930946496, -87.788962647], [41.968763818, -87.688661831], [41.859894261, -87.714014058], [41.755500696, -87.63441848], [41.759698269, -87.711052957], [41.743755638, -87.543037223], [41.683404261, -87.630747624], [41.965431687, -87.720611699], [41.830697249, -87.614476891], [41.772416526, -87.587285227], [41.916375383, -87.738761294], [41.683935959, -87.721829061], [41.866341527, -87.711154301], [41.750574861, -87.610061387], [41.883527553, -87.758852249], [41.843257583, -87.63989405], [41.748917027, -87.610017698], [41.994758989, -87.7144777], [41.992923273, -87.701907408], [41.805087346, -87.611355859], [41.891023035, -87.619141016], [41.894292589, -87.664920363], [41.868258726, -87.627442185], [42.017103697, -87.66908954], [41.671377005, -87.622459968], [41.80449694, -87.71987712], [41.879297767, -87.725621359], [41.956845064, -87.682223102], [41.864493678, -87.639158], [41.954865195, -87.645299318], [41.882004688, -87.728948432], [41.734080848, -87.620926313], [41.868815583, -87.686098385], [41.916455795, -87.695945351], [41.730965503, -87.554041855], [41.844252757, -87.724943845], [41.902820105, -87.707997479], [41.929700376, -87.648910326], [41.922961256, -87.696240713], [41.699450245, -87.620920514], [41.917656022, -87.688750258], [41.712930476, -87.538899017], [41.906431981, -87.710607226], [41.699282994, -87.668104426], [41.771204571, -87.687091578], [41.658616407, -87.605455681], [41.783316167, -87.593120705], [41.924673521, -87.711230943], [41.750285238, -87.668893737], [42.014216031, -87.664229139], [41.922099276, -87.78784364], [41.892509386, -87.626069718], [41.795647522, -87.733035334], [41.984832196, -87.66203947], [41.781933589, -87.684934293], [41.873219626, -87.675868666], [41.791136414, -87.618094703], [41.929382233, -87.669507952], [41.778121477, -87.59614645], [41.810800457, -87.595731527], [41.879308789, -87.760329481], [42.000406576, -87.703385968], [41.808682769, -87.630898966], [41.803365964, -87.622682706], [41.968275606, -87.724912458], [41.743557554, -87.601375156], [41.860386485, -87.61345799], [41.925315875, -87.732920054], [41.793080655, -87.737067453], [41.773380039, -87.667731606], [41.777180531, -87.647146858], [41.965352869, -87.772296206], [41.800824903, -87.664763008], [41.706925829, -87.642045876], [41.766361968, -87.638380416], [41.766041683, -87.684504174], [41.722361335, -87.584047596], [41.975709021, -87.711984884], [41.703858986, -87.565728891], [41.691314623, -87.717043381], [41.774818426, -87.67016934], [41.983215171, -87.822307607], [41.692896849, -87.682468088], [41.810239316, -87.751789851], [41.880842701, -87.686421355], [41.833911118, -87.626469369], [41.977331824, -87.811983582], [41.961201511, -87.748772005], [41.937860684, -87.669302416], [41.905710812, -87.659661966], [41.860094531, -87.707925692], [41.741656613, -87.604965662], [41.895996468, -87.625487641], [41.782322899, -87.66428794], [41.877578699, -87.641050665], [41.80767567, -87.60925074], [41.983854552, -87.80532458], [41.877580455, -87.753874939], [41.919222845, -87.689215828], [41.961179146, -87.709078045], [41.881041489, -87.699929177], [41.795997546, -87.582556062], [41.892364069, -87.635962145], [41.903996883, -87.643230238], [41.909498816, -87.756066167], [41.954365662, -87.723963925], [41.887539026, -87.704771483], [41.805126734, -87.608894322], [41.828413721, -87.614429056], [41.740512116, -87.669258312], [41.880487595, -87.745964635], [41.695200272, -87.661174902], [41.743981062, -87.604103927], [41.773929911, -87.633272606], [41.880652933, -87.634367274], [41.890041941, -87.766491794], [41.654469907, -87.608528558], [42.001752132, -87.696091796], [41.843582005, -87.709888497], [41.873185004, -87.743795434], [41.74961243, -87.662205371], [41.692742497, -87.612899161], [41.802075618, -87.590498872], [41.749413181, -87.669478077], [41.896785818, -87.751383663], [41.857307384, -87.644778606], [41.869067122, -87.679153117], [41.839410287, -87.646313633], [41.729083258, -87.586746398], [41.779059693, -87.615596501], [41.94219754, -87.688249516], [41.765676702, -87.568940263], [41.654733332, -87.547148983], [41.868060209, -87.661603069], [41.686940061, -87.639056421], [41.882470918, -87.627847625], [41.961606203, -87.668327924], [41.835457038, -87.640125043], [41.852838973, -87.63285327], [41.835988008, -87.647201575], [41.868391701, -87.659165447], [41.776400433, -87.570448042], [41.754307458, -87.604038357], [41.80211009, -87.685508459], [41.753747, -87.621441858], [41.781231428, -87.620606304], [41.688133934, -87.634994354], [41.793961228, -87.644290868], [41.831075459, -87.620119685], [41.865902267, -87.708089369], [41.982574638, -87.656586683], [41.809569293, -87.603624629], [41.973780289, -87.664685637], [41.752190503, -87.662405734], [41.911106795, -87.63906832], [41.853113752, -87.674654111], [41.774918835, -87.673786731], [41.695433244, -87.612232021], [41.939254178, -87.661187195], [41.937469982, -87.711764483], [41.77920444, -87.681790411], [41.886793983, -87.647932552], [41.930917022, -87.644024267], [41.870016716, -87.742451398], [41.947682963, -87.807089886], [41.893676531, -87.635628328], [41.963070794, -87.655984213], [41.967011098, -87.715768556], [41.722352508, -87.584377376], [41.790598514, -87.620740903], [41.690300278, -87.618209624], [41.919326623, -87.768903949], [41.905056258, -87.69200318], [41.854963672, -87.627133239], [41.863399839, -87.658219341], [41.823763551, -87.622585601], [41.78333868, -87.615699111], [41.843050626, -87.641525751], [41.911590736, -87.73531182], [41.915973889, -87.730182202], [41.931761099, -87.655819443], [41.910533752, -87.653832316], [41.772812361, -87.576477067], [41.822347994, -87.702059869], [41.862832404, -87.716896892], [41.890900247, -87.639397357], [41.967619813, -87.777986884], [41.88010075, -87.753543714], [41.930040514, -87.766203961], [41.895538876, -87.624265922], [41.872560678, -87.723559287], [41.938465561, -87.644347277], [41.73671368, -87.545823856], [41.945342747, -87.657304056], [41.917881405, -87.742373811], [41.764036319, -87.661237681], [41.737750767, -87.604855911], [41.747525736, -87.693782337], [41.891893286, -87.628074498], [41.897021755, -87.629781141], [41.764698678, -87.590959498], [41.762996467, -87.640033176], [41.910122622, -87.706004806], [41.852873532, -87.691357505], [41.891399464, -87.744502089], [41.736531943, -87.612633478], [41.788243045, -87.692820438], [41.810693516, -87.683929054], [41.921724596, -87.695429932], [41.847387855, -87.724642545], [41.907611727, -87.637886535], [41.959009912, -87.682164298], [41.760854178, -87.562249731], [41.880801792, -87.625515824], [41.752105494, -87.669028886], [41.820406812, -87.627846915], [41.7515006, -87.585343286], [41.852577345, -87.712355832], [41.944862379, -87.739665593], [41.809519024, -87.607384952], [41.997212975, -87.723319881], [41.748060338, -87.741302702], [41.854096611, -87.669483159], [41.800765694, -87.663549662], [41.878836816, -87.670567448], [41.911938731, -87.778958438], [41.805440779, -87.60647736], [41.925704369, -87.703500367], [41.91025859, -87.732454998], [41.903077492, -87.683673325], [41.728402425, -87.585021479], [41.775299593, -87.644670291], [41.852586768, -87.650210212], [41.743516281, -87.570973015], [41.937374325, -87.76645507], [41.948651302, -87.68133602], [41.740836656, -87.638743647], [41.903892302, -87.631858359], [41.921343993, -87.77684873], [41.902744263, -87.76689006], [41.906736182, -87.671766774], [42.015525565, -87.707630555], [41.7520097, -87.61656125], [41.891840006, -87.760526009], [41.946299214, -87.778958601], [41.89371269, -87.622728826], [41.899492018, -87.724981793], [41.908945342, -87.697026676], [41.79432621, -87.643832227], [41.75054604, -87.600317297], [41.779018407, -87.775206523], [41.891678767, -87.627551654], [41.876787524, -87.626052156], [41.736422269, -87.604815966], [41.948023689, -87.678585425], [41.776229309, -87.605835764], [41.729332789, -87.605969474], [41.899794952, -87.726220467], [41.991354683, -87.655423248], [41.866229446, -87.720935733], [41.908609283, -87.735078813], [42.012808566, -87.664751692], [41.909636288, -87.745300725], [41.94645497, -87.664000815], [41.943056436, -87.649362967], [41.969395543, -87.704596199], [41.784116743, -87.600708696], [41.852157287, -87.633121312], [41.78969378, -87.643819534], [41.740918989, -87.631967753], [41.695281571, -87.626246479], [41.678996304, -87.634708786], [41.8680583, -87.643686657], [41.721326098, -87.653682861], [41.707140078, -87.625398758], [41.815255723, -87.668787566], [41.812634626, -87.639494474], [41.993108732, -87.656905495], [41.905530484, -87.639062616], [41.746634877, -87.612377582], [41.884494554, -87.627138636], [41.861335178, -87.625690175], [41.852077599, -87.734523094], [41.902455031, -87.632873247], [41.738800887, -87.638827873], [41.932502092, -87.717207764], [41.766029424, -87.667492348], [41.903200117, -87.751582559], [41.948951446, -87.766859805], [41.881974072, -87.631407775], [41.910676312, -87.649187069], [41.93859561, -87.649576033], [41.811882738, -87.707837332], [41.888189539, -87.623777956], [41.972944196, -87.728159323], [41.691845415, -87.605978221], [41.749717771, -87.625788671], [41.881086082, -87.695096188], [41.870544975, -87.729001321], [41.728886954, -87.626434932], [41.749289356, -87.55406214], [41.992840571, -87.688510886], [41.91113337, -87.678631919], [41.86131857, -87.704426297], [41.765294465, -87.59825803], [41.76015578, -87.556752911], [41.937195186, -87.78956005], [41.9214392, -87.724236893], [41.870257391, -87.745500226], [41.971333826, -87.677769413], [41.780603619, -87.69343543], [41.868184336, -87.641372316], [41.806143354, -87.668551637], [41.701773728, -87.530449174], [41.900160157, -87.644553511], [41.921485089, -87.737692357], [41.935707028, -87.70349384], [41.79798376, -87.723298581], [41.777508938, -87.742263791], [41.744592345, -87.64629205], [41.895265344, -87.661380506], [41.86821682, -87.6304532], [41.870995138, -87.701985318], [41.795274106, -87.653690617], [41.765448289, -87.72243391], [41.767580187, -87.688216656], [41.886762429, -87.650466894], [41.935589209, -87.648406333], [41.949959892, -87.657538332], [41.918346953, -87.707489508], [41.957720382, -87.730968879], [41.78620893, -87.642514854], [41.758560412, -87.562728003], [41.885701462, -87.766122525], [41.808500903, -87.616562762], [41.774838063, -87.664090778], [41.891678767, -87.627551654], [41.751708436, -87.568145845], [41.833359249, -87.641296207], [41.760831501, -87.564188931], [41.965719926, -87.750135319], [41.86866942, -87.74301085], [41.874810093, -87.725465597], [41.954463587, -87.716606594], [41.710599926, -87.608986108], [41.949282834, -87.717689508], [41.867428461, -87.626305854], [41.759938901, -87.56203711], [41.684033541, -87.651849627], [41.90214763, -87.632865587], [41.852750046, -87.640815604], [41.980104694, -87.668297306], [41.811184733, -87.617431538], [41.94050159, -87.677107624], [42.018545253, -87.693885413], [41.692833841, -87.60431945], [41.749460005, -87.72089612], [41.867652932, -87.710583536], [41.748065493, -87.641527745], [41.867191464, -87.716095047], [41.894709237, -87.640759183], [41.781335054, -87.615651789], [41.774320542, -87.602143632], [41.836806313, -87.73095549], [41.803515121, -87.743044463], [41.991560549, -87.655432099], [41.87766908, -87.629284766], [41.975248235, -87.713552324], [41.906649062, -87.637525948], [41.878446729, -87.756966284], [41.851467867, -87.730230676], [41.76836371, -87.644495208], [41.748217964, -87.650038887], [41.726143793, -87.65671293], [41.944953005, -87.649416212], [41.812222809, -87.666808738], [41.771370289, -87.665208261], [41.737203218, -87.64973064], [41.867428235, -87.626269143], [41.78696081, -87.622266229], [41.858754266, -87.647641044], [41.865541907, -87.768294247], [41.906276004, -87.670011875], [41.935036244, -87.794378265], [41.87277057, -87.63062361], [41.954881682, -87.669066936], [41.901572414, -87.634392628], [41.77700683, -87.644718018], [41.726609527, -87.665489059], [41.767995465, -87.574711844], [41.918280817, -87.781269792], [41.885842047, -87.678074925], [41.780816987, -87.701242788], [41.731984502, -87.611303122], [41.849123537, -87.710047571], [41.736736273, -87.598532484], [41.680834251, -87.646879157], [41.701308009, -87.616044336], [41.882212065, -87.747788623], [41.932662576, -87.652340605], [41.76508481, -87.583649672], [41.800781276, -87.706676331], [41.894760052, -87.636457636], [41.72413459, -87.646934967], [41.928146573, -87.650657787], [41.892255865, -87.677686169], [41.689873321, -87.62237719], [41.943485157, -87.659679819], [41.918403912, -87.768213964], [42.019529832, -87.689363741], [41.846436953, -87.696549081], [41.98734938, -87.738299948], [41.998281878, -87.687458979], [41.780792313, -87.63806697], [41.881883933, -87.640060441], [42.000543176, -87.660715471], [41.738650879, -87.666785954], [41.992508755, -87.66034393], [41.961223135, -87.702566094], [41.744409214, -87.547902775], [41.898407446, -87.695537156], [41.877876597, -87.73404363], [41.771444724, -87.68831724], [41.801377893, -87.619389174], [41.884688197, -87.636827836], [41.69044328, -87.669015636], [41.870257278, -87.745478198], [41.785122895, -87.716919505], [41.906763691, -87.650679924], [41.87683815, -87.634320718], [41.795042507, -87.660968848], [41.802896506, -87.606425428], [41.880432396, -87.624355843], [41.894520775, -87.71750683], [41.797832643, -87.61768285], [41.692569761, -87.624397882], [41.814938122, -87.665129821], [41.772626204, -87.572805978], [41.858652284, -87.669994015], [41.918780718, -87.707018632], [41.753788284, -87.645336408], [41.727749413, -87.662832278], [41.90990286, -87.634672812], [41.872702515, -87.647051383], [41.833394209, -87.617007965], [41.874786127, -87.669111211], [41.778483841, -87.727640997], [41.781260679, -87.622226547], [41.974129858, -87.766357256], [41.859539368, -87.656472214], [41.883936469, -87.679813038], [41.797262841, -87.768542347], [41.857509786, -87.623926319], [41.745030429, -87.71521078], [41.78669001, -87.620637517], [41.880097909, -87.773997324], [42.010955076, -87.662670047], [41.930040514, -87.766203961], [41.677354605, -87.671233104], [41.884090949, -87.659532917], [42.019502897, -87.69141383], [41.740828727, -87.653477248], [41.953500354, -87.655284123], [41.764707098, -87.624890909], [41.847421749, -87.701446404], [41.896095397, -87.628186206], [41.91341119, -87.761920347], [41.858252197, -87.726162043], [41.924758733, -87.736592584], [41.799592162, -87.723345674], [41.854263175, -87.683249905], [41.854881827, -87.67911049], [41.744274729, -87.54790075], [42.011442451, -87.672894316], [41.76154459, -87.581957188], [41.775269099, -87.706448146], [41.876462276, -87.630737388], [41.909879125, -87.676686601], [41.86821682, -87.6304532], [41.794646032, -87.626020851], [41.888915636, -87.758528531], [41.867413836, -87.704476701], [41.737074199, -87.64972468], [41.768416984, -87.612910877], [41.885742471, -87.631498734], [41.896714548, -87.625340136], [41.862722844, -87.646787332], [41.923595936, -87.677369078], [41.900311383, -87.766033654], [41.709714047, -87.654936863], [41.881088655, -87.720764494], [41.765393301, -87.632518676], [41.803515121, -87.743044463], [41.771222423, -87.735499305], [41.892094734, -87.688485787], [41.888599915, -87.632510468], [41.743298706, -87.614712408], [41.94808308, -87.710973984], [41.869433264, -87.655688627], [41.886443395, -87.626316579], [41.707983665, -87.640434129], [41.967627923, -87.674678185], [41.963541971, -87.725453876], [41.793924612, -87.673580917], [41.733703669, -87.631881386], [41.85426932, -87.659556037], [41.87683815, -87.634320718], [41.742771036, -87.624307635], [41.870538687, -87.717997752], [42.004790901, -87.670575279], [41.890974305, -87.667669094], [41.761222214, -87.561068765], [41.955397816, -87.679623905], [41.800127645, -87.700081157], [41.717755524, -87.56112054], [41.853619531, -87.670982016], [41.893380852, -87.664808665], [41.878053886, -87.638849697], [41.861628294, -87.716500973], [41.828762287, -87.614436164], [41.873828974, -87.692396234], [41.780421287, -87.605198095], [41.843281635, -87.695171094], [41.891062111, -87.617043461], [41.901188978, -87.769262069], [41.655276978, -87.597336736], [41.746661428, -87.608745795], [41.759336481, -87.653967327], [41.668189482, -87.620471046], [41.783562964, -87.702048133], [41.884600448, -87.666897965], [41.919877063, -87.685994173], [41.906126939, -87.665127554], [41.653745791, -87.599937561], [41.780169305, -87.619708804], [41.88460804, -87.731905848], [41.754592961, -87.741528537], [41.87311739, -87.745595187], [41.748423479, -87.614897118], [41.723052391, -87.625073929], [41.885325435, -87.627930066], [41.960024938, -87.79434055], [41.998074221, -87.698442499], [41.928001461, -87.735882518], [41.881652603, -87.62776115], [41.886629337, -87.713612685], [41.885871785, -87.632452147], [41.871295508, -87.625925454], [41.668287557, -87.639183666], [41.906276004, -87.670011875], [41.899490038, -87.61886669], [41.721180629, -87.623717187], [41.704064345, -87.719521707], [41.896432525, -87.710708051], [41.790754583, -87.739927261], [41.791256978, -87.697392541], [41.693430484, -87.628697955], [41.771378209, -87.65671433], [41.827948888, -87.710069553], [41.865397377, -87.640660777], [41.880237864, -87.662786483], [41.773589854, -87.660408418], [41.885728393, -87.63413935], [41.722479637, -87.574474559], [41.713397051, -87.642976426], [41.890051565, -87.62891376], [41.93935097, -87.705428046], [41.868231689, -87.704990026], [41.929825051, -87.777135168], [41.773185756, -87.664049299], [41.825035599, -87.605723772], [41.742309264, -87.544216516], [41.784487261, -87.633733432], [41.949623861, -87.665298405], [41.908452786, -87.765880756], [41.916021232, -87.724075313], [41.682394237, -87.669032538], [41.99727953, -87.668585726], [41.781285637, -87.64846701], [41.925414838, -87.719458726], [41.841634167, -87.726913695], [41.998131694, -87.808712545], [41.882880585, -87.698023476], [41.998742314, -87.677193855], [41.933464986, -87.738481319], [41.991538784, -87.656859584], [41.753085419, -87.557003062], [41.908273709, -87.764629606], [42.00535134, -87.672111083], [41.92343028, -87.732860566], [41.930825987, -87.800124672], [41.84145484, -87.729337512], [41.75048988, -87.596257462], [41.778033071, -87.704023491], [41.891165185, -87.635567513], [41.785590911, -87.621742363], [41.843577966, -87.720869191], [41.678036817, -87.621903486], [41.938156996, -87.712448791], [41.8606502, -87.728151056], [41.941884969, -87.716257342], [41.883031715, -87.753021461], [41.725775794, -87.579095465], [41.754029881, -87.605272902], [41.784747667, -87.618968707], [41.79229374, -87.617531776], [41.701407493, -87.628127503], [41.710338002, -87.611409899], [41.912543336, -87.69461022], [41.883475491, -87.627876969], [41.761836539, -87.571284004], [41.905568035, -87.688324507], [41.888045958, -87.625413826], [41.956422692, -87.719117119], [41.966392804, -87.657173479], [41.862066717, -87.695777288], [41.865507449, -87.703133346], [41.872013415, -87.627533053], [41.8976722, -87.680437017], [41.884930978, -87.716221792], [41.821789385, -87.601875318], [41.917564386, -87.753395793], [41.852868298, -87.63091491], [41.766060565, -87.577183241], [41.760297611, -87.564785411], [41.801833715, -87.676947352], [41.735785147, -87.663367896], [41.873699424, -87.704705156], [41.890861028, -87.725952492], [41.892605313, -87.619839586], [41.945910991, -87.655474824], [41.673554115, -87.616411124], [41.89138477, -87.648797987], [41.736259984, -87.628068782], [41.772443522, -87.613016126], [41.81561054, -87.690141352], [41.857713393, -87.671835452], [41.917402098, -87.635454463], [41.768144351, -87.628240195], [41.888165132, -87.622937212], [41.964239134, -87.661001861], [41.876713223, -87.750611108], [41.861105328, -87.649814857], [41.914678858, -87.650816026], [41.736125788, -87.588112068], [41.877467769, -87.678277981], [41.896564682, -87.636280076], [41.759609622, -87.558372185], [41.736491541, -87.615385513], [41.907153315, -87.639680572], [41.772700563, -87.66038472], [41.915207272, -87.642352616], [41.941517082, -87.669018213], [41.71294324, -87.564580652], [41.969296124, -87.708502376], [41.894913971, -87.677019892], [41.782854247, -87.771686376], [41.808262602, -87.656447387], [42.012806272, -87.66482899], [41.997973182, -87.676101777], [41.877352817, -87.702848073], [41.764793071, -87.632195313], [41.779446471, -87.60164911], [41.861359279, -87.694400341], [41.750934303, -87.626365331], [41.770276447, -87.610540285], [41.825516608, -87.685610095], [41.801789442, -87.663572009], [41.886410545, -87.63394829], [41.877600872, -87.635193673], [41.837489008, -87.646264459], [41.902670403, -87.629946882], [41.761780578, -87.563712101], [41.884736687, -87.756447037], [41.869428989, -87.655894275], [41.773318536, -87.671335913], [41.886530514, -87.697047165], [41.772543553, -87.575248471], [41.876612775, -87.651147769], [41.857928781, -87.620239858], [41.858177245, -87.72860019], [41.904579871, -87.640696598], [41.96313471, -87.778334691], [41.794448893, -87.702425391], [41.837891205, -87.657625141], [41.892255865, -87.677686169], [41.994019837, -87.713281946], [41.961818031, -87.651574317], [41.714590113, -87.679451005], [41.953605409, -87.653095607], [41.707756212, -87.580708771], [41.75274094, -87.704908283], [41.778451549, -87.740388993], [41.808734609, -87.599250835], [41.93203174, -87.707870258], [41.846801978, -87.623527134], [41.924156702, -87.752443164], [41.929815803, -87.70863057], [41.717882545, -87.569862197], [41.675146007, -87.657660956], [41.662840705, -87.640204675], [41.89438589, -87.658818689], [41.747614906, -87.561316152], [41.994608883, -87.699540077], [41.858643312, -87.6239505], [41.771182323, -87.573992444], [41.877726616, -87.629717425], [41.871423284, -87.627513844], [41.911151209, -87.63598179], [41.852252485, -87.622262954], [41.898767916, -87.624116333], [41.782867456, -87.686538162], [41.884333364, -87.619266937], [41.693111925, -87.681195401], [41.808608378, -87.622819173], [41.904159343, -87.747018742], [41.908080474, -87.768290327], [41.77474151, -87.794483207], [41.974793885, -87.669584532], [41.884494554, -87.627138636], [41.783084356, -87.618924839], [41.917487533, -87.753392815], [41.765253769, -87.615255549], [41.962086968, -87.666054342], [41.886340707, -87.711999596], [41.866843668, -87.625816668], [41.994758989, -87.7144777], [41.739013423, -87.660714554], [41.875166083, -87.733672397], [41.859979546, -87.727430533], [41.837877634, -87.728024377], [41.878034263, -87.721271021], [41.979124617, -87.656490815], [41.935432921, -87.668504341], [41.93883609, -87.746072695], [41.741318622, -87.611418415], [41.980874051, -87.659992014], [41.783065147, -87.618925053], [41.708331868, -87.629542387], [41.97008868, -87.762690091], [41.727107005, -87.597327075], [42.019399237, -87.675049485], [41.937561729, -87.698936486], [42.007685581, -87.693225183], [41.76680404, -87.605619683], [41.727195776, -87.554992264], [41.906899902, -87.640888264], [41.735511477, -87.650906354], [41.79307818, -87.799027246], [42.015646284, -87.688291598], [41.72825629, -87.550726234], [41.745300086, -87.572216127], [41.829776309, -87.626599252], [41.856314611, -87.709746496], [41.88181283, -87.64466246], [41.783269378, -87.576255103], [41.810453067, -87.593347577], [41.762133025, -87.588456317], [41.905517707, -87.669858088], [41.842695834, -87.61721984], [41.782988644, -87.613264765], [41.801534536, -87.648728219], [41.888525948, -87.644322264], [41.756663072, -87.571213268], [41.8032982, -87.653195042], [41.956120784, -87.712984014], [41.961309882, -87.689031113], [41.76678687, -87.724899174], [41.894653144, -87.629726333], [41.811006775, -87.726149899], [41.944058633, -87.798352983], [41.976214404, -87.689164079], [41.779520772, -87.660962362], [41.89989343, -87.748365437], [41.938693019, -87.757376037], [41.793619717, -87.697871585], [41.736955209, -87.545828233], [41.653446938, -87.608635166], [41.780040978, -87.621583743], [41.865470872, -87.773401597], [41.797974087, -87.73187306], [41.932629338, -87.687919626], [41.798429303, -87.744521435], [41.763105491, -87.618417091], [41.940859925, -87.728881813], [41.87741656, -87.697982127], [41.735325878, -87.649691927], [41.851216189, -87.702785476], [41.807499342, -87.590234482], [41.877352817, -87.702848073], [41.885721223, -87.747106563], [41.95300882, -87.77952543], [41.944661669, -87.719244721], [41.843656863, -87.734267647], [41.785819005, -87.734381042], [41.88275944, -87.709463721], [41.75375771, -87.552135344], [41.749899475, -87.663426378], [41.86212666, -87.719370627], [41.893982855, -87.634556185], [41.870932257, -87.744921277], [41.863196881, -87.614817819], [41.891037284, -87.618343879], [41.885879253, -87.630979425], [41.766587744, -87.620141588], [41.849271567, -87.624821149], [41.776105804, -87.611926629], [41.87107745, -87.69453855], [41.968408072, -87.712747145], [41.877494027, -87.674712257], [41.836559146, -87.620223934], [41.929907247, -87.785671374], [41.857208371, -87.666128921], [41.938775026, -87.750785196], [41.797436747, -87.770986959], [41.862506448, -87.705861064], [41.93991842, -87.653288878], [41.89773632, -87.746724879], [41.684014753, -87.626476016], [41.890964831, -87.712520383], [41.942560278, -87.660134311], [41.868219921, -87.664046556], [41.898914865, -87.745898649], [41.655895809, -87.594980408], [41.838052883, -87.645564858], [41.673412656, -87.652726676], [42.014899856, -87.679077469], [41.778527446, -87.687285702], [41.968384442, -87.714979411], [41.929743818, -87.684273777], [41.716490763, -87.567325731], [41.736523977, -87.561137565], [41.807378046, -87.613857343], [41.888658546, -87.721000676], [41.812043041, -87.645623081], [41.759925155, -87.688007445], [41.786584778, -87.622255717], [41.992877214, -87.697044795], [41.853483443, -87.725788701], [41.954283241, -87.748750672], [41.895003278, -87.62152816], [41.879777172, -87.724427063], [41.80568304, -87.675829718], [41.878777016, -87.674482434], [41.73276923, -87.551319924], [41.907758382, -87.673908994], [41.901122429, -87.715279828], [41.907127255, -87.678232016], [41.852050099, -87.625484208], [41.960302524, -87.727808338], [41.874086805, -87.62599014], [41.883937538, -87.683386186], [41.899064749, -87.721007793], [41.900870422, -87.624184899], [41.763539578, -87.600634932], [41.777635185, -87.615561058], [41.831200469, -87.613763088], [41.752892887, -87.582120402], [41.679197087, -87.622696048], [41.985714803, -87.698024625], [41.903143435, -87.726317316], [41.870766304, -87.721564326], [41.952066533, -87.710762451], [41.949997165, -87.76689466], [41.892676942, -87.715008664], [41.87781708, -87.738960948], [41.875158002, -87.70596131], [41.844171363, -87.730324894], [41.856106646, -87.625571623], [41.81410035, -87.59935831], [41.774196646, -87.623965298], [41.809125265, -87.631906508], [41.931582761, -87.742794939], [41.862491447, -87.707135078], [41.813003673, -87.693124049], [41.882382128, -87.681551149], [41.896685066, -87.627683859], [41.933362004, -87.794322533], [41.697086882, -87.620840409], [41.8926701, -87.628106353], [41.902501122, -87.73675947], [41.823443139, -87.708113727], [41.715855226, -87.616413701], [41.763273454, -87.592515401], [41.769230605, -87.575159176], [41.931848306, -87.78816484], [41.972585384, -87.66542626], [41.856227252, -87.694352315], [41.751714157, -87.640407465], [41.805467035, -87.728413909], [41.939449187, -87.688979237], [41.941668147, -87.716252081], [41.751292803, -87.604680828], [41.778864596, -87.6642029], [41.897211487, -87.625823165], [41.885901992, -87.632455489], [41.775834643, -87.615515144], [41.702121118, -87.563980845], [41.765232135, -87.642611634], [41.955806461, -87.770758631], [41.673554115, -87.616411124], [41.986428158, -87.656700356], [41.811641005, -87.668700212], [41.877044066, -87.729134707], [41.77487333, -87.670172441], [41.764459484, -87.634647489], [41.76680404, -87.605619683], [41.87900312, -87.629339891], [41.714693603, -87.569442106], [41.822682077, -87.612420302], [41.797861137, -87.742898312], [41.747406422, -87.558881752], [41.773279263, -87.677407198], [41.756235979, -87.582202362], [41.876693689, -87.752171843], [41.864095896, -87.714046935], [41.920497061, -87.780471713], [41.931962854, -87.712876373], [41.813803157, -87.704715262], [41.7737319, -87.651916442], [41.965560479, -87.734619832], [41.828483745, -87.621707836], [41.721491857, -87.575332343], [41.973814751, -87.722064863], [41.929666825, -87.80523147], [41.890719773, -87.683115438], [41.93784525, -87.6484557], [41.884156648, -87.655309056], [41.743123892, -87.601365424], [41.993122729, -87.698267318], [41.924228431, -87.747117979], [41.877039418, -87.6777536], [41.895140898, -87.624255632], [41.886338617, -87.669450614], [41.903927445, -87.629529005], [41.774500677, -87.604579512], [41.726629248, -87.551178253], [41.778660358, -87.693381423], [41.899283124, -87.696079421], [41.779112173, -87.693695901], [41.765072771, -87.584749467], [41.994913946, -87.881937669], [41.852001972, -87.688617027], [41.77302129, -87.574036742], [41.982777739, -87.656591889], [41.886406416, -87.706919954], [41.754981686, -87.652646228], [41.794347692, -87.623479103], [41.890031133, -87.709866744], [41.749318943, -87.6132747], [41.768069819, -87.567306284], [41.919946841, -87.772267892], [41.902285153, -87.752443086], [41.934398911, -87.714760195], [41.925582893, -87.746348591], [41.977075308, -87.841539415], [41.872709056, -87.624187857], [41.809543557, -87.60562401], [41.879306906, -87.760502084], [41.884696976, -87.773373307], [41.748021126, -87.658524412], [41.768382919, -87.644495002], [41.67917017, -87.63713025], [41.900484579, -87.698462441], [41.946145384, -87.655667162], [41.751464464, -87.644063902], [41.803181616, -87.585432024], [41.81229295, -87.618237209], [41.888388731, -87.765143885], [41.860179164, -87.710369723], [41.705755747, -87.530450903], [41.879505465, -87.626683155], [41.743711725, -87.566115507], [41.725886173, -87.592263692], [41.958065808, -87.646360506], [41.750005014, -87.673125651], [41.855848898, -87.721119199], [41.801013834, -87.66233678], [41.765558228, -87.622733535], [41.947575666, -87.777903567], [41.891774905, -87.757933618], [41.727707947, -87.551205466], [41.983213607, -87.730883121], [41.949526705, -87.802240673], [41.784010597, -87.672817244], [41.9240717, -87.759003127], [41.809877856, -87.674664391], [41.99748861, -87.703723769], [41.737750767, -87.604855911], [42.012212473, -87.683763488], [41.774167776, -87.607046857], [41.896888586, -87.628203192], [41.871834768, -87.62615082], [41.886633576, -87.659781634], [41.68946297, -87.531667685], [41.896671699, -87.628635323], [41.729519971, -87.643441278], [41.750551037, -87.613697029], [41.921014404, -87.711034997], [41.911089355, -87.640269863], [41.735775425, -87.729962303], [41.736779148, -87.65457883], [41.876795906, -87.745297106], [41.811308388, -87.640733951], [41.983395808, -87.768334751], [41.760773578, -87.645511035], [41.994758989, -87.7144777], [41.750674863, -87.641906511], [41.94114331, -87.756769567], [41.961451378, -87.679595123], [41.959922564, -87.649859134], [41.832139915, -87.616981588], [41.896667744, -87.628885133], [41.895775889, -87.651160576], [41.698022892, -87.709619288], [41.767950355, -87.665115448], [41.877034033, -87.729836138], [41.775413264, -87.640753669], [41.768561722, -87.663125948], [41.975827666, -87.697567585], [41.763980792, -87.566478882], [41.88946287, -87.624222942], [41.946365317, -87.727932892], [41.747061584, -87.726606224], [41.938149106, -87.796329436], [41.808564379, -87.669124491], [41.705426314, -87.559638448], [41.994758989, -87.7144777], [41.78384739, -87.674025229], [41.74806235, -87.682801662], [41.865568567, -87.709300466], [41.94219754, -87.688249516], [41.891995447, -87.624165549], [41.754145902, -87.584469647], [41.909795609, -87.733131645], [41.811111409, -87.687959796], [41.7791615, -87.762992725], [41.895924738, -87.749341944], [41.923242137, -87.720622344], [41.915230542, -87.735494615], [41.802875687, -87.607907402], [41.979155762, -87.67649759], [41.9875143, -87.771016573], [41.774164116, -87.653535923], [41.740335173, -87.702134598], [41.974418219, -87.674876684], [41.764427308, -87.567181002], [41.880002373, -87.641134667], [41.880257779, -87.735464519], [41.852831636, -87.710158394], [41.758026132, -87.590779847], [41.857173304, -87.638917814], [41.906769429, -87.671821535], [41.728319713, -87.545149736], [41.929420671, -87.669511228], [41.778660516, -87.789852853], [41.75189903, -87.642853544], [41.961830813, -87.714384636], [41.930906002, -87.644017035], [41.792959315, -87.669413975], [41.852004263, -87.688536253], [41.895094039, -87.654649787], [41.705368787, -87.621649862], [41.887729055, -87.665510287], [41.908241453, -87.678238993], [41.961620844, -87.66706664], [41.910394484, -87.62622133], [41.936880447, -87.648190373], [41.844512439, -87.639106119], [41.888993854, -87.626934833], [41.904709475, -87.774238074], [42.004412214, -87.671528451], [41.807646291, -87.741110208], [41.924852108, -87.635814235], [41.992508755, -87.66034393], [41.725981317, -87.660355955], [41.995602717, -87.672844745], [41.948279589, -87.649516667], [41.869353519, -87.66079649], [41.856143454, -87.650693605], [41.963475399, -87.718108104], [41.867843601, -87.642209396], [41.782279941, -87.671559063], [41.748694075, -87.590557588], [41.967847924, -87.699128818], [41.798011899, -87.616063534], [41.961336068, -87.64989918], [41.765097091, -87.592736347], [41.945430261, -87.652145933], [41.866488579, -87.608481], [41.783318153, -87.594708301], [41.747808436, -87.713315215], [41.91917799, -87.692971447], [41.978960784, -87.666477682], [41.873882196, -87.760087886], [41.884025163, -87.711096607], [41.917243399, -87.720135943], [41.754787799, -87.576054836], [41.822488299, -87.600876789], [41.929743818, -87.684273777], [41.937962412, -87.814818358], [41.697625726, -87.613507428], [41.692322475, -87.645116723], [41.87760556, -87.667877617], [41.755878521, -87.60165665], [41.754913387, -87.552183634], [41.730488938, -87.596189406], [41.892376532, -87.719885364], [41.774275286, -87.592935051], [41.932054318, -87.771132776], [41.706902188, -87.644507138], [41.824675709, -87.617013434], [41.778674243, -87.721622803], [41.802499513, -87.586041451], [41.814772871, -87.707911926], [41.878028593, -87.721752104], [41.970688163, -87.724470288], [41.799767691, -87.750278171], [41.662188239, -87.646261123], [41.996400457, -87.81482986], [41.891984471, -87.62416567], [41.767245969, -87.57632989], [41.938686409, -87.757699537], [41.791783249, -87.606162298], [41.910857665, -87.651995629], [41.692546131, -87.626353328], [41.896190725, -87.712679136], [41.775434922, -87.647106807], [41.855821526, -87.676909504], [41.812288171, -87.619675201], [41.838224144, -87.63258332], [41.76466363, -87.660575009], [41.892753031, -87.624193896], [41.779905957, -87.635359768], [41.977655081, -87.697527343], [41.895803062, -87.683284258], [41.753635646, -87.559239327], [41.93955769, -87.679532106], [41.791484819, -87.677874357], [41.885124736, -87.725797501], [41.939262335, -87.71335694], [41.684388324, -87.667902762], [41.928880169, -87.661509253], [41.960326531, -87.77872673], [41.806756601, -87.621145067], [41.8924816, -87.627351831], [41.701174072, -87.619656445], [41.773494729, -87.70415584], [41.803413431, -87.586052837], [41.763935133, -87.693010939], [41.906979712, -87.634583455], [41.731794648, -87.604703396], [41.850941619, -87.711314571], [41.920379234, -87.697284207], [41.8020092, -87.622063199], [41.80662387, -87.750465426], [41.796945548, -87.754418514], [41.844252757, -87.724943845], [41.984678947, -87.775959146], [41.883221997, -87.625926112], [41.653067292, -87.543513748], [41.709901335, -87.641699033], [41.80149318, -87.651926804], [41.932012618, -87.640940116], [41.87239226, -87.655341611], [41.904170976, -87.666187542], [41.788449223, -87.658371945], [41.976182125, -87.876421145], [41.88233367, -87.627841791], [41.935388169, -87.76881748], [41.931218536, -87.687871374], [41.996455347, -87.785870041], [41.80523288, -87.73085521], [41.755521808, -87.623093474], [41.904394115, -87.630001432], [41.872274452, -87.764581664], [41.981051896, -87.668375719], [41.805911696, -87.703912126], [41.868232071, -87.705059779], [41.873883785, -87.624218932], [41.821718432, -87.702854835], [41.760327809, -87.702697421], [41.870014035, -87.726153553], [41.895558372, -87.705897593], [41.688218178, -87.537357913], [41.740692459, -87.541763027], [41.750322112, -87.603940546], [41.867170725, -87.645777851], [41.891404732, -87.628061509], [41.74531991, -87.600164211], [41.885729667, -87.634348664], [41.930286342, -87.64364886], [41.744941034, -87.617988366], [41.908624645, -87.675663467], [41.941537756, -87.73834013], [41.905949954, -87.749441614], [41.870389764, -87.625902397], [41.654363697, -87.603886182], [41.814563821, -87.604481355], [41.779036216, -87.698803841], [41.893770161, -87.631179463], [41.9181343, -87.710269337], [41.795622257, -87.61924769], [41.651431329, -87.527258234], [41.654733332, -87.547148983], [41.931759437, -87.712305036], [41.925447404, -87.725580455], [41.903396846, -87.663315635], [41.902010688, -87.774555486], [41.769987159, -87.659100723], [41.681993561, -87.6457027], [41.993228887, -87.689735615], [41.931860193, -87.721359411], [41.803181616, -87.585432024], [41.874807994, -87.7580895], [41.795416405, -87.61924264], [41.950520234, -87.760592806], [41.785972871, -87.661947297], [41.823006946, -87.683419417], [41.845298749, -87.623628162], [41.872819865, -87.701949002], [41.983148815, -87.693548252], [41.963351356, -87.76097796], [41.880775433, -87.627029031], [41.88886881, -87.664249734], [41.803644557, -87.70384629], [41.751214876, -87.571098146], [41.699184632, -87.642593834], [41.891690385, -87.626317482], [41.895316997, -87.728944145], [41.886778688, -87.649049147], [41.800903483, -87.584530624], [41.866285492, -87.716026664], [41.989322843, -87.696929381], [41.851865519, -87.634779877], [41.748562136, -87.661399109], [41.901488241, -87.696843586], [41.893685881, -87.632656878], [41.810693516, -87.683929054], [41.947437675, -87.694886927], [41.889496617, -87.651084157], [41.882394062, -87.627844798], [41.983363624, -87.729664281], [41.775117349, -87.715926489], [41.853653762, -87.630117143], [41.894059368, -87.629112133], [41.782175371, -87.609182059], [41.856063057, -87.675956319], [41.903203654, -87.691959272], [41.946221444, -87.708253555], [41.867264692, -87.713895199], [41.703953332, -87.534080433], [41.91754991, -87.759252669], [41.994913946, -87.881937669], [41.891322875, -87.753721369], [41.928102231, -87.72787776], [41.968234567, -87.728571616], [41.974861952, -87.890372151], [41.755831931, -87.662360479], [41.717332926, -87.632183969], [41.986392486, -87.656700734], [41.923857611, -87.667525821], [41.867195306, -87.643927227], [41.873610986, -87.757439323], [41.736430965, -87.545816318], [41.98287878, -87.791440835], [41.999417697, -87.697733824], [41.77268594, -87.605758495], [41.908452786, -87.765880756], [41.900855582, -87.725439031], [41.947317986, -87.649787936], [41.971299274, -87.726902538], [41.928775278, -87.706531338], [42.012323457, -87.80784896], [41.728924667, -87.632142195], [41.822614206, -87.703062507], [41.88221592, -87.638687118], [41.783029137, -87.731437101], [41.763041808, -87.58052121], [41.995323698, -87.656974008], [41.794138407, -87.723184691], [41.970844888, -87.775851775], [41.989243623, -87.665119726], [41.794215678, -87.730544005], [41.726248504, -87.653066834], [41.760231662, -87.670979293], [41.691634536, -87.626722122], [41.878834687, -87.649607595], [41.748814844, -87.644293799], [41.772160394, -87.618653816], [41.809892032, -87.639318659], [41.803090162, -87.670182311], [41.880991939, -87.704394994], [41.9572576, -87.680932121], [41.896010965, -87.624279065], [41.897547204, -87.626418173], [41.834042232, -87.674368991], [41.735843932, -87.619357018], [42.019252019, -87.703089595], [41.841164277, -87.6171782], [41.939127704, -87.788525523], [41.932974724, -87.68153613], [41.830656526, -87.626486831], [41.770020864, -87.6913338], [41.972815733, -87.799042791], [41.715713748, -87.643057853], [41.902394713, -87.72020457], [41.701878895, -87.536490032], [41.965297232, -87.664561083], [41.68082074, -87.63597397], [41.736930377, -87.584391221], [41.970039291, -87.672630855], [41.778767609, -87.686073411], [41.933737707, -87.773620786], [41.901111131, -87.766827355], [41.729545876, -87.629611288], [41.730381275, -87.659559005], [41.809294058, -87.622312742], [41.767821368, -87.631066302], [41.865620822, -87.719506076], [41.966047906, -87.661060061], [41.728920995, -87.587960882], [41.972652294, -87.740588046], [41.961201372, -87.706107016], [41.902443046, -87.740381959], [41.799116083, -87.587771459], [41.953783081, -87.915105451], [41.948602785, -87.648031778], [41.69983078, -87.62654818], [41.906765676, -87.732550205], [41.709585083, -87.537698669], [41.857978675, -87.727372333], [41.794270039, -87.648204114], [41.883253915, -87.657657836], [41.98197973, -87.672227902], [41.706086031, -87.645240959], [41.741950796, -87.577015476], [41.693009455, -87.528251486], [41.915568723, -87.639945842], [41.884484068, -87.623213022], [42.008490731, -87.698364688], [41.771325562, -87.668852609], [41.77322438, -87.677407757], [41.884185797, -87.653740666], [41.939007564, -87.733589211], [41.909787953, -87.733767284], [41.895931553, -87.640037089], [41.792749286, -87.761493453], [41.979006297, -87.906463155], [41.963070794, -87.655984213], [41.780946398, -87.621995369], [41.812244589, -87.604430616], [41.791160785, -87.579836586], [42.018222741, -87.664735462], [41.876671946, -87.753842755], [41.937227668, -87.644305471], [41.758335625, -87.559498048], [41.881348623, -87.674525788], [41.91007391, -87.653106106], [41.732941193, -87.569541011], [41.713046471, -87.630864419], [41.879428698, -87.629823603], [41.736756672, -87.717319932], [41.752190674, -87.66243505], [41.775469949, -87.690157628], [41.963509008, -87.836690988], [42.018498254, -87.672983233], [41.752041175, -87.734196749], [41.653600988, -87.618333954], [41.884124037, -87.626239326], [41.875820724, -87.647175913], [41.935392949, -87.730877654], [41.859103298, -87.703805597], [41.990274105, -87.748329516], [41.979006297, -87.906463155], [41.695865839, -87.653024597], [41.850945565, -87.727974599], [41.777651649, -87.615560874], [41.760497918, -87.680579546], [41.972364558, -87.656304974], [41.766699151, -87.634700167], [41.758979264, -87.567088206], [41.768692133, -87.624942374], [41.902365801, -87.716854733], [41.78138577, -87.613231368], [41.763906678, -87.566476099], [41.76680404, -87.605619683], [41.707786628, -87.58494565], [41.840565492, -87.626840187], [42.018477925, -87.687740415], [41.832104943, -87.623282237], [41.881663579, -87.62776103], [42.004863381, -87.660861288], [41.902917894, -87.697817532], [41.891172898, -87.629635984], [41.678506923, -87.673088202], [41.947002818, -87.66807904], [41.968930035, -87.748396144], [41.884650262, -87.627915459], [41.840091587, -87.704905754], [41.96741345, -87.714554903], [41.863642218, -87.627331436], [41.789719005, -87.686370285], [41.770261822, -87.611706178], [41.952853599, -87.749848235], [41.788760412, -87.623936768], [41.716517432, -87.622731926], [41.885732904, -87.746169989], [41.778508216, -87.687282228], [41.784630525, -87.622203978], [41.963612077, -87.689974939], [41.899342952, -87.690565361], [41.891944059, -87.768792499], [41.872646393, -87.629615264], [41.699022046, -87.620906931], [41.722224268, -87.53595299], [41.696475988, -87.541349781], [41.699480409, -87.656326058], [41.86821682, -87.6304532], [41.869965095, -87.713905843], [41.908430535, -87.638509526], [41.685741645, -87.660424005], [41.771829085, -87.692760138], [41.95086902, -87.754626957], [41.878827237, -87.729022437], [41.894793327, -87.769501996], [41.88171846, -87.627760426], [41.998355645, -87.697229349], [41.999135959, -87.794470491], [41.831881927, -87.616977126], [41.887571335, -87.702156331], [41.78071555, -87.641261244], [42.006817454, -87.763877873], [41.748352768, -87.618078751], [41.97765644, -87.697277246], [41.906187671, -87.72648318], [41.765932432, -87.721102378], [42.007990606, -87.810302018], [41.92510186, -87.671992307], [41.706987456, -87.620244029], [41.905474716, -87.688321772], [41.929097881, -87.647277762], [41.872274452, -87.764581664], [41.770604099, -87.618608772], [41.890058869, -87.707398444], [41.680950591, -87.539651245], [41.740608576, -87.581996114], [41.994105677, -87.71342458], [41.876652426, -87.648588039], [41.881150318, -87.687442783], [41.899430629, -87.656627801], [41.748828946, -87.603898816], [41.769185486, -87.625732415], [41.989694347, -87.656801867], [41.890013524, -87.631664996], [41.772969954, -87.700546316], [41.868780233, -87.627458476], [41.913065827, -87.681617486], [41.719886226, -87.652906836], [41.809638732, -87.655262788], [41.929076433, -87.649663], [41.895199124, -87.664609728], [41.894898559, -87.759720016], [41.892569818, -87.62208039], [41.876778069, -87.745565319], [42.015128925, -87.681235193], [41.726475494, -87.546344539], [41.786030519, -87.661950363], [41.876726955, -87.694375808], [41.750086672, -87.553469816], [41.958196692, -87.667646442], [41.731275691, -87.563416899], [41.755145345, -87.584128183], [41.924791717, -87.635811219], [41.948915784, -87.681035566], [41.713753878, -87.642987258], [41.661837841, -87.641375542], [41.776559029, -87.696984171], [41.854299626, -87.732788189], [41.962308722, -87.669276589], [41.75593947, -87.65729799], [41.920506055, -87.651018488], [41.870973712, -87.736468934], [41.963070794, -87.655984213], [41.892667777, -87.616210158], [42.022524828, -87.672179752], [41.790894592, -87.604940233], [41.975277293, -87.674900933], [41.849218666, -87.628712272], [41.76259663, -87.63338115], [41.907153315, -87.639680572], [41.761135248, -87.630900966], [41.92388009, -87.772424513], [41.825134113, -87.633052616], [41.883219895, -87.628261697], [41.837653935, -87.656012985], [41.947623063, -87.681000957], [41.877745385, -87.638206774], [41.8716444, -87.724133424], [41.978567974, -87.697360119], [41.786947994, -87.650460139], [41.912131362, -87.730067748], [41.655660527, -87.59680543], [41.908693061, -87.722840824], [41.875693162, -87.705967091], [41.799533992, -87.733142096], [41.718896285, -87.535287196], [41.938987857, -87.806782807], [41.764023501, -87.605530144], [41.845105566, -87.622121892], [41.696412583, -87.610423228], [41.706925829, -87.642045876], [41.896325635, -87.696718545], [41.862896077, -87.71140063], [41.811065423, -87.700409948], [41.798639747, -87.604632486], [41.877430311, -87.742717258], [41.776792654, -87.692113157], [41.811397019, -87.671120054], [41.885931086, -87.648650553], [41.825705454, -87.613604484], [41.910428189, -87.680575233], [41.896541195, -87.637837697], [41.75183181, -87.626384801], [41.936079839, -87.748016492], [41.89551514, -87.710559023], [41.953830299, -87.714682629], [42.019448387, -87.693938927], [41.75842474, -87.741669261], [41.932136228, -87.691989231], [41.784086992, -87.710571526], [41.998222515, -87.657601831], [41.93859561, -87.649576033], [41.735879338, -87.737252428], [41.881790794, -87.624355516], [41.754259809, -87.61257812], [41.925155622, -87.701021683], [41.92046017, -87.67083136], [41.700069824, -87.609400899], [41.91504769, -87.785192203], [42.018498254, -87.672983233], [41.93278095, -87.645955681], [41.906797102, -87.671861659], [41.941517703, -87.750480885], [41.927973024, -87.706359125], [41.839925637, -87.661526745], [41.985494543, -87.78404764], [41.750411334, -87.564998631], [41.975559264, -87.654987667], [41.722445994, -87.577280883], [41.811362157, -87.605922555], [41.96938944, -87.700488807], [41.92127755, -87.731572644], [41.826002602, -87.632815674], [41.867127516, -87.721066673], [41.901133376, -87.629904979], [42.013245014, -87.674741296], [41.978466127, -87.903638571], [41.834650079, -87.616847182], [41.745556427, -87.561278519], [41.677810006, -87.642302645], [41.855888512, -87.722374204], [41.996763285, -87.763989588], [41.932069855, -87.712364501], [41.889011399, -87.768983588], [41.866289097, -87.772928201], [41.680641383, -87.633556168], [41.745349433, -87.595345196], [41.697521825, -87.595822678], [41.806392948, -87.660046916], [41.788699737, -87.586649101], [41.866631729, -87.668898249], [41.806540687, -87.619518918], [41.972326185, -87.65771014], [41.779521283, -87.609560223], [41.77420044, -87.716378874], [41.80601617, -87.672191465], [41.909568263, -87.707005828], [41.998734156, -87.660613118], [41.891149658, -87.63256707], [42.021173423, -87.673389816], [41.903329888, -87.696891417], [41.896170931, -87.715114536], [41.849356798, -87.699019622], [41.890882237, -87.706409791], [41.874342594, -87.674531651], [41.792635291, -87.603772727], [41.735857166, -87.624152861], [41.954204854, -87.674956112], [41.929656123, -87.672746402], [41.700160544, -87.669893343], [41.871523378, -87.63355619], [41.894292098, -87.664835891], [41.952940476, -87.784724278], [41.917440581, -87.643640224], [41.767013966, -87.618512993], [41.801946097, -87.58914335], [41.902718713, -87.720752479], [41.930111022, -87.715007422], [41.689711325, -87.636251405], [41.7722742, -87.658343586], [41.844112707, -87.628445336], [41.670145991, -87.635642656], [41.907671047, -87.651438054], [41.776287195, -87.793451073], [41.798153521, -87.583238706], [41.894769094, -87.771276238], [42.018244679, -87.690186314], [41.855861742, -87.716339815], [41.777785281, -87.607130693], [41.736269116, -87.627768243], [41.785446394, -87.697226298], [41.833394531, -87.652249038], [41.76186678, -87.596962971], [41.726599045, -87.605905064], [41.817748687, -87.723929123], [41.931135544, -87.776311603], [41.897945103, -87.716394035], [41.885901992, -87.632455489], [41.901680889, -87.628345154], [41.748060338, -87.741302702], [41.651431329, -87.527258234], [41.765332603, -87.627981404], [41.769185486, -87.625732415], [41.935560905, -87.718045688], [41.900424796, -87.642467932], [41.867206743, -87.643090037], [41.742848789, -87.647516178], [41.728245842, -87.628841504], [41.929636639, -87.638753505], [41.785519673, -87.738567526], [41.763474391, -87.611580639], [41.795498956, -87.676780956], [41.819258844, -87.621479805], [41.900214286, -87.627259314], [41.762738161, -87.600622058], [41.911151119, -87.635967096], [41.906996176, -87.634583276], [41.861951539, -87.706762227], [41.911343842, -87.63471588], [41.928360388, -87.64281704], [41.831014114, -87.617317037], [41.690433162, -87.650896056], [41.689873321, -87.62237719], [41.967895809, -87.650082791], [41.978192567, -87.65712222], [41.834210013, -87.623317682], [41.884276844, -87.622098929], [41.95057608, -87.730756761], [41.786873855, -87.655550394], [41.878113871, -87.634262752], [41.751717281, -87.567002336], [41.882139514, -87.652043757], [41.895897635, -87.677715036], [41.887735461, -87.764007515], [41.921328579, -87.694783498], [41.776150283, -87.615522623], [41.759745969, -87.597045861], [42.021148015, -87.669934375], [41.882140387, -87.68247533], [41.93859561, -87.649576033], [41.919075332, -87.719908968], [41.878638996, -87.627691486], [41.895732399, -87.687784384], [41.78210152, -87.586502002], [41.795415492, -87.620863574], [41.723262549, -87.612968602], [41.88171846, -87.627760426], [41.77864177, -87.679841971], [41.951196567, -87.644904986], [41.87543874, -87.712171295], [41.806712801, -87.712443155], [41.938151196, -87.796189752], [41.935371582, -87.796837872], [41.923041743, -87.682699182], [41.895420644, -87.720539406], [41.894079786, -87.744345246], [41.883209085, -87.633223046], [41.778694859, -87.687287688], [41.71033189, -87.630791427], [41.860563576, -87.734135566], [41.848869113, -87.636640288], [41.920899379, -87.769525766], [41.868034106, -87.639215155], [41.700448947, -87.53528097], [41.899192536, -87.62533113], [41.876616872, -87.75817242], [41.962393229, -87.708279355], [41.881917163, -87.755121029], [41.811257522, -87.665039689], [41.998321669, -87.686240867], [41.759218831, -87.623166331], [41.965972307, -87.648731817], [41.914261154, -87.726472839], [41.91058325, -87.726353375], [41.962019723, -87.680611461], [41.905667773, -87.728850203], [41.896762047, -87.622368121], [41.955436401, -87.679652922], [41.963593386, -87.655721296], [41.926330686, -87.726031415], [41.954163557, -87.767030558], [41.953917073, -87.708409974], [41.940775596, -87.795800169], [41.845041321, -87.618845221], [41.799592827, -87.657745237], [41.868256175, -87.632402287], [41.881890812, -87.721436189], [41.944720347, -87.663952795], [42.011928174, -87.678162251], [41.745807057, -87.604266485], [41.803065896, -87.619432786], [41.882470918, -87.627847625], [41.782175371, -87.609182059], [42.002436524, -87.664448229], [41.949875951, -87.807167428], [41.779396292, -87.635035324], [41.881092742, -87.636745703], [41.925078949, -87.673734337], [41.802101704, -87.587747851], [41.832337226, -87.621793581], [41.844074267, -87.628442088], [41.873567157, -87.764614265], [41.726212389, -87.662796973], [41.925304132, -87.65771408], [41.812638784, -87.639274335], [41.878039055, -87.64002856], [41.91743529, -87.702868881], [41.889179572, -87.633062369], [41.998421009, -87.702110583], [41.73693442, -87.646992878], [41.967737073, -87.771069189], [41.903775756, -87.639324074], [41.786456999, -87.690451166], [41.897751907, -87.715169077], [41.867989472, -87.666417011], [41.947142256, -87.659520013], [41.863162006, -87.64680099], [41.931354176, -87.686616821], [41.748439329, -87.63482489], [41.852881027, -87.635704813], [41.863709837, -87.717784226], [41.760137241, -87.574929026], [41.802505598, -87.585711291], [41.881348623, -87.674525788], [41.750867596, -87.629356468], [41.858762081, -87.695677962], [41.87703964, -87.729336704], [41.808662657, -87.660547675], [41.968234567, -87.728571616], [41.880194, -87.665148099], [41.73327429, -87.55133578], [41.918150951, -87.696299584], [41.888659061, -87.749015157], [41.735931109, -87.653642482], [41.722445994, -87.577280883], [41.749566316, -87.561347741], [41.871489164, -87.627516791], [41.953443342, -87.744957048], [41.755090066, -87.647796349], [41.79275784, -87.591625921], [42.000536409, -87.801728413], [41.744263763, -87.648714016], [41.90316534, -87.629210442], [41.873809306, -87.694283701], [41.909614875, -87.747016581], [41.890326285, -87.63255036], [41.812130898, -87.615135713], [41.945910991, -87.655474824], [41.747190888, -87.693774667], [41.893842013, -87.628126517], [41.996622677, -87.686180824], [41.881550742, -87.661101918], [41.865230448, -87.624101632], [41.947225669, -87.655508684], [41.973432161, -87.669955383], [41.854804982, -87.729725811], [41.898007793, -87.731831559], [41.867265088, -87.713968622], [41.836713062, -87.648676352], [42.011586022, -87.66451428], [41.882380888, -87.666517086], [41.960786083, -87.780697148], [41.803495911, -87.743044639], [41.779276026, -87.604624438], [41.875155116, -87.667906709], [42.001755267, -87.668579611], [41.874128055, -87.633619572], [41.795440287, -87.645188171], [41.887445425, -87.712282693], [41.908385433, -87.758409009], [41.811231607, -87.699194152], [41.763647371, -87.586265199], [41.806670744, -87.615288398], [41.965919022, -87.657803581], [41.833229518, -87.617002463], [41.88171846, -87.627760426], [41.77999793, -87.629294594], [41.794533814, -87.631438536], [41.898298098, -87.629825902], [41.889551923, -87.626649565], [41.775222974, -87.660453671], [41.727697012, -87.650670345], [41.805278163, -87.722283092], [41.88489517, -87.652117308], [41.77278508, -87.575252959], [41.764151886, -87.683229302], [41.858029965, -87.729816623], [41.764203428, -87.589913218], [41.897865001, -87.712732714], [41.865358972, -87.723928767], [41.768357683, -87.619678434], [41.79314619, -87.729648246], [41.881155761, -87.686946988], [41.925843451, -87.702341464], [41.867921719, -87.656710552], [41.87770039, -87.636668714], [41.68719317, -87.669349282], [41.696134248, -87.631037501], [41.776479848, -87.689667268], [41.772891126, -87.61965751], [41.759687972, -87.579218945], [41.903775756, -87.639324074], [41.855190478, -87.645513421], [41.763625742, -87.560182233], [41.704542957, -87.528125929], [41.891694878, -87.626155832], [41.826730857, -87.623150834], [41.847609583, -87.711222061], [42.002876374, -87.767121235], [41.87239985, -87.703421797], [41.885368351, -87.635402906], [41.966326696, -87.658064021], [41.88295859, -87.658303592], [41.772703086, -87.644602751], [41.807169957, -87.612619915], [41.791219919, -87.676659608], [41.895292441, -87.659448245], [41.805869465, -87.585195364], [41.858459065, -87.721189746], [41.728761607, -87.598579407], [41.765444001, -87.626906181], [41.860167642, -87.712803676], [41.884097317, -87.675301789], [41.765109605, -87.612830582], [41.870767846, -87.736459835], [41.775164061, -87.587784969], [41.707321534, -87.67054851], [41.779188553, -87.68286114], [41.714597905, -87.567022232], [41.685154594, -87.636516591], [41.932317093, -87.675453209], [41.768051639, -87.646917902], [41.673532835, -87.624928926], [41.691565791, -87.701139739], [41.851912363, -87.694681559], [41.806593915, -87.688375594], [41.76118776, -87.634562027], [41.880349054, -87.757077713], [41.788338665, -87.622302338], [41.756059011, -87.584520708], [41.822767689, -87.695569281], [41.799621611, -87.655643463], [41.864125956, -87.711484161], [41.738391511, -87.610714734], [41.717717493, -87.614037807], [41.910711323, -87.69333529], [41.775779969, -87.735357996], [41.755113504, -87.658710336], [41.899003972, -87.624124741], [41.851761264, -87.705602716], [41.753678772, -87.556277598], [41.727304299, -87.604600275], [41.859802976, -87.737215239], [41.874363279, -87.643013039], [41.937967492, -87.662185716], [41.713987803, -87.661151339], [41.754712406, -87.562653092], [41.983792971, -87.774348531], [41.926404101, -87.792881805], [41.744773909, -87.612325115], [41.917217521, -87.721973302], [41.951070649, -87.718962639], [41.795830016, -87.645195004], [41.765441086, -87.578128892], [41.978086971, -87.846467142], [41.808539679, -87.671501611], [41.799551883, -87.58811115], [41.771909672, -87.64822216], [41.723386268, -87.63208153], [41.854910276, -87.676882115], [41.923066489, -87.761036825], [41.679892081, -87.619704947], [41.945825535, -87.655409564], [41.934862327, -87.645249739], [41.962735395, -87.650785049], [41.968635163, -87.687254771], [41.828894171, -87.692345655], [41.673548279, -87.616795523], [41.758697827, -87.594935719], [41.882368475, -87.667688654], [41.903300195, -87.67030349], [41.76300858, -87.588475513], [41.856010738, -87.645467925], [41.993848156, -87.71299668], [41.722328971, -87.58624216], [41.899702447, -87.627029867], [41.732821527, -87.585560041], [41.691955406, -87.618257196], [41.891384335, -87.77217268], [41.942096634, -87.679627465], [41.872005323, -87.744933466], [41.799809848, -87.742950106], [41.889906681, -87.624100509], [41.778530371, -87.666662788], [41.880816562, -87.624795924], [41.90844365, -87.733838643], [41.866378637, -87.770474982], [41.862446341, -87.710953445], [41.795038027, -87.599267797], [41.798890676, -87.669580138], [41.894692971, -87.642158743], [41.968763818, -87.688661831], [41.850280616, -87.63997236], [41.80840527, -87.622814081], [41.901430935, -87.71651476], [41.881963434, -87.699409636], [41.94400607, -87.649385899], [41.683393096, -87.631615374], [41.886632038, -87.659987308], [41.878691634, -87.764807511], [41.74031652, -87.664398047], [41.842241391, -87.695141061], [41.784754925, -87.588143196], [41.761135248, -87.630900966], [41.990480416, -87.692404416], [41.714942512, -87.550964686], [41.731513627, -87.661723358], [41.792508258, -87.773850035], [41.885481891, -87.627935689], [41.801108514, -87.686985578], [41.814299104, -87.596967962], [41.766102387, -87.573539169], [41.889031102, -87.716263129], [41.960478454, -87.767680575], [41.981919629, -87.710048756], [41.973687673, -87.648969137], [41.774388204, -87.637336939], [41.908295599, -87.75965153], [41.922432528, -87.654727597], [41.864611293, -87.712933257], [41.877111878, -87.723791419], [41.928799559, -87.726893646], [41.883929657, -87.680062824], [41.8744151, -87.627609439], [41.910350116, -87.765540655], [41.766507236, -87.641989466], [41.979006297, -87.906463155], [41.74061686, -87.705462538], [41.759763692, -87.577378121], [41.773756141, -87.621517588], [41.85143391, -87.73212862], [41.762655824, -87.630939362], [41.885299727, -87.63539998], [41.776971369, -87.660501387], [41.7023104, -87.669124205], [41.90316534, -87.629210442], [41.928645369, -87.737805821], [41.962737417, -87.650663692], [42.016607113, -87.675302757], [41.957739227, -87.729332637], [41.88000036, -87.636717174], [41.80950879, -87.608371773], [41.765444001, -87.626906181], [41.771721621, -87.699609116], [41.764042878, -87.576253913], [41.788786066, -87.622315729], [41.899843322, -87.724989478], [41.763074651, -87.615232196], [41.882834231, -87.633855092], [41.895586858, -87.634781117], [41.885739108, -87.745773311], [41.88171846, -87.627760426], [41.800240328, -87.682435565], [41.809518699, -87.607333603], [41.840179717, -87.711011456], [41.758560412, -87.562728003], [41.976290414, -87.905227221], [41.821104285, -87.619918506], [41.756127826, -87.615071416], [41.764875615, -87.666811496], [41.89652481, -87.639211587], [41.961287044, -87.692796336], [41.937621582, -87.746840969], [41.965448965, -87.65348441], [41.666372447, -87.627093577], [41.701285649, -87.611159619], [41.974266625, -87.657759505], [41.856992079, -87.659633911], [41.939493089, -87.639532345], [41.671257198, -87.650220188], [41.750664787, -87.590604499], [41.812328623, -87.618236812], [41.780155491, -87.586451255], [41.955827562, -87.69158999], [41.778883826, -87.664206366], [42.01255665, -87.679134601], [41.82292308, -87.621582303], [41.968234567, -87.728571616], [41.881087667, -87.766534218], [41.741828375, -87.570949011], [41.730979191, -87.564629419], [41.96557868, -87.761333079], [41.777635185, -87.615561058], [41.807887928, -87.722790148], [41.821530286, -87.616934762], [41.917971179, -87.732702313], [41.809871871, -87.667438341], [41.808384413, -87.618126623], [41.907068313, -87.72643443], [41.773465451, -87.574805028], [41.73822305, -87.55752284], [41.844265233, -87.723673891], [42.014916096, -87.670904385], [41.921672524, -87.699406234], [41.704659763, -87.636716179], [41.837635167, -87.730448642], [41.862261589, -87.695782694], [41.731653907, -87.611973603], [41.845135792, -87.72690265], [41.935739729, -87.698469406], [41.885753285, -87.626996239], [41.875043163, -87.743319382], [41.865397377, -87.640660777], [41.775067848, -87.63492097], [41.880457093, -87.62435557], [41.711815837, -87.628431273], [42.005439813, -87.666532362], [41.756617188, -87.562688944], [41.783897461, -87.704494139], [41.911089088, -87.678566242], [41.912058917, -87.758199696], [41.776781366, -87.696992972], [41.763935435, -87.61245518], [41.873959877, -87.753694682], [41.673553052, -87.641766188], [41.762995347, -87.609155847], [41.989706629, -87.794413925], [41.859818368, -87.653066321], [41.917078812, -87.756695962], [41.916447636, -87.703918394], [41.920983178, -87.637693589], [41.884453785, -87.651266342], [41.657323496, -87.606271648], [41.723207005, -87.614178058], [41.794353747, -87.728096692], [41.912431016, -87.669485233], [41.769654024, -87.668807541], [41.720661034, -87.536496124], [41.969224773, -87.720722439], [41.918776839, -87.744669344], [41.956897514, -87.713005893], [41.751045556, -87.56258335], [41.998734156, -87.660613118], [41.71804365, -87.657830826], [41.765339309, -87.595834601], [41.746130093, -87.682755208], [41.855235967, -87.629916277], [41.880395873, -87.652793028], [41.689221958, -87.705614727], [41.747061986, -87.686435951], [41.736623295, -87.647281975], [41.858359647, -87.645439082], [41.958474197, -87.65087832], [41.917248608, -87.719570063], [41.937086076, -87.81037826], [41.864544858, -87.685979928], [41.877458201, -87.763445136], [41.677927829, -87.631403865], [41.703193625, -87.651244527], [41.758150026, -87.589568929], [41.790754583, -87.739927261], [41.879656374, -87.734331783], [41.751636442, -87.641628664], [41.864960313, -87.692532546], [41.875155116, -87.667906709], [41.929404106, -87.643882534], [41.878683971, -87.639577277], [41.856648979, -87.652641067], [41.857173304, -87.638917814], [41.810446192, -87.744455417], [41.953604821, -87.652996353], [41.855190551, -87.623871195], [41.69904174, -87.619658051], [41.932755165, -87.647150367], [41.788766858, -87.622315941], [41.75605979, -87.647042032], [41.873510659, -87.720554136], [41.813348838, -87.634629974], [41.774335213, -87.6070523], [41.74938252, -87.658561459], [41.99225616, -87.691466968], [41.758247514, -87.562720751], [41.77502155, -87.777231867], [41.958457273, -87.652187364], [41.954922052, -87.692095386], [42.006831707, -87.683866062], [41.767062556, -87.641239381], [41.953516372, -87.738890469], [41.673411427, -87.629736249], [41.88171846, -87.627760426], [41.953497276, -87.644167025], [41.978991238, -87.659941972], [41.798681311, -87.65256172], [41.858599563, -87.674183011], [41.675450911, -87.63340375], [41.807777262, -87.664951151], [41.773291841, -87.659194424], [41.885734282, -87.763882058], [41.974367233, -87.713531445], [41.762922354, -87.640030308], [41.78210152, -87.586502002], [41.895407139, -87.624263706], [41.721069718, -87.638348501], [41.921904892, -87.642636783], [41.80215809, -87.612052585], [41.778969503, -87.654486077], [41.910026617, -87.773993292], [41.805007635, -87.661546878], [41.780429045, -87.697085234], [41.774146619, -87.604572522], [41.685681037, -87.601559261], [41.821139392, -87.614983694], [41.951114764, -87.655136627], [41.722241655, -87.645665707], [41.800437474, -87.730115277], [41.651848393, -87.544253137], [41.788987036, -87.74147999], [41.880368223, -87.725658953], [41.836780279, -87.647523377], [41.730426609, -87.638599354], [41.848885857, -87.71125741], [41.794738444, -87.674324349], [41.982818711, -87.655164396], [41.999116481, -87.800290731], [41.940682753, -87.662396155], [41.815856324, -87.61977132], [41.76587359, -87.576294705], [41.953643409, -87.72801475], [41.79524323, -87.777016758], [41.948707142, -87.646666855], [41.851409307, -87.733721827], [41.83382424, -87.646986172], [41.8830131, -87.684908525], [41.89402915, -87.74893683], [41.899531373, -87.69433218], [41.765253769, -87.615255549], [41.792936194, -87.749008923], [41.85882988, -87.727984675], [41.72550966, -87.585403058], [41.931404684, -87.708626091], [41.889934315, -87.637589849], [41.838511165, -87.699959763], [41.879222022, -87.737879363], [41.770511169, -87.608158528], [41.739679343, -87.645259854], [41.86300966, -87.720276288], [41.874743927, -87.763403157], [41.93344555, -87.74002874], [41.872894484, -87.627560076], [41.86392472, -87.693335859], [41.767867074, -87.654188915], [41.770341314, -87.626702153], [41.814016416, -87.621339769], [41.962106905, -87.71316862], [41.799323177, -87.723337222], [41.871837331, -87.726363938], [41.933326841, -87.633204433], [41.785930664, -87.723266186], [41.72641659, -87.600943324], [41.875291694, -87.723650826], [41.794665882, -87.585395349], [41.705523241, -87.535287802], [41.902862305, -87.721434358], [41.926738836, -87.679909218], [41.943580734, -87.743908256], [41.89662893, -87.695492411], [41.886560206, -87.716062887], [41.737750767, -87.604855911], [41.916017648, -87.673280202], [41.94141343, -87.644444188], [41.840065363, -87.649858991], [41.765631432, -87.688162868], [41.938902278, -87.741327058], [41.757985249, -87.598077559], [41.666211448, -87.640318579], [41.765286035, -87.577086035], [41.802913666, -87.634394926], [41.898407365, -87.731100526], [41.784754925, -87.588143196], [41.795362067, -87.702302751], [41.740472128, -87.668038571], [41.896507278, -87.640398165], [41.882182723, -87.768782954], [41.851897935, -87.631993635], [41.909876797, -87.752657146], [41.785957604, -87.721623241], [41.897021755, -87.629781141], [41.776949964, -87.588534185], [41.866781472, -87.674407363], [41.982777739, -87.656591889], [41.796150799, -87.759559887], [41.721918366, -87.585137009], [41.914311756, -87.653233788], [41.80084982, -87.702153555], [41.714655827, -87.564600534], [41.830676853, -87.610352872], [41.846071802, -87.638755278], [41.892318886, -87.719882242], [41.747953871, -87.66580291], [41.947221417, -87.655718257], [41.759355486, -87.55812601], [41.772766346, -87.571590892], [41.791160785, -87.579836586], [41.971664008, -87.749080859], [41.910037882, -87.738555595], [41.815833325, -87.610387777], [41.89035315, -87.763389296], [41.927084889, -87.690165687], [41.895194448, -87.664749349], [41.876642404, -87.649208695], [41.698929185, -87.619651972], [41.823897535, -87.670228133], [41.939048053, -87.730839576], [41.909389965, -87.697036955], [41.8471621004112, -87.66884486839668], [41.876645737, -87.635171022], [41.910065634, -87.710660082], [41.69806511, -87.622371192], [41.885124736, -87.725797501], [41.786340899, -87.697697798], [41.953439027, -87.746258499], [41.881944424, -87.634195294], [41.912562629, -87.692163175], [41.782634781, -87.701437594], [41.728104955, -87.617149416], [41.989291035, -87.804775719], [41.995966762, -87.686658349], [41.92080276, -87.728431794], [41.967240717, -87.687673341], [41.854289501, -87.723575031], [41.767536032, -87.614658256], [41.811274431, -87.594328524], [41.906276004, -87.670011875], [41.902961643, -87.665865852], [41.753843969, -87.636814962], [41.747499767, -87.549177], [41.852861719, -87.624484216], [42.019398729, -87.67543958], [41.778802068, -87.65448051], [41.872697606, -87.754800246], [42.001231364, -87.697690021], [41.918599392, -87.788792024], [41.876587174, -87.628727499], [41.885384381, -87.629486511], [41.780243888, -87.69586249], [41.943856882, -87.671217752], [41.774953087, -87.672583904], [41.937226486, -87.730430379], [41.857869107, -87.661783147], [41.884470703, -87.633102775], [41.93513798, -87.750057518], [41.983774812, -87.70403177], [41.918794174, -87.776760655], [41.923581601, -87.797260018], [41.746849056, -87.654289547], [41.950977331, -87.718959859], [41.782945262, -87.622160269], [41.861698243, -87.651688112], [41.935944921, -87.676886043], [41.748890402, -87.601479486], [41.885729587, -87.625821329], [41.755965725, -87.65709614], [41.729288447, -87.560909165], [41.806328645, -87.655180321], [41.777819085, -87.61556634], [41.939444419, -87.689596768], [41.861081457, -87.693790049], [41.836385231, -87.66571041], [41.832337226, -87.621793581], [41.820933215, -87.697810723], [41.753609295, -87.652605755], [41.853803931, -87.691865754], [41.759357433, -87.585750518], [41.773085006, -87.568335406], [41.883058033, -87.682179581], [41.742183808, -87.600694557], [41.87749984, -87.76023181], [41.786517079, -87.648605673], [41.772683507, -87.631841774], [41.798681311, -87.65256172], [41.920315481, -87.802471942], [41.830407799, -87.67371278], [41.971089917, -87.707326491], [41.729170867, -87.551235346], [41.894228142, -87.718718026], [41.707095328, -87.628834415], [41.699244366, -87.620911801], [41.911022492, -87.677475785], [41.860036225, -87.726211243], [41.881476477, -87.66483362], [41.968408072, -87.712747145], [41.893469034, -87.632648229], [41.935793906, -87.767619432], [41.900017769, -87.623426629], [41.92933468, -87.644202999], [41.957875995, -87.648119936], [41.891589364, -87.649974754], [41.717244455, -87.563071602], [41.950531192, -87.677019465], [41.891916037, -87.762016476], [41.765840667, -87.68195863], [41.756026821, -87.649336678], [41.869749161, -87.640107132], [41.775429728, -87.640753492], [41.795991039, -87.630542489], [41.720796156, -87.640765368], [41.752886221, -87.572350065], [41.885901992, -87.632455489], [41.934226081, -87.749896768], [41.799611371, -87.723345492], [41.802065157, -87.711138335], [41.905629531, -87.736227068], [41.915667939, -87.697878435], [41.864961754, -87.674837225], [41.889515602, -87.662223038], [41.786457287, -87.690502497], [41.781008739, -87.769172637], [41.951501027, -87.71529702], [41.900927303, -87.774113117], [41.895931553, -87.640037089], [41.905465053, -87.687091232], [41.86566201, -87.728823362], [41.881191799, -87.684578085], [41.731073247, -87.611280355], [41.798469843, -87.700035131], [41.773786968, -87.684173165], [41.95347181, -87.743552438], [41.751520424, -87.661855669], [41.67891566, -87.628691588], [41.852460582, -87.632005841], [41.763657742, -87.626951433], [41.965939742, -87.705946552], [41.871199512, -87.633548708], [41.72875406, -87.577946939], [41.97051197, -87.657659444], [41.876768292, -87.746336509], [41.872681865, -87.742544346], [41.760478705, -87.655927189], [41.721763443, -87.621663126], [41.711326446, -87.676927679], [41.893983593, -87.634677382], [41.773556277, -87.664056445], [41.736277427, -87.62510451], [41.951016616, -87.707938347], [41.798641939, -87.65984933], [41.874863288, -87.753804017], [41.695982095, -87.596653142], [41.924897504, -87.688166594], [41.765784983, -87.683271465], [41.685453422, -87.610256702], [41.808565914, -87.668915399], [41.783491914, -87.699610557], [41.682695465, -87.636030606], [41.944911822, -87.649412976], [41.736259984, -87.628068782], [41.778008946, -87.596144073], [41.876766261, -87.74647606], [41.845959928, -87.733335967], [41.822702209, -87.687289425], [41.804051706, -87.608139875], [41.803180697, -87.703832492], [41.763041071, -87.576232702], [41.751270452, -87.585822373], [41.897895128, -87.624096605], [41.873120101, -87.722966499], [41.921029443, -87.677737088], [41.87761692, -87.629281667], [41.962078793, -87.709499449], [41.852701418, -87.642310031], [41.763629477, -87.566472069], [41.880857239, -87.677854118], [41.788987036, -87.74147999], [41.8070667, -87.644088098], [41.981307044, -87.69742481], [41.939266315, -87.713077565], [41.928645369, -87.737805821], [41.812566265, -87.742073654], [41.990615196, -87.683188577], [41.862818088, -87.718321419], [41.879607583, -87.709700016], [41.872603621, -87.676601968], [41.863276227, -87.642053002], [41.848885857, -87.71125741], [41.7711605, -87.739964917], [41.830109681, -87.610058377], [41.902726953, -87.771746441], [41.813025544, -87.615576914], [41.893054309, -87.657312147], [41.880744831, -87.724226926], [41.718462852, -87.556537156], [41.953502273, -87.655144403], [41.921449649, -87.674440469], [41.795005276, -87.789216047], [41.852868298, -87.63091491], [41.979020089, -87.655053915], [42.0175979, -87.817553863], [41.721089225, -87.671399731], [41.86390688, -87.708031716], [41.982257677, -87.815014501], [41.757678154, -87.741643133], [41.903725064, -87.709898841], [41.817671832, -87.723926183], [41.884558541, -87.709762041], [41.966453018, -87.72483052], [41.845530923, -87.698455516], [41.791714213, -87.702675898], [41.663263403, -87.634776407], [41.899824735, -87.684496039], [42.002932794, -87.670524659], [41.709804324, -87.642908658], [41.878221582, -87.749337912], [41.861880326, -87.712853196], [41.769820398, -87.574708671], [41.757001124, -87.650271918], [41.930377191, -87.736790119], [41.963095975, -87.652354893], [41.875397535, -87.716746788], [41.797127158, -87.759987594], [41.762209384, -87.672249161], [41.884963658, -87.649788299], [42.010413978, -87.661178143], [41.851776892, -87.704446364], [41.917530169, -87.733907925], [41.955436401, -87.679652922], [41.930154054, -87.768639459], [41.803986617, -87.612186122], [41.953439027, -87.746258499], [41.894860447, -87.764194002], [41.954302302, -87.668058281], [41.891404732, -87.628061509], [41.903929378, -87.62939674], [41.746821414, -87.592946427], [41.729907636, -87.649529567], [41.989414392, -87.656793796], [41.93791173, -87.727149134], [41.750892092, -87.558942467], [41.760286788, -87.563169169], [41.905001395, -87.694468661], [41.729648838, -87.548485589], [41.719214167, -87.652031163], [41.75608935, -87.602874702], [41.843861849, -87.626921364], [41.93121391, -87.676890454], [41.919208943, -87.758458839], [41.807560396, -87.675876545], [41.876614821, -87.651030247], [41.999351859, -87.764150461], [41.970307803, -87.704311432], [41.67807067, -87.619838547], [41.96137851, -87.65474101], [41.790754583, -87.739927261], [41.758755102, -87.587234567], [41.978086971, -87.846467142], [41.7397828, -87.639645375], [41.835331322, -87.61300493], [41.851144536, -87.705234361], [41.89052174, -87.645817635], [41.93791173, -87.727149134], [41.860201058, -87.716459625], [41.762953698, -87.676661998], [41.959354076, -87.757344441], [41.915715874, -87.74605323], [41.867344428, -87.632294763], [41.887413474, -87.714497528], [41.76203343, -87.669813509], [41.797057503, -87.671960825], [41.852194269, -87.67462684], [41.895560835, -87.705846147], [41.769876221, -87.569465937], [41.752942798, -87.550543698], [41.883696739, -87.728209042], [41.788356975, -87.619060644], [41.917234286, -87.720999473], [41.989433412, -87.655366388], [41.897332938, -87.624157922], [41.798996015, -87.659860293], [41.855747051, -87.713896231], [41.924671469, -87.759857617], [41.774319025, -87.605795029], [41.918122721, -87.677634566], [42.003500178, -87.673267117], [41.697110809, -87.62204483], [41.908015415, -87.659567936], [41.901544538, -87.717740557], [41.78176738, -87.693467857], [41.757257778, -87.637250845], [41.750788594, -87.633945545], [41.961163075, -87.748768679], [41.865987348, -87.68434634], [41.895558372, -87.705897593], [41.846373394, -87.64646669], [41.837118368, -87.711242946], [41.933283665, -87.801059741], [41.722362598, -87.58382047], [41.906831317, -87.725209683], [41.932632364, -87.654189502], [41.881668013, -87.654446699], [41.894880861, -87.761674181], [41.943363642, -87.641096671], [41.915515261, -87.683833781], [41.765718456, -87.614960789], [42.014034989, -87.679480071], [41.884955266, -87.677525786], [41.745723593, -87.664532472], [41.662744146, -87.617731433], [41.907837078, -87.743891847], [41.878229659, -87.626726587], [41.880775433, -87.627029031], [41.76740997, -87.690652359], [41.78210152, -87.586502002], [42.017229344, -87.680466701], [41.955677299, -87.64848172], [41.947308638, -87.70783858], [41.702895936, -87.665507457], [41.805774305, -87.744773289], [41.695029209, -87.537698676], [41.908296032, -87.638503637], [41.868385458, -87.639229711], [41.795590096, -87.65005669], [41.884267867, -87.64907594], [41.814162811, -87.603994347], [41.894860447, -87.764194002], [41.897691777, -87.751996192], [41.892144688, -87.617699811], [41.889060695, -87.646549459], [41.81074851, -87.722469534], [41.92462992, -87.714843544], [41.784323332, -87.661909508], [41.737709752, -87.740958098], [41.885702079, -87.642031644], [41.754787799, -87.576054836], [41.902912194, -87.76811182], [41.963509008, -87.836690988], [41.923549738, -87.653852233], [41.67922324, -87.635925326], [41.882103874, -87.684752469], [41.784279035, -87.667974554], [41.786697347, -87.668550898], [41.865192955, -87.65981215], [41.885433199, -87.626265286], [41.772843032, -87.692009524], [41.826670837, -87.684927026], [41.800818923, -87.642875079], [41.950999415, -87.826935973], [41.917656022, -87.688750258], [41.917061131, -87.687393113], [41.744302523, -87.654785416], [41.895877613, -87.706566627], [41.872881761, -87.760331813], [41.934128143, -87.757130444], [41.771287058, -87.660351838], [41.991395865, -87.65542649], [41.852126563, -87.679105533], [41.847290068, -87.709991964], [41.777533034, -87.611958295], [41.934333194, -87.708704095], [41.677732597, -87.64770646], [41.974390784, -87.666793815], [41.784902127, -87.612066361], [41.681904737, -87.646911709], [41.85739449, -87.623920252], [41.681096016, -87.642018558], [41.878630716, -87.636673298], [41.966338818, -87.679114943], [41.869749161, -87.640107132], [41.794533814, -87.631438536], [41.912696643, -87.716630417], [41.892107017, -87.757945328], [41.890051047, -87.628829294], [41.878211743, -87.754985521], [41.692201429, -87.655223426], [41.868041634, -87.63277177], [41.762670721, -87.633380345], [41.850672642, -87.735596947], [41.802518687, -87.643964462], [41.799167724, -87.654995436], [41.768924007, -87.639100575], [41.760151833, -87.567613046], [41.92792377, -87.664558374], [41.916220129, -87.803453818], [41.924715932, -87.773313808], [41.939315043, -87.709408954], [41.88233367, -87.627841791], [42.022536147, -87.673670147], [41.896147721, -87.733505543], [41.870244627, -87.686946779], [41.782293547, -87.600553458], [41.987349563, -87.65566069], [41.793543855, -87.702030881], [41.890013771, -87.631705393], [41.743594758, -87.628391593], [41.671756932, -87.646580304], [41.752952598, -87.558466927], [41.90523724, -87.761045466], [41.751928332, -87.644077264], [41.766257253, -87.574549043], [41.891694878, -87.626155832], [41.766525507, -87.643202585], [41.844026941, -87.622100808], [41.797383158, -87.585462773], [41.903900063, -87.693322501], [41.817748687, -87.723929123], [41.946078924, -87.825669975], [41.862844611, -87.716103816], [41.89244473, -87.710126078], [41.865272267, -87.728812348], [41.972208088, -87.654901873], [41.761295354, -87.722282705], [41.889339555, -87.752244539], [41.692833841, -87.60431945], [41.854864309, -87.724846958], [41.903446827, -87.734447423], [42.007891504, -87.666727525], [41.934128828, -87.676507746], [41.853676611, -87.622239838], [41.705887536, -87.720214826], [41.671293877, -87.649004615], [41.976375369, -87.67544862], [41.764207137, -87.589638265], [41.823873882, -87.613859805], [41.999682102, -87.681753468], [41.895647773, -87.630372879], [41.916894893, -87.749084663], [41.675286217, -87.633398214], [41.799657252, -87.753943005], [41.751897965, -87.647716707], [41.759332335, -87.634516183], [41.994716103, -87.682411106], [41.865409818, -87.706856955], [41.932570804, -87.713149789], [41.766611934, -87.674758897], [41.923932635, -87.769146299], [41.875220838, -87.629223513], [41.854872547, -87.708997009], [41.923672617, -87.786301606], [41.706052215, -87.642805979], [41.94319685, -87.680072014], [41.751384595, -87.676816572], [41.885393253, -87.663547848], [41.728964838, -87.60463646], [41.911120869, -87.638219505], [41.921904892, -87.642636783], [41.870864428, -87.684928518], [41.786764123, -87.620640363], [41.883131184, -87.677672969], [41.71780759, -87.57097292], [41.86709983, -87.723600169], [41.742901007, -87.676173811], [41.885728661, -87.634183416], [41.879127107, -87.683912298], [41.829651528, -87.614451899], [41.855766105, -87.68163426], [41.894817113, -87.632306604], [41.77313817, -87.690804141], [41.791501334, -87.591259037], [41.769925563, -87.637267875], [41.796173549, -87.735498519], [41.965829096, -87.650027657], [41.987203926, -87.738297624], [41.736277091, -87.585212192], [41.891303157, -87.628055281], [41.881348623, -87.674525788], [41.817254668, -87.700572789], [41.972450959, -87.715925621], [41.886130534, -87.622313405], [41.844075708, -87.703802459], [41.726990349, -87.593690699], [41.751573664, -87.624573582], [41.993099897, -87.689733236], [41.830407799, -87.67371278], [41.892816145, -87.624193198], [41.766875979, -87.571422312], [41.651431329, -87.527258234], [41.887849586, -87.625610638], [41.724353822, -87.631437275], [41.666774255, -87.633109784], [41.987951293, -87.655323262], [41.894128411, -87.62472227], [41.829395788, -87.675256892], [41.998734156, -87.660613118], [41.736694472, -87.545824091], [41.774158101, -87.603355268], [41.916170583, -87.680832697], [41.753208408, -87.730172879], [41.905303183, -87.724250697], [41.929037142, -87.651824257], [41.874256265, -87.733390833], [41.942867708, -87.663902335], [41.867429555, -87.626037832], [42.018498254, -87.672983233], [41.980215023, -87.774449704], [41.909240284, -87.65274758], [41.889043793, -87.640537593], [41.664537065, -87.640263338], [41.812288544, -87.612701929], [41.933445303, -87.739980965], [41.930509508, -87.755145444], [41.952902336, -87.787661949], [41.861807216, -87.707975081], [41.812583891, -87.595678052], [41.844000177, -87.628442902], [41.865194268, -87.660036082], [41.737347126, -87.62101479], [41.965584365, -87.760821925], [41.930896787, -87.697587655], [41.688290102, -87.611850491], [41.91240936, -87.670962383], [41.890107461, -87.703236838], [41.869405577, -87.657509972], [41.775815434, -87.615515359], [41.960204455, -87.670794849], [41.910206709, -87.698336723], [41.862491347, -87.707116723], [41.908237731, -87.710615393], [41.748867896, -87.64079354], [41.917408228, -87.70594448], [41.983162002, -87.690995582], [41.750870228, -87.556516695], [41.808431843, -87.613856556], [41.976814727, -87.659880317], [41.683986877, -87.614021896], [41.898924632, -87.731881725], [41.749318829, -87.613256378], [41.848662889, -87.64202317], [41.76581888, -87.572582139], [41.877355259, -87.70279297], [41.975551091, -87.656392585], [41.825756866, -87.60781793], [41.931574051, -87.711516699], [41.765426918, -87.630384966], [41.921672524, -87.699406234], [41.682621284, -87.668905734], [41.647039224, -87.614370832], [41.749676125, -87.706521304], [41.815672425, -87.619766025], [41.899473059, -87.728666198], [41.872709056, -87.624187857], [41.862365191, -87.718303732], [41.902979118, -87.691065209], [41.925078949, -87.673734337], [42.002956697, -87.672290402], [41.881905413, -87.704830372], [41.76078309, -87.632103352], [41.835374574, -87.685220813], [41.748720576, -87.650568587], [41.935007398, -87.760092129], [41.785966035, -87.632767678], [41.860498708, -87.62399607], [41.771954053, -87.628341444], [41.876977997, -87.68142614], [41.815399239, -87.66514337], [41.880483386, -87.62773362], [41.733217836, -87.667853313], [41.727552899, -87.661607086], [41.893840384, -87.75556076], [41.754988848, -87.731101768], [41.93859561, -87.649576033], [41.732980855, -87.606107838], [41.910017804, -87.71450335], [41.734366796, -87.597496998], [41.79329893, -87.66456619], [41.771789341, -87.660364917], [41.721689256, -87.626539467], [41.88989983, -87.618569577], [41.76643407, -87.640776939], [41.946221444, -87.708253555], [41.883500187, -87.627876698], [42.005887804, -87.661005031], [41.910370331, -87.683922678], [41.893131749, -87.748930319], [41.776830936, -87.75681383], [41.789849252, -87.666908549], [41.856197223, -87.625574295], [41.750711719, -87.723017083], [41.790754583, -87.739927261], [41.878547659, -87.687245], [41.904457726, -87.727318751], [41.902074223, -87.688253144], [41.815878016, -87.633556985], [41.951886129, -87.649625167], [41.894366009, -87.716281564], [41.749383046, -87.654922477], [41.765997125, -87.66382344], [41.936754187, -87.816474702], [41.784646626, -87.771758733], [41.844345008, -87.717536811], [41.90950992, -87.75500067], [41.892667777, -87.616210158], [41.692358646, -87.623096746], [41.968113467, -87.662796017], [41.749470808, -87.669477483], [41.895140898, -87.624255632], [41.852198325, -87.674377204], [41.975827666, -87.697567585], [41.9309356, -87.791300049], [41.964842066, -87.690569262], [41.807546327, -87.617512396], [41.688287873, -87.613245417], [41.922184553, -87.692772358], [41.894978034, -87.694215961], [41.875495685, -87.661826303], [41.737355285, -87.553385709], [41.984230808, -87.673804574], [41.923253823, -87.704009511], [41.845691143, -87.620078491], [41.75963392, -87.612701246], [41.891768851, -87.622137022], [41.653735772, -87.595370997], [41.93859561, -87.649576033], [41.737026042, -87.637586605], [41.774753412, -87.684738994], [41.740818726, -87.661575109], [41.9306162, -87.747500495], [41.890021144, -87.758992394], [41.955850534, -87.644869606], [41.877322742, -87.706880153], [41.959879392, -87.739794621], [41.877454917, -87.69450809], [41.88281182, -87.704476298], [42.022534793, -87.673434623], [41.782259223, -87.670345664], [41.940636669, -87.644419469], [41.933537737, -87.801998471], [41.683866104, -87.651844072], [41.88171846, -87.627760426], [41.704095629, -87.531658059], [41.875251082, -87.761639849], [41.764376777, -87.703401867], [41.684648775, -87.630067791], [41.931028833, -87.78378017], [41.851407157, -87.733835632], [41.746018447, -87.663327476], [41.692281606, -87.613361976], [41.962298818, -87.836693032], [41.832384884, -87.623286482], [41.772889498, -87.619837161], [41.896991375, -87.625730095], [41.872903956, -87.633592535], [41.694443727, -87.619013197], [41.810780396, -87.589217173], [41.860186985, -87.691849686], [41.750397942, -87.660438139], [41.666549167, -87.633101243], [41.896370692, -87.717562519], [41.865393661, -87.722709581], [41.774906465, -87.69937613], [41.682209897, -87.535242805], [41.942248935, -87.813008283], [41.695250549, -87.628791598], [41.951980072, -87.646514088], [41.729687816, -87.659236535], [41.96055619, -87.71312483], [41.737750767, -87.604855911], [41.808756581, -87.622821203], [41.816358925, -87.606702419], [41.793506858, -87.650001807], [41.900925506, -87.716934706], [41.766102387, -87.573539169], [41.958608924, -87.669171615], [41.726269229, -87.637281393], [41.881969504, -87.631558385], [41.919420995, -87.754782585], [41.769152557, -87.627070777], [41.842060032, -87.618239825], [41.754592961, -87.741528537], [41.801719549, -87.727081136], [41.690814387, -87.703237703], [41.94244084, -87.667417061], [41.957013189, -87.649772575], [41.918155261, -87.720281533], [41.902703354, -87.629950194], [41.963923, -87.665138021], [41.871730111, -87.71858847], [41.885729587, -87.625821329], [41.780328363, -87.717896689], [41.925809934, -87.707247537], [41.751305337, -87.603628907], [41.943340537, -87.643184728], [41.769673636, -87.662736799], [41.754393534, -87.567498248], [41.923629833, -87.791167135], [41.657911061, -87.601127194], [41.732942865, -87.555472437], [41.974184283, -87.657756697], [41.777927449, -87.768169424], [41.796354621, -87.728151213], [41.783232282, -87.614483001], [41.96843569, -87.710246406], [41.80829274, -87.622811656], [41.812610526, -87.723765071], [41.750531796, -87.601526807], [41.880362084, -87.755847438], [41.809092623, -87.632853216], [41.786979027, -87.714551323], [41.722883679, -87.541223382], [41.801513039, -87.617733588], [41.752815751, -87.622177783], [41.778883826, -87.664206366], [41.774873231, -87.661652469], [41.715307174, -87.603032664], [41.782279941, -87.671559063], [41.890057206, -87.628491342], [41.742870426, -87.678508257], [41.894154031, -87.718715064], [41.778843847, -87.656910831], [41.745833677, -87.692516579], [41.921116713, -87.770754793], [41.773621973, -87.694886916], [41.825780124, -87.609329287], [41.678923809, -87.646815265], [41.757614433, -87.586115266], [41.877756484, -87.720642095], [41.762853109, -87.646779046], [41.852840961, -87.626459189], [41.882394062, -87.627844798], [41.866341527, -87.711154301], [41.898579011, -87.756517146], [41.895732399, -87.687784384], [41.729252525, -87.567020274], [41.706653929, -87.612531464], [42.009204456, -87.660822926], [41.766362642, -87.648086903], [41.7661636, -87.584113638], [41.707589888, -87.6307224], [41.761897352, -87.623624287], [41.809305232, -87.606558389], [41.90261845, -87.775384046], [41.713325428, -87.536487845], [41.940318272, -87.644408194], [42.017215831, -87.679057411], [41.794949113, -87.654885898], [41.845444016, -87.711158629], [41.833303631, -87.617005306], [41.877632759, -87.679781796], [41.891249923, -87.617676744], [41.745731536, -87.673022858], [41.81691816, -87.633567673], [41.752722953, -87.580894671], [41.866535025, -87.627391392], [41.905037547, -87.749721769], [41.820848907, -87.613295671], [41.751552441, -87.580256016], [41.844252757, -87.724943845], [41.77122814, -87.611321429], [41.784416556, -87.646116386], [41.738821605, -87.650988559], [41.73210248, -87.603912234], [41.800556105, -87.658685013], [41.944171217, -87.776437077], [41.903931469, -87.629290187], [41.756623356, -87.55303151], [41.934726424, -87.703826908], [41.809134387, -87.601692846], [41.696625861, -87.679955226], [41.889203826, -87.631640804], [41.769348653, -87.614879965], [41.902058514, -87.771421696], [41.94044868, -87.651081589], [41.922039747, -87.697330182], [41.775247024, -87.664101191], [41.767942886, -87.655408789], [41.963549508, -87.718111068], [41.853856172, -87.631803395], [41.75852448, -87.608656343], [41.876171958, -87.764716015], [41.963090391, -87.785677767], [41.839120324, -87.641439644], [41.945899917, -87.64944285], [41.904597495, -87.712895275], [41.747879758, -87.665800014], [41.92510186, -87.671992307], [41.887338112, -87.624551258], [41.884886395, -87.763346076], [41.683596628, -87.642105279], [41.979959902, -87.771656784], [41.678566166, -87.620524929], [41.755572362, -87.645383324], [41.827382467, -87.692907428], [41.72591807, -87.6745409], [41.801634875, -87.616147829], [41.889088799, -87.669528645], [41.749476414, -87.603437072], [41.925128731, -87.721897779], [41.737746428, -87.713063929], [41.918778321, -87.744423151], [41.805019185, -87.660706832], [41.753608433, -87.5519759], [41.856674545, -87.650937568], [41.895692026, -87.627298109], [41.703829605, -87.670826068], [41.736922044, -87.551419766], [41.91380403, -87.636746502], [41.903929378, -87.62939674], [41.86823373, -87.704861506], [41.797093555, -87.589041797], [41.963751501, -87.784477113], [41.749876545, -87.682838316], [41.892841858, -87.617721411], [41.957447208, -87.797663802], [41.706104433, -87.634646107], [41.726217231, -87.567419012], [41.884852698, -87.65328557], [41.74760602, -87.568604989], [41.81611063, -87.621393611], [41.780572703, -87.632635733], [41.921904892, -87.642636783], [41.863934894, -87.71778941], [41.894563504, -87.622745105], [41.882880585, -87.698023476], [41.700179537, -87.669380491], [41.903006364, -87.688093151], [41.913562181, -87.745084664], [41.918711651, -87.76551063], [41.948742199, -87.64656355], [41.745152879, -87.645490902], [41.695982095, -87.596653142], [41.664163748, -87.640249043], [41.802067982, -87.748771924], [41.656373881, -87.6075631], [41.977848233, -87.84646896], [41.791375746, -87.602921594], [41.750332165, -87.665155275], [41.721061619, -87.60340341], [41.82531739, -87.606887309], [41.973282482, -87.65700132], [41.793894154, -87.710905658], [41.920102957, -87.676482583], [41.871078397, -87.694215442], [41.778490327, -87.683623452], [41.77829544, -87.690935977], [41.790298406, -87.76587526], [41.809861955, -87.644351581], [41.794898201, -87.684066526], [41.969258898, -87.698714007], [41.696320837, -87.660386972], [41.780298552, -87.6983001], [41.781992571, -87.683716425], [41.891372662, -87.74677209], [41.87683815, -87.634320718], [41.954105142, -87.727628041], [41.923546602, -87.691461607], [41.884228815, -87.651276079], [41.876839889, -87.634155464], [41.766742213, -87.663119226], [41.763455183, -87.611580854], [41.771520589, -87.583292464], [41.902437713, -87.687011559], [41.974320892, -87.756231389], [41.979006297, -87.906463155], [41.951980072, -87.646514088], [41.949159185, -87.702993829], [41.702696883, -87.527856005], [41.877620274, -87.750896624], [41.901652687, -87.74840448], [41.878638996, -87.627691486], [41.877470199, -87.678222877], [41.80066446, -87.587441769], [41.889894586, -87.722759092], [41.990280557, -87.662703196], [41.890123156, -87.644789891], [41.657246961, -87.600271099], [41.779798546, -87.641648739], [41.881086825, -87.69473631], [41.94280287, -87.671177197], [41.750485314, -87.62298042], [41.888954641, -87.656418862], [41.893650526, -87.759290438], [41.895002822, -87.621454706], [41.814947003, -87.69073493], [41.772070077, -87.67423383], [41.990480416, -87.692404416], [41.86559259, -87.676214817], [41.72073515, -87.536498871], [41.965876265, -87.708396068], [41.819658043, -87.701957886], [41.856219074, -87.652337285], [41.693421344, -87.620983384], [42.00523829, -87.678720239], [41.730203129, -87.6086377], [41.882389156, -87.624374606], [41.995489182, -87.724270738], [41.953434892, -87.746523231], [41.849104319, -87.716144161], [41.940014092, -87.702745755], [41.906276004, -87.670011875], [41.801097969, -87.687550491], [41.975637858, -87.75237275], [42.000029994, -87.694828694], [41.86641507, -87.705004143], [41.720317792, -87.56180048], [41.97008868, -87.762690091], [41.903640436, -87.647862607], [41.887550392, -87.648684678], [41.927907861, -87.697503413], [41.7335097, -87.560576484], [41.994741233, -87.665290299], [41.80079763, -87.658689815], [41.728780816, -87.598579188], [41.78999187, -87.648693371], [41.809125265, -87.631906508], [41.858356657, -87.716411276], [41.763305308, -87.559870854], [41.860234046, -87.71036919], [41.68990941, -87.675439305], [41.966885897, -87.726771574], [41.877470199, -87.678222877], [41.802101704, -87.587747851], [41.874582778, -87.693717886], [42.005924664, -87.664967268], [41.884083397, -87.660116894], [41.873039988, -87.732755989], [41.93344555, -87.74002874], [41.736602887, -87.608206695], [41.746485654, -87.61484177], [41.895576851, -87.704259263], [41.959887053, -87.716774901], [41.729721902, -87.658030883], [41.899622527, -87.720109874], [41.763156062, -87.629720655], [41.923365941, -87.72429206], [41.830697249, -87.614476891], [41.968013895, -87.749018608], [41.871295508, -87.625925454], [41.852731587, -87.701390474], [41.793922473, -87.774035764], [41.765790545, -87.69305847], [41.736082182, -87.581418688], [41.898574878, -87.69801854], [41.786540884, -87.617397769], [41.834690813, -87.613705645], [41.889625774, -87.763359036], [41.931582515, -87.742747165], [41.947432705, -87.643732419], [41.766923496, -87.651024433], [41.785040409, -87.615742467], [41.773395944, -87.580928049], [41.954621476, -87.64630191], [41.736874607, -87.588477131], [41.880420133, -87.651331272], [41.845085249, -87.618848403], [41.895523479, -87.709567239], [41.875155116, -87.667906709], [41.819781281, -87.69496057], [41.763305308, -87.559870854], [41.96938944, -87.700488807], [41.85146212, -87.730704218], [41.773511344, -87.570958858], [41.780295043, -87.687333955], [41.866383357, -87.64215904], [41.797201502, -87.723272993], [41.871834064, -87.709368034], [41.943915495, -87.649383191], [41.81483033, -87.59593107], [41.894066784, -87.628531735], [41.92275983, -87.775678947], [41.929857344, -87.708699988], [41.656274329, -87.610491691], [41.888267493, -87.627075047], [41.771492391, -87.657930205], [41.939288785, -87.729650127], [42.002478396, -87.66929687], [41.877532811, -87.672387519], [41.954507152, -87.653372774], [41.947227914, -87.655424114], [41.781589574, -87.599468869], [41.890540948, -87.645817429], [41.814324761, -87.619729627], [41.78490137, -87.61325803], [41.910898029, -87.678266938], [41.994569349, -87.658891221], [41.746420222, -87.685533607], [41.938337123, -87.832464791], [41.903127397, -87.680858986], [41.883500187, -87.627876698], [41.924858789, -87.692032725], [41.788302992, -87.622302732], [41.865474657, -87.717833381], [41.67550558, -87.644267325], [41.691825228, -87.659851675], [41.858033577, -87.727375485], [41.933582379, -87.645517082], [41.945382757, -87.655711997], [41.868541914, -87.639235361], [41.891001621, -87.713743042], [41.736259984, -87.628068782], [41.73680993, -87.593332557], [41.718645009, -87.551026002], [41.873219626, -87.675868666], [41.773940969, -87.644637166], [41.837157868, -87.645042344], [41.814563821, -87.604481355], [41.838227796, -87.632282365], [41.752793661, -87.565039851], [41.757564495, -87.62635854], [41.959060125, -87.781870199], [41.891579621, -87.634674198], [41.833850263, -87.672004168], [41.866417212, -87.704893983], [41.665814864, -87.558853882], [41.932191946, -87.64474923], [41.955940809, -87.650335501], [41.764273074, -87.582057311], [41.818113352, -87.703018596], [41.870493737, -87.730217085], [41.767363413, -87.581258802], [41.991023949, -87.701845254], [41.908697313, -87.711867343], [41.932081373, -87.763815457], [41.762628532, -87.565758243], [41.874382929, -87.627286678], [41.940318272, -87.644408194], [41.803950638, -87.591878288], [41.756059892, -87.710651968], [41.799574989, -87.764942568], [41.844023772, -87.626923253], [41.947225886, -87.655545441], [41.803667488, -87.590528166], [41.867665162, -87.703266353], [41.853487339, -87.725487677], [41.969141861, -87.651036578], [41.889906681, -87.624100509], [41.876725028, -87.694522703], [41.981645726, -87.713692572], [41.768162337, -87.642037679], [41.904432531, -87.630001011], [42.013789392, -87.673009867], [41.780205242, -87.617545241], [41.760482637, -87.655663249], [41.733701748, -87.630668711], [41.774289235, -87.742139379], [41.778588251, -87.66907461], [41.70608361, -87.636188105], [41.755683188, -87.615061714], [41.781637519, -87.727732313], [41.749330381, -87.658562005], [41.880463209, -87.648885189], [41.824589398, -87.687134703], [41.82254499, -87.665557031], [41.816062126, -87.624644373], [41.880521497, -87.644863603], [41.899048297, -87.723072278], [41.918623914, -87.708963871], [41.887540805, -87.704595185], [41.739293523, -87.585701141], [41.898795648, -87.67103697], [41.947172465, -87.657655995], [41.996713275, -87.789907149], [41.903996883, -87.643230238], [41.73674242, -87.655795635], [41.766084395, -87.649288508], [41.994913946, -87.881937669], [41.681648141, -87.621867369], [41.773456402, -87.653125472], [41.707535651, -87.55501338], [41.890053273, -87.628744799], [41.902829815, -87.638551885], [41.893140033, -87.624204307], [41.93859561, -87.649576033], [41.930948469, -87.789958559], [41.867802818, -87.65749014], [41.793091927, -87.665778491], [41.891840843, -87.613431785], [41.878766284, -87.73414915], [41.874180626, -87.66785807], [41.911183843, -87.672591557], [41.878523519, -87.750972878], [41.882979549, -87.689187044], [41.763456466, -87.579306774], [41.752824683, -87.556998874], [41.948068465, -87.643126381], [41.779573486, -87.727671073], [41.876607964, -87.627644063], [41.892816145, -87.624193198], [41.864007298, -87.706819251], [41.918959023, -87.729547829], [41.765784983, -87.683271465], [41.777366068, -87.604635062], [41.809383242, -87.695459966], [41.997335453, -87.762608606], [41.911560858, -87.678043401], [41.750690464, -87.602741685], [42.006277575, -87.6887689], [41.964332396, -87.656790803], [41.677862713, -87.63739326], [41.766670125, -87.571417416], [41.897677382, -87.755669427], [41.879381337, -87.634201201], [41.881756669, -87.686445186], [41.769417774, -87.569856281], [41.893159862, -87.677886276], [41.905071009, -87.714191118], [41.883224548, -87.625004345], [41.756077103, -87.606569167], [41.884498005, -87.625915709], [41.799865968, -87.707415083], [41.995935323, -87.731333358], [41.713474994, -87.638151964], [41.750559869, -87.561365154], [41.729636179, -87.66166598], [41.903996883, -87.643230238], [41.975678397, -87.772106296], [41.709698749, -87.651424807], [41.933839668, -87.767548498], [41.897710985, -87.751996018], [41.769798702, -87.651811437], [41.891162606, -87.684264182], [41.88100737, -87.703205068], [41.931582647, -87.742772889], [41.7623881, -87.56100347], [41.686837954, -87.614414823], [41.978823809, -87.659936381], [41.777658506, -87.613148415], [41.86192972, -87.712852719], [41.868541914, -87.639235361], [41.881828083, -87.643545951], [41.818485007, -87.688399367], [41.869892811, -87.684901622], [41.879901533, -87.627721661], [41.794625517, -87.627146908], [41.86821682, -87.6304532], [41.774096904, -87.598491139], [41.880708104, -87.629919733], [41.966423327, -87.727518725], [41.964783198, -87.69773991], [41.907596343, -87.688381236], [41.788392671, -87.619063915], [41.993613762, -87.656922219], [41.883256053, -87.734709457], [41.707535018, -87.600839053], [41.788766124, -87.716697594], [41.76179982, -87.688061969], [41.798792341, -87.595007398], [41.722768379, -87.624410361], [41.952646491, -87.656609271], [41.880346918, -87.757198912], [41.994019837, -87.713281946], [41.750548727, -87.593031862], [41.677800003, -87.642921387], [41.895675136, -87.628569146], [41.885495793, -87.618644375], [41.948321378, -87.718018572], [41.882394062, -87.627844798], [41.806074374, -87.666120559], [41.749217947, -87.556485311], [41.859978103, -87.706704403], [41.86821682, -87.6304532], [41.693627203, -87.644853835], [41.705432661, -87.53528526], [41.810731245, -87.739588864], [41.86821682, -87.6304532], [41.809519255, -87.60742163], [41.907571182, -87.675240787], [41.998103671, -87.668264445], [41.728866416, -87.585474026], [41.792974653, -87.723151723], [41.75929907, -87.612693997], [41.855524939, -87.6978538], [41.690094161, -87.623030124], [42.000982305, -87.660725562], [41.772935266, -87.581402676], [41.699138658, -87.608397033], [41.689684448, -87.666405656], [41.890051565, -87.62891376], [41.866428839, -87.703509785], [41.93521533, -87.785828103], [41.872618794, -87.726760428], [41.68613287, -87.642184302], [41.793961228, -87.644290868], [41.744075903, -87.596173259], [41.927992712, -87.641913321], [41.961930983, -87.707048472], [41.884481993, -87.630010542], [41.794406612, -87.583931489], [41.738574342, -87.55752594], [41.881088946, -87.77182211], [41.836063148, -87.659897487], [41.779059693, -87.615596501], [41.912357382, -87.747215593], [41.74935839, -87.610815296], [41.721984478, -87.560707265], [41.742205517, -87.555159121], [41.878638996, -87.627691486], [42.015625999, -87.702915644], [41.936924549, -87.648222979], [42.016607113, -87.675302757], [41.766251831, -87.649294061], [41.96137851, -87.65474101], [41.925193172, -87.665013155], [41.761308737, -87.661280805], [41.952932116, -87.785272115], [41.886136606, -87.668211422], [41.902373081, -87.744919221], [41.959125819, -87.747485772], [41.904884202, -87.670404654], [41.897350739, -87.657134606], [41.810624947, -87.74079299], [41.664529691, -87.628222637], [41.738736762, -87.647340089], [41.92073758, -87.681421845], [41.751556088, -87.664677158], [41.869505349, -87.639268997], [41.868541914, -87.639235361], [41.758259053, -87.592001315], [41.974307765, -87.656357944], [41.749632061, -87.585815728], [41.805389211, -87.727185919], [41.745362374, -87.582937407], [41.903304304, -87.670064675], [41.852176839, -87.623787044], [41.968549875, -87.696547837], [41.924087213, -87.757716872], [41.906613775, -87.692770071], [41.884903932, -87.746666005], [42.006418233, -87.681603789], [41.914656163, -87.641520873], [41.902911508, -87.628540999], [41.854739103, -87.72972276], [41.725437043, -87.556669285], [41.783306396, -87.61448584], [41.929627277, -87.785659069], [41.884124476, -87.699649009], [41.883480183, -87.670585564], [41.854845831, -87.630739105], [41.894860447, -87.764194002], [41.928281521, -87.756301095], [41.895420644, -87.720539406], [41.82756678, -87.67886766], [41.978553994, -87.699794925], [41.830954079, -87.630703226], [41.824844967, -87.633789553], [41.838231521, -87.659030723], [41.873699424, -87.704705156], [41.778624497, -87.695816201], [41.77255742, -87.574023883], [41.748650066, -87.621318608], [41.779930114, -87.591480454], [41.699802766, -87.629137387], [41.766845203, -87.720899422], [41.878556976, -87.748376464], [41.941572551, -87.719921272], [41.727526285, -87.562087901], [41.815610077, -87.65059596], [41.948131367, -87.649510899], [41.781721242, -87.638291589], [41.915113324, -87.79617722], [41.96846674, -87.783473221], [41.764708006, -87.563193271], [41.889998232, -87.656551077], [41.741763335, -87.694392814], [41.929896671, -87.659830162], [41.891322875, -87.753721369], [41.791538717, -87.686414326], [41.854032372, -87.674530897], [41.76629309, -87.56179972], [41.776012863, -87.716599804], [41.858388522, -87.715192247], [41.808500903, -87.616562762], [41.889906681, -87.624100509], [41.887904127, -87.625554948], [41.820321877, -87.611089368], [41.794514849, -87.730552204], [41.785930664, -87.723266186], [41.837489008, -87.646264459], [41.717342188, -87.617660843], [41.903775756, -87.639324074], [41.995420765, -87.814826776], [41.752879083, -87.561406996], [41.866578077, -87.624134464], [41.724407466, -87.655456351], [41.92444126, -87.677867518], [41.937622698, -87.744378444], [41.819697049, -87.623111162], [41.858670972, -87.64289918], [41.737682297, -87.716955682], [41.883047996, -87.682829673], [41.669647271, -87.638030767], [41.835947057, -87.734045986], [41.750391991, -87.622977784], [41.736247305, -87.647278649], [41.934095274, -87.75988346], [41.853622744, -87.625514585], [41.895512894, -87.71065087], [41.942249453, -87.642913469], [41.68985501, -87.624299546], [41.935652407, -87.653962672], [41.884335468, -87.619164088], [41.893481171, -87.658501324], [41.891012068, -87.637016229], [41.852397931, -87.662401967], [41.856106646, -87.625571623], [41.939390544, -87.64437775], [41.937047475, -87.743516351], [41.998419231, -87.809181082], [41.872709056, -87.624187857], [41.930049492, -87.685920733], [41.762968721, -87.61277756], [41.689684448, -87.666405656], [41.855862215, -87.723622495], [41.910764867, -87.658120918], [41.68493097, -87.710873325], [41.877427291, -87.696946533], [41.847406459, -87.711213019], [41.827695774, -87.678870015], [41.737750767, -87.604855911], [41.763025716, -87.578069247], [41.70287272, -87.605205786], [41.744343706, -87.660856799], [42.006051211, -87.69738449], [41.657297496, -87.598729919], [41.7211947, -87.664024973], [41.774204589, -87.716129543], [41.83035767, -87.678380576], [41.732826881, -87.551322889], [41.849406811, -87.713711489], [42.01526807, -87.672457312], [41.942015183, -87.784608429], [41.746292134, -87.634184899], [41.894898559, -87.759720016], [41.946856632, -87.646973435], [41.66403118, -87.556840423], [41.808606225, -87.602788251], [41.761594665, -87.577041413], [41.759747447, -87.576161461], [41.953443907, -87.745067332], [41.793080408, -87.737019782], [41.754197318, -87.60527834], [41.910706493, -87.701880706], [41.658369486, -87.646492007], [41.937238639, -87.805338072], [41.963731501, -87.782021117], [41.931253384, -87.806511995], [41.886035383, -87.648653112], [41.800353336, -87.690319622], [41.882684641, -87.769843487], [41.781022442, -87.687850954], [41.909786287, -87.633105375], [41.776220487, -87.703777248], [41.766283958, -87.643194177], [41.924413506, -87.699812707], [41.893990113, -87.702155577], [41.881961095, -87.699483103], [42.008003927, -87.683946124], [41.923259962, -87.703127555], [41.99355232, -87.682367785], [41.937959007, -87.662612153], [41.765356567, -87.600676573], [41.921463921, -87.673580498], [41.814609283, -87.695628215], [41.765686361, -87.616412706], [41.882837304, -87.702118463], [41.965390764, -87.658037135], [41.822488299, -87.600876789], [41.801835198, -87.601354112], [41.680796916, -87.634762525], [41.885730611, -87.625542215], [41.727521881, -87.546862958], [41.70269259, -87.52685268], [41.898061071, -87.7237208], [41.718849321, -87.572876298], [41.935433892, -87.678221729], [41.904394115, -87.630001432], [41.721491857, -87.575332343], [41.995118945, -87.660423113], [41.961158296, -87.652309344], [41.89675813, -87.681360915], [41.797652872, -87.757555098], [41.874441971, -87.720743516], [41.895746991, -87.623749402], [41.959123447, -87.653463411], [41.865474657, -87.717833381], [41.711714647, -87.642954141], [41.745246262, -87.606280915], [41.95273391, -87.704315149], [41.942452138, -87.793422628], [41.975370278, -87.744023432], [41.737770715, -87.643664418], [41.716517432, -87.622731926], [41.837489008, -87.646264459], [41.768003513, -87.663875893], [41.783020354, -87.620549828], [41.916078113, -87.726525434], [41.697529691, -87.59491083], [41.801864216, -87.593461078], [41.653793121, -87.597467064], [41.89005993, -87.770707859], [41.920487106, -87.711973421], [41.719981579, -87.551039095], [41.885368351, -87.635402906], [41.887505072, -87.64752832], [41.970599981, -87.714649091], [41.873412306, -87.728401524], [41.779112173, -87.693695901], [41.951630077, -87.643977597], [41.907153315, -87.639680572], [41.881476477, -87.66483362], [41.917793963, -87.687415117], [41.893134345, -87.63808401], [41.877532811, -87.672387519], [41.935428755, -87.783400598], [41.932285508, -87.644792324], [41.894532913, -87.712625401], [41.690034845, -87.609564679], [41.702038254, -87.565131679], [41.883981258, -87.711097033], [41.836126824, -87.618221478], [41.893823075, -87.773113629], [41.853622744, -87.625514585], [41.939921575, -87.668825269], [41.798515785, -87.686608215], [41.7211947, -87.664024973], [41.877981539, -87.644608125], [41.814078805, -87.643253583], [41.8471621004112, -87.66884486839668], [41.797493905, -87.63307489], [41.837704472, -87.735306636], [41.792012424, -87.798229342], [41.866341527, -87.711154301], [41.974342386, -87.74693446], [41.912831524, -87.642021866], [41.680758108, -87.621727083], [41.96855012, -87.696591961], [41.942693122, -87.650565121], [41.882206095, -87.767398322], [41.867575044, -87.719564481], [41.891694878, -87.626155832], [41.785519673, -87.738567526], [41.729618252, -87.551244573], [41.756496183, -87.55289378], [41.810729022, -87.601726053], [41.873997618, -87.750848737], [41.868252211, -87.735040369], [41.877481507, -87.677319464], [41.898728332, -87.744306205], [41.875940367, -87.743821518], [41.735657817, -87.738459885], [41.772949786, -87.696895204], [41.894948258, -87.754856588], [41.925347418, -87.655280983], [41.967665781, -87.662730846], [41.961158296, -87.652309344], [41.868541914, -87.639235361], [41.828099344, -87.703441663], [41.880982172, -87.774687321], [41.903630323, -87.688274215], [41.782804311, -87.6237751], [41.955045693, -87.66423078], [41.967959136, -87.75337284], [42.021783688, -87.670715337], [41.969805448, -87.75163882], [41.872507156, -87.686196995], [41.788546918, -87.737564158], [41.778585499, -87.606520394], [41.746034507, -87.585007313], [41.847387855, -87.724642545], [41.998357581, -87.704553989], [41.885927479, -87.633935196], [41.779248562, -87.604621083], [41.719886226, -87.652906836], [41.703995929, -87.564456533], [41.762635413, -87.642965703], [41.970009106, -87.672631167], [41.783283798, -87.615699723], [41.782175463, -87.609196724], [41.682192242, -87.637222142], [41.901834826, -87.631972713], [41.785621124, -87.686253817], [41.930896787, -87.697587655], [41.879494016, -87.745933342], [41.736625423, -87.60656135], [41.784903215, -87.620594973], [41.811882738, -87.707837332], [41.823125769, -87.602725951], [41.845369904, -87.711155677], [41.84785572, -87.645162578], [41.980919411, -87.655110993], [41.720258781, -87.551043058], [41.78258496, -87.787557465], [41.876579452, -87.653395319], [41.826839247, -87.631408649], [41.684036876, -87.639109598], [41.923245251, -87.73896576], [41.750224946, -87.664650661], [41.815057082, -87.702674389], [41.925484454, -87.646937984], [41.995964329, -87.686713555], [41.870538687, -87.717997752], [41.800795006, -87.60133661], [41.810707298, -87.603919835], [41.772366502, -87.608188953], [41.918911346, -87.650965665], [41.935361214, -87.644241031], [41.871148881, -87.687194679], [41.894997208, -87.621877156], [41.812061934, -87.685213776], [41.869992943, -87.711441988], [41.919072818, -87.767517288], [41.925006976, -87.761100326], [41.699714467, -87.636260563], [41.708531633, -87.6174546], [41.939622671, -87.674099046], [41.872848343, -87.76299041], [41.949283608, -87.643036076], [41.883500187, -87.627876698], [42.002156555, -87.672015393], [41.744225323, -87.64871076], [41.906844206, -87.755880686], [41.870974157, -87.704162766], [41.910091152, -87.708789863], [41.78205732, -87.70322518], [41.880362084, -87.755847438], [41.780946398, -87.621995369], [41.823903541, -87.611588441], [41.777698673, -87.660981395], [41.972749328, -87.728153813], [41.949919882, -87.662883796], [41.783917378, -87.613888694], [41.880487595, -87.745964635], [41.779975054, -87.630937377], [41.707326665, -87.613029338], [41.682494068, -87.626869725], [41.788987036, -87.74147999], [41.970574181, -87.736735129], [41.828312991, -87.626497936], [41.801533278, -87.648977629], [41.776939005, -87.6471421], [41.905418559, -87.692014248], [41.857533855, -87.625603607], [41.909760125, -87.63466702], [41.749413676, -87.66341677], [41.880628389, -87.733911427], [41.846410419, -87.698696391], [41.93206471, -87.777211263], [41.654400773, -87.615880738], [41.938995727, -87.650869198], [41.760412801, -87.561499974], [41.880808929, -87.760136144], [41.898160974, -87.637496886], [41.917035912, -87.737013586], [41.747645513, -87.603366198], [41.932740526, -87.704996746], [41.903478069, -87.631433102], [41.87513314, -87.670275252], [41.855574302, -87.71189003], [41.880487595, -87.745964635], [41.939315143, -87.70942733], [41.890300993, -87.763386087], [41.783180422, -87.61892744], [41.941286092, -87.649308375], [41.751254843, -87.606920408], [41.759126893, -87.629632724], [41.883090072, -87.680089738], [41.761324418, -87.557908051], [41.882167028, -87.711044863], [41.66747718, -87.636784105], [41.903586496, -87.690735859], [41.90414203, -87.662631926], [42.018563914, -87.665832222], [41.862419531, -87.713607897], [42.022236277, -87.667361602], [41.967896644, -87.758407406], [41.896714548, -87.625340136], [41.7885061, -87.622307822], [41.892485711, -87.627127745], [41.919609592, -87.675627844], [41.863588895, -87.703075093], [41.776092657, -87.615523266], [41.896768032, -87.680688647], [41.960839828, -87.737667913], [41.73633019, -87.592986331], [41.725032405, -87.649768089], [41.878370307, -87.707248137], [41.881738489, -87.751259495], [41.937791516, -87.674922818], [41.990041584, -87.65891695], [41.751928332, -87.644077264], [41.770612086, -87.702948621], [41.769231153, -87.569854828], [41.683936153, -87.721865668], [41.787513518, -87.692409684], [41.887795397, -87.767249835], [41.830359159, -87.678160406], [41.792195498, -87.604958508], [41.932880787, -87.711099744], [41.73585412, -87.658739723], [41.769819793, -87.574617034], [41.958474197, -87.65087832], [41.677114306, -87.637071876], [41.880275658, -87.723210536], [41.870896112, -87.711499322], [41.894121219, -87.712614696], [41.783999869, -87.609110197], [41.697900373, -87.635793146], [41.721898302, -87.613793377], [41.888709801, -87.713673374], [41.791160785, -87.579836586], [41.820248497, -87.616020877], [41.809428695, -87.69179513], [41.757678154, -87.741643133], [41.81789821, -87.726253559], [41.909636288, -87.745300725], [41.84738725, -87.711213205], [41.917112279, -87.730616063], [41.656889755, -87.599342009], [41.787382824, -87.624388303], [41.927342068, -87.785237638], [41.887475918, -87.709807121], [41.858679577, -87.667596658], [41.891803176, -87.647632927], [41.779700827, -87.647779934], [41.994797921, -87.701973488], [41.884453785, -87.651266342], [41.876619083, -87.758065916], [41.837679775, -87.735306866], [41.894376732, -87.631194856], [41.713416282, -87.642979883], [41.760139244, -87.690461014], [41.989958168, -87.670508463], [41.755167631, -87.650221725], [41.739550203, -87.714732046], [41.808744843, -87.740740624], [41.888081232, -87.628024615], [41.775843363, -87.703066039], [41.995323698, -87.656974008], [41.770155037, -87.682501515], [41.976762981, -87.900983721], [41.921222649, -87.731569485], [41.93649285, -87.644868355], [41.758970818, -87.624778076], [42.019399237, -87.675049485], [41.886483926, -87.765083641], [42.012149954, -87.696109447], [41.980840024, -87.65653885], [41.970208479, -87.789636056], [41.941998797, -87.808095972], [41.736345248, -87.623198545], [41.875945922, -87.743300063], [41.965078942, -87.72549442], [41.816569249, -87.621003344], [41.777534928, -87.640807833], [41.843431774, -87.723307463], [41.946370988, -87.650669238], [41.970281428, -87.657654526], [41.884295747, -87.646850211], [41.84876345, -87.640040128], [41.890143069, -87.687906772], [41.849604126, -87.658628684], [41.878278759, -87.67901144], [41.770374317, -87.621822582], [41.797995321, -87.596105763], [41.924198765, -87.74937447], [41.745364352, -87.591695287], [41.880186421, -87.768532463], [41.88042268, -87.651298196], [41.763337967, -87.597001131], [42.003832654, -87.69370163], [41.95391599, -87.708715119], [41.93207696, -87.700596846], [41.903222669, -87.675432381], [41.884682508, -87.752775164], [41.888165132, -87.622937212], [41.903865045, -87.633688035], [41.737244078, -87.65337949], [41.943156446, -87.786263743], [41.895513193, -87.710705961], [41.918711651, -87.76551063], [41.876198537, -87.723884551], [41.805914143, -87.604957189], [41.926830006, -87.731740953], [41.960103255, -87.792321387], [41.96009668, -87.727802934], [41.858346536, -87.721187148], [41.874893779, -87.697338847], [41.879450552, -87.628464704], [41.747848401, -87.667016967], [41.806939175, -87.616525152], [41.895479821, -87.714177247], [41.769804262, -87.576006549], [41.786019997, -87.652237343], [41.881088655, -87.720764494], [41.961852026, -87.702151769], [41.890687124, -87.724723785], [41.887902159, -87.636903101], [41.702125022, -87.530452128], [41.831470832, -87.666755863], [41.778321993, -87.586402872], [41.811236969, -87.746146532], [41.876017097, -87.738478253], [41.882151417, -87.706157302], [41.975667698, -87.668361858], [41.946221444, -87.708253555], [41.939266315, -87.713077565], [41.754823635, -87.551092573], [41.921367205, -87.765891278], [41.877470199, -87.678222877], [41.937374325, -87.76645507], [41.79866836, -87.669575097], [41.818348931, -87.622557432], [41.751208125, -87.609519228], [41.973111425, -87.684903785], [41.982777739, -87.656591889], [41.742386051, -87.652306588], [41.885426371, -87.630966024], [41.736711088, -87.663087144], [41.943985494, -87.668779396], [41.753008079, -87.561409115], [41.889996763, -87.632965299], [41.972359593, -87.728142793], [41.907836031, -87.744222489], [41.909672081, -87.640972191], [41.736114753, -87.616133475], [41.744248219, -87.657211779], [41.727518395, -87.665574894], [41.772080515, -87.623475385], [41.847571146, -87.711218763], [41.889179572, -87.633062369], [41.853502636, -87.654718935], [41.737440483, -87.61617002], [41.907556016, -87.677386363], [41.78414577, -87.666762284], [41.672563981, -87.621802701], [41.882880585, -87.698023476], [41.885871785, -87.632452147], [41.88537149, -87.630966625], [41.711303178, -87.678140192], [41.900505589, -87.699285044], [41.761245409, -87.634565067], [41.803700402, -87.684293093], [41.753479344, -87.668373369], [41.670596065, -87.636095316], [41.993673966, -87.655497959], [41.974367233, -87.713531445], [41.870221805, -87.68923437], [42.002589628, -87.673357469], [41.811502543, -87.669908472], [41.89047864, -87.6176523], [41.750337894, -87.720327078], [41.917371725, -87.70931778], [41.932012618, -87.640940116], [41.680575852, -87.660261843], [41.751383531, -87.552889749], [41.889128481, -87.63729744], [41.894945606, -87.754874977], [41.910764867, -87.658120918], [41.779249823, -87.683989751], [41.807887928, -87.722790148], [41.833985056, -87.641315151], [41.786726559, -87.623882188], [41.8711618, -87.737810984], [41.722492407, -87.573500026], [41.932892097, -87.640250708], [41.809742396, -87.674970229], [41.938936167, -87.738856828], [41.974530757, -87.718424632], [41.764031265, -87.688120251], [41.876335152, -87.629248001], [41.899789041, -87.684492727], [41.760912265, -87.623198973], [41.87725848, -87.712227112], [41.749466069, -87.636693716], [41.885495793, -87.618644375], [42.009484989, -87.704503288], [41.819530175, -87.604359005], [41.943339034, -87.718746488], [41.988630807, -87.812829371], [41.939262335, -87.71335694], [41.979688432, -87.678470776], [41.907589272, -87.763849514], [41.715931826, -87.599421473], [41.707519433, -87.601839023], [41.683349018, -87.63519253], [41.796248561, -87.684096904], [41.90316534, -87.629210442], [41.792264444, -87.615914925], [41.68894367, -87.623818953], [41.901130843, -87.768043044], [41.884276844, -87.622098929], [41.921904892, -87.642636783], [41.758739878, -87.589118634], [41.788999971, -87.704653287], [41.909325455, -87.769781921], [41.780595495, -87.68367553], [41.899056352, -87.722006979], [41.766260198, -87.574164122], [41.89190808, -87.755490028], [41.813532384, -87.671175093], [41.70036755, -87.542561702], [41.954030685, -87.778031342], [41.885772059, -87.665449875], [41.929743818, -87.684273777], [41.831562752, -87.65433795], [41.750532119, -87.618138846], [41.708427808, -87.625948624], [41.92670174, -87.763624447], [41.834690813, -87.613705645], [41.897930731, -87.63573262], [41.923181107, -87.726700657], [41.917605006, -87.73880132], [41.730428469, -87.655916941], [41.800301097, -87.667185355], [41.956578625, -87.715446493], [41.854498094, -87.723580391], [41.880486258, -87.725665179], [41.896888586, -87.628203192], [41.88221489, -87.677722731], [41.864982335, -87.710502987], [41.92435608, -87.737265119], [41.783174011, -87.61569728], [41.961900693, -87.693591729], [41.777420064, -87.634979772], [41.832362208, -87.616982778], [41.776017131, -87.716372462], [41.681613823, -87.627875085], [41.859994784, -87.641255043], [41.881624191, -87.629391908], [41.887384696, -87.755317787], [41.868043292, -87.624099912], [41.805910471, -87.733955535], [41.750940252, -87.572310749], [41.877390613, -87.700240625], [41.812097846, -87.621287653], [41.762477082, -87.708310063], [41.955756115, -87.649734538], [41.799323177, -87.723337222], [41.866331725, -87.666379171], [41.854739195, -87.710213289], [41.763339293, -87.64731268], [41.876683313, -87.624283454], [41.884628392, -87.763337352], [41.871385188, -87.720288053], [42.007933629, -87.664534142], [41.969762615, -87.654835892], [41.93915143, -87.663797862], [41.756595889, -87.597532667], [41.777781074, -87.703109392], [41.877417089, -87.650727958], [41.807314691, -87.601654864], [41.747746453, -87.664584768], [41.906857592, -87.649396829], [41.692576964, -87.623786349], [41.735237218, -87.656969223], [41.890994834, -87.666005141], [41.67527685, -87.641824604]],\n",
       "                {\n",
       "  &quot;minOpacity&quot;: 0.5,\n",
       "  &quot;maxZoom&quot;: 18,\n",
       "  &quot;radius&quot;: 8,\n",
       "  &quot;blur&quot;: 6,\n",
       "}\n",
       "            );\n",
       "        \n",
       "    \n",
       "            heat_map_54157131186812208fd4f1c0ea600308.addTo(map_577a4bdfe42f04b06d9b7d698eea0b54);\n",
       "        \n",
       "    \n",
       "            tile_layer_f1310a4c216a386a5323016c74a7e3c8.addTo(map_577a4bdfe42f04b06d9b7d698eea0b54);\n",
       "        \n",
       "    \n",
       "            heat_map_54157131186812208fd4f1c0ea600308.addTo(map_577a4bdfe42f04b06d9b7d698eea0b54);\n",
       "        \n",
       "&lt;/script&gt;\n",
       "&lt;/html&gt;\" style=\"position:absolute;width:100%;height:100%;left:0;top:0;border:none !important;\" allowfullscreen webkitallowfullscreen mozallowfullscreen></iframe></div></div>"
      ],
      "text/plain": [
       "<folium.folium.Map at 0x1973b00da70>"
      ]
     },
     "execution_count": 119,
     "metadata": {},
     "output_type": "execute_result"
    }
   ],
   "source": [
    "kriminaldata = sin[['Latitude','Longitude']].dropna().sample(5000)  # sample para mabilis mag-render\n",
    "\n",
    "# Initialize map centered on Chicago\n",
    "kriminal_map = folium.Map(location=[41.8781, -87.6298], zoom_start=11)\n",
    "\n",
    "# Add heatmap\n",
    "HeatMap(data=kriminaldata[['Latitude','Longitude']], radius=8, blur=6).add_to(kriminal_map)\n",
    "\n",
    "kriminal_map.save(\"chicago_crime_heatmap.html\")\n",
    "kriminal_map"
   ]
  },
  {
   "cell_type": "markdown",
   "id": "e5dd5fc3-11c6-4bf5-bb7a-390f2a9d6316",
   "metadata": {},
   "source": [
    "Insight 31: Industrial zones record lower crime counts, possibly because they are less populated after working hours.\n",
    "\n",
    "Insight 32: Major transit hubs and highways attract clusters of crime, showing offenders may target busy areas with heavy movement.\n",
    "\n",
    "Insight 33: Lakefront areas and suburban borders see fewer crimes, proving crime stays centered in the inner city.\n",
    "\n",
    "Insight 34: Crimes near entertainment districts spike at night, hinting at nightlife influence on offense patterns.\n",
    "\n",
    "Insight 35: Crime is mostly concentrated in downtown Chicago, where both people and businesses are packed together."
   ]
  },
  {
   "cell_type": "code",
   "execution_count": null,
   "id": "3a211f2c-7b80-4b33-ac4b-0a02a955f2fe",
   "metadata": {},
   "outputs": [],
   "source": []
  }
 ],
 "metadata": {
  "kernelspec": {
   "display_name": "Python 3 (ipykernel)",
   "language": "python",
   "name": "python3"
  },
  "language_info": {
   "codemirror_mode": {
    "name": "ipython",
    "version": 3
   },
   "file_extension": ".py",
   "mimetype": "text/x-python",
   "name": "python",
   "nbconvert_exporter": "python",
   "pygments_lexer": "ipython3",
   "version": "3.13.2"
  }
 },
 "nbformat": 4,
 "nbformat_minor": 5
}
